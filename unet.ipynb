{
 "cells": [
  {
   "metadata": {},
   "cell_type": "markdown",
   "source": "[![Open In Colab](https://colab.research.google.com/assets/colab-badge.svg)](https://colab.research.google.com/github/xiptos/is_notes/blob/main/unet.ipynb)",
   "id": "1297416291ce6ae4"
  },
  {
   "metadata": {},
   "cell_type": "markdown",
   "source": [
    "# Introduction\n",
    "\n",
    "This notebook explores the use of the U-Net architecture for segmentation. It will predict the outcome of the fashion images from the [Zalando's article images](https://github.com/zalandoresearch/fashion-mnist) (Fashion-MNIST).\n",
    "\n",
    "The guide contains the most elementary PyTorch elements to create and evaluate a network.\n",
    " "
   ],
   "id": "e0ec163036590e13"
  },
  {
   "metadata": {
    "ExecuteTime": {
     "end_time": "2024-06-23T10:28:57.937476Z",
     "start_time": "2024-06-23T10:28:57.932975Z"
    }
   },
   "cell_type": "code",
   "source": [
    "import zipfile\n",
    "from pathlib import Path\n",
    "\n",
    "import requests\n",
    "import torchvision.io\n",
    "\n",
    "url = 'https://data.vision.ee.ethz.ch/csergi/share/davis/DAVIS-2017-trainval-480p.zip'\n",
    "\n",
    "\n",
    "def download_url(url, save_path, chunk_size=128):\n",
    "    path = Path(save_path)\n",
    "    if not path.exists():\n",
    "        dir = path.parent.absolute()\n",
    "        dir.mkdir(exist_ok=True)\n",
    "        r = requests.get(url, stream=True)\n",
    "        with open(save_path, 'wb') as fd:\n",
    "            for chunk in r.iter_content(chunk_size=chunk_size):\n",
    "                fd.write(chunk)\n",
    "        with zipfile.ZipFile('davis2017/DAVIS-2017-trainval-480p.zip', 'r') as zip:\n",
    "            zip.extractall(dir)\n"
   ],
   "id": "29c93c9eca024876",
   "outputs": [],
   "execution_count": 7
  },
  {
   "metadata": {
    "ExecuteTime": {
     "end_time": "2024-06-23T10:28:59.703336Z",
     "start_time": "2024-06-23T10:28:59.701211Z"
    }
   },
   "cell_type": "code",
   "source": "download_url(url, \"davis2017/DAVIS-2017-trainval-480p.zip\")",
   "id": "aa964655fce1105d",
   "outputs": [],
   "execution_count": 8
  },
  {
   "metadata": {
    "ExecuteTime": {
     "end_time": "2024-06-23T10:39:26.189937Z",
     "start_time": "2024-06-23T10:39:26.182615Z"
    }
   },
   "cell_type": "code",
   "source": [
    "import numpy as np\n",
    "# found in https://github.com/kmaninis/OSVOS-PyTorch/blob/master/dataloaders/davis_2016.py\n",
    "\n",
    "from torchvision.transforms import Pad\n",
    "import os\n",
    "from PIL import Image\n",
    "from torch.utils.data import Dataset\n",
    "\n",
    "\n",
    "class DAVIS2017(Dataset):\n",
    "    \"\"\"DAVIS 2017 dataset constructed using the PyTorch built-in functionalities\"\"\"\n",
    "\n",
    "    def __init__(self, train=True,\n",
    "                 db_root_dir='davis2017/DAVIS',\n",
    "                 transform=None,\n",
    "                 seq_name=None,\n",
    "                 pad_mirroring=None):\n",
    "        \"\"\"Loads image to label pairs for tool pose estimation\n",
    "        db_root_dir: dataset directory with subfolders \"JPEGImages\" and \"Annotations\"\n",
    "        Parameters:\n",
    "            train (bool): if true the os.path.join will lead to the train set, otherwise to the val set\n",
    "            inputRes (tuple): image size after reshape (HEIGHT, WIDTH)\n",
    "            db_root_dir (path): path to the DAVIS2017 dataset\n",
    "            transform: set of Albumentation transformations to be performed with A.Compose\n",
    "            meanval (tuple): set of magic weights used for normalization (np.subtract(im, meanval))\n",
    "            seq_name (str): name of a class: i.e. if \"bear\" one im of \"bear\" class will be retrieved\n",
    "        \"\"\"\n",
    "        self.train = train\n",
    "        self.db_root_dir = db_root_dir\n",
    "        self.transform = transform\n",
    "        self.seq_name = seq_name\n",
    "        self.pad_mirroring = pad_mirroring\n",
    "\n",
    "        if self.train == 1:\n",
    "            fname = 'train'\n",
    "        elif self.train == 0:\n",
    "            fname = 'val'\n",
    "        else:\n",
    "            fname = \"test-dev\"\n",
    "\n",
    "        if self.seq_name is None:\n",
    "\n",
    "            # Initialize the original DAVIS splits for training the parent network\n",
    "            # even though we could avoid using the txt files, we might have to use them\n",
    "            # due to consistency: maybe some sub-folders shouldn't be included and we know which\n",
    "            # to consider in the .txt file only\n",
    "            with open(os.path.join(db_root_dir, \"ImageSets/2017\", fname + '.txt')) as f:\n",
    "                seqs = f.readlines()\n",
    "                img_list = []\n",
    "                labels = []\n",
    "                for seq in seqs:\n",
    "                    # why sort? And are we using np.sort cause we need the data-structure to be np.array\n",
    "                    # instead of a list? Maybe it's faster\n",
    "                    images = np.sort(os.listdir(os.path.join(db_root_dir, 'JPEGImages/480p/', seq.strip())))\n",
    "                    # why using lambda? map applies a given function to each item of an iterable. Apparently\n",
    "                    # lambda here has two purposes: 1) makes the os.path.join a function as first arg of map()\n",
    "                    # 2) provides an argument x for os.path.join(root_folder, sub_folder, x=image)\n",
    "                    images_path = list(map(lambda x: os.path.join('JPEGImages/480p/', seq.strip(), x), images))\n",
    "                    # here we're creating a list of all the path to the images\n",
    "                    img_list.extend(images_path)\n",
    "                    # same thing for the labels\n",
    "                    lab = np.sort(os.listdir(os.path.join(db_root_dir, 'Annotations/480p/', seq.strip())))\n",
    "                    lab_path = list(map(lambda x: os.path.join('Annotations/480p/', seq.strip(), x), lab))\n",
    "                    labels.extend(lab_path)\n",
    "\n",
    "                    # what if we wanted to create the labels for a simple classification task?\n",
    "                    #lab = [seq.strip() for i in range(len(os.listdir(os.path.join\n",
    "                    #      (db_root_dir, \"Annotations/Full-Resolution\", seq.strip()))))]\n",
    "                    #labels.extend(lab)\n",
    "        else:\n",
    "\n",
    "            # retrieves just one img and mask of a specified class (seq_name)\n",
    "            names_img = np.sort(os.listdir(os.path.join(db_root_dir, 'JPEGImages/480p/', str(seq_name))))\n",
    "\n",
    "            img_list = list(map(lambda x: os.path.join('JPEGImages/Full-Resolution/', str(seq_name), x), names_img))\n",
    "            name_label = np.sort(os.listdir(os.path.join(db_root_dir, 'Annotations/480p/', str(seq_name))))\n",
    "            labels = [os.path.join('Annotations/480p/', str(seq_name), name_label[0])]\n",
    "\n",
    "            if self.train:\n",
    "                img_list = [img_list[0]]\n",
    "                labels = [labels[0]]\n",
    "\n",
    "        print(len(labels), len(img_list))\n",
    "        assert (len(labels) == len(img_list))\n",
    "\n",
    "        self.img_list = img_list\n",
    "        self.labels = labels\n",
    "\n",
    "        print('Done initializing ' + fname + ' Dataset')\n",
    "\n",
    "    def __len__(self):\n",
    "        return len(self.img_list)\n",
    "\n",
    "    def __getitem__(self, idx):\n",
    "        # idx order is controlled by torch.utils.data.DataLoader(shuffle): if shuffle = True, idx will be\n",
    "        # retrieved randomly, otherwise they will be sequential from 0 to __len__\n",
    "        img = np.array(Image.open(os.path.join(self.db_root_dir, self.img_list[idx])).convert(\"RGB\"), dtype=np.float32)\n",
    "        gt = np.array(Image.open(os.path.join(self.db_root_dir, self.labels[idx])).convert(\"L\"), dtype=np.float32)\n",
    "\n",
    "        gt = ((gt / np.max([gt.max(), 1e-8])) > 0.5).astype(np.float32)\n",
    "\n",
    "        if self.transform is not None:\n",
    "            augmentations = self.transform(image=img, mask=gt)\n",
    "            img = augmentations[\"image\"]\n",
    "            gt = augmentations[\"mask\"]\n",
    "\n",
    "        # if image width and height is < than expected shape --> we should apply mirroring:\n",
    "        # with padding_mode=\"reflect\"\n",
    "        # https://pytorch.org/vision/0.12/generated/torchvision.transforms.Pad.html\n",
    "        if self.pad_mirroring:\n",
    "            img = Pad(padding=self.pad_mirroring, padding_mode=\"reflect\")(img)\n",
    "\n",
    "        return img, gt\n",
    "\n",
    "    def get_img_size(self):\n",
    "        img = cv2.imread(os.path.join(self.db_root_dir, self.img_list[0]))\n",
    "        # img = torchvision.io.read_image(os.path.join(self.db_root_dir, self.img_list[0]))\n",
    "        return list(img.shape[:2])\n",
    "\n",
    "\n"
   ],
   "id": "2f5b62b7c6c20c96",
   "outputs": [],
   "execution_count": 13
  },
  {
   "metadata": {
    "ExecuteTime": {
     "end_time": "2024-06-23T10:39:27.224976Z",
     "start_time": "2024-06-23T10:39:27.123539Z"
    }
   },
   "cell_type": "code",
   "source": [
    "import albumentations as A\n",
    "\n",
    "train_transform = A.Compose(\n",
    "    [\n",
    "        A.Resize(388, 388),\n",
    "        A.Rotate(limit=45, p=0.5),\n",
    "        A.HorizontalFlip(p=0.5),\n",
    "        A.VerticalFlip(p=0.1),\n",
    "        A.Normalize(\n",
    "            mean=(0, 0, 0),\n",
    "            std=(1, 1, 1),\n",
    "            max_pixel_value=255.0,\n",
    "        ),\n",
    "        ToTensorV2(),\n",
    "    ],\n",
    ")\n",
    "\n",
    "val_transforms = A.Compose(\n",
    "    [\n",
    "        A.Resize(388, 388),\n",
    "        A.Normalize(\n",
    "            mean=(0, 0, 0),\n",
    "            std=(1, 1, 1),\n",
    "            max_pixel_value=255.0,\n",
    "        ),\n",
    "        ToTensorV2(),\n",
    "    ],\n",
    ")"
   ],
   "id": "fc51e9bce98658f3",
   "outputs": [
    {
     "ename": "ValueError",
     "evalue": "numpy.dtype size changed, may indicate binary incompatibility. Expected 96 from C header, got 88 from PyObject",
     "output_type": "error",
     "traceback": [
      "\u001B[0;31m---------------------------------------------------------------------------\u001B[0m",
      "\u001B[0;31mValueError\u001B[0m                                Traceback (most recent call last)",
      "Cell \u001B[0;32mIn[14], line 1\u001B[0m\n\u001B[0;32m----> 1\u001B[0m \u001B[38;5;28;01mimport\u001B[39;00m \u001B[38;5;21;01malbumentations\u001B[39;00m \u001B[38;5;28;01mas\u001B[39;00m \u001B[38;5;21;01mA\u001B[39;00m\n\u001B[1;32m      3\u001B[0m train_transform \u001B[38;5;241m=\u001B[39m A\u001B[38;5;241m.\u001B[39mCompose(\n\u001B[1;32m      4\u001B[0m     [\n\u001B[1;32m      5\u001B[0m         A\u001B[38;5;241m.\u001B[39mResize(\u001B[38;5;241m388\u001B[39m, \u001B[38;5;241m388\u001B[39m),\n\u001B[0;32m   (...)\u001B[0m\n\u001B[1;32m     15\u001B[0m     ],\n\u001B[1;32m     16\u001B[0m )\n\u001B[1;32m     18\u001B[0m val_transforms \u001B[38;5;241m=\u001B[39m A\u001B[38;5;241m.\u001B[39mCompose(\n\u001B[1;32m     19\u001B[0m     [\n\u001B[1;32m     20\u001B[0m         A\u001B[38;5;241m.\u001B[39mResize(\u001B[38;5;241m388\u001B[39m, \u001B[38;5;241m388\u001B[39m),\n\u001B[0;32m   (...)\u001B[0m\n\u001B[1;32m     27\u001B[0m     ],\n\u001B[1;32m     28\u001B[0m )\n",
      "File \u001B[0;32m~/miniconda3/envs/is_notes/lib/python3.10/site-packages/albumentations/__init__.py:3\u001B[0m\n\u001B[1;32m      1\u001B[0m __version__ \u001B[38;5;241m=\u001B[39m \u001B[38;5;124m\"\u001B[39m\u001B[38;5;124m1.4.1\u001B[39m\u001B[38;5;124m\"\u001B[39m\n\u001B[0;32m----> 3\u001B[0m \u001B[38;5;28;01mfrom\u001B[39;00m \u001B[38;5;21;01m.\u001B[39;00m\u001B[38;5;21;01maugmentations\u001B[39;00m \u001B[38;5;28;01mimport\u001B[39;00m \u001B[38;5;241m*\u001B[39m\n\u001B[1;32m      4\u001B[0m \u001B[38;5;28;01mfrom\u001B[39;00m \u001B[38;5;21;01m.\u001B[39;00m\u001B[38;5;21;01mcore\u001B[39;00m\u001B[38;5;21;01m.\u001B[39;00m\u001B[38;5;21;01mcomposition\u001B[39;00m \u001B[38;5;28;01mimport\u001B[39;00m \u001B[38;5;241m*\u001B[39m\n\u001B[1;32m      5\u001B[0m \u001B[38;5;28;01mfrom\u001B[39;00m \u001B[38;5;21;01m.\u001B[39;00m\u001B[38;5;21;01mcore\u001B[39;00m\u001B[38;5;21;01m.\u001B[39;00m\u001B[38;5;21;01mserialization\u001B[39;00m \u001B[38;5;28;01mimport\u001B[39;00m \u001B[38;5;241m*\u001B[39m\n",
      "File \u001B[0;32m~/miniconda3/envs/is_notes/lib/python3.10/site-packages/albumentations/augmentations/__init__.py:2\u001B[0m\n\u001B[1;32m      1\u001B[0m \u001B[38;5;66;03m# Common classes\u001B[39;00m\n\u001B[0;32m----> 2\u001B[0m \u001B[38;5;28;01mfrom\u001B[39;00m \u001B[38;5;21;01m.\u001B[39;00m\u001B[38;5;21;01mblur\u001B[39;00m\u001B[38;5;21;01m.\u001B[39;00m\u001B[38;5;21;01mfunctional\u001B[39;00m \u001B[38;5;28;01mimport\u001B[39;00m \u001B[38;5;241m*\u001B[39m\n\u001B[1;32m      3\u001B[0m \u001B[38;5;28;01mfrom\u001B[39;00m \u001B[38;5;21;01m.\u001B[39;00m\u001B[38;5;21;01mblur\u001B[39;00m\u001B[38;5;21;01m.\u001B[39;00m\u001B[38;5;21;01mtransforms\u001B[39;00m \u001B[38;5;28;01mimport\u001B[39;00m \u001B[38;5;241m*\u001B[39m\n\u001B[1;32m      4\u001B[0m \u001B[38;5;28;01mfrom\u001B[39;00m \u001B[38;5;21;01m.\u001B[39;00m\u001B[38;5;21;01mcrops\u001B[39;00m\u001B[38;5;21;01m.\u001B[39;00m\u001B[38;5;21;01mfunctional\u001B[39;00m \u001B[38;5;28;01mimport\u001B[39;00m \u001B[38;5;241m*\u001B[39m\n",
      "File \u001B[0;32m~/miniconda3/envs/is_notes/lib/python3.10/site-packages/albumentations/augmentations/blur/__init__.py:1\u001B[0m\n\u001B[0;32m----> 1\u001B[0m \u001B[38;5;28;01mfrom\u001B[39;00m \u001B[38;5;21;01m.\u001B[39;00m\u001B[38;5;21;01mfunctional\u001B[39;00m \u001B[38;5;28;01mimport\u001B[39;00m \u001B[38;5;241m*\u001B[39m\n\u001B[1;32m      2\u001B[0m \u001B[38;5;28;01mfrom\u001B[39;00m \u001B[38;5;21;01m.\u001B[39;00m\u001B[38;5;21;01mtransforms\u001B[39;00m \u001B[38;5;28;01mimport\u001B[39;00m \u001B[38;5;241m*\u001B[39m\n",
      "File \u001B[0;32m~/miniconda3/envs/is_notes/lib/python3.10/site-packages/albumentations/augmentations/blur/functional.py:8\u001B[0m\n\u001B[1;32m      5\u001B[0m \u001B[38;5;28;01mimport\u001B[39;00m \u001B[38;5;21;01mcv2\u001B[39;00m\n\u001B[1;32m      6\u001B[0m \u001B[38;5;28;01mimport\u001B[39;00m \u001B[38;5;21;01mnumpy\u001B[39;00m \u001B[38;5;28;01mas\u001B[39;00m \u001B[38;5;21;01mnp\u001B[39;00m\n\u001B[0;32m----> 8\u001B[0m \u001B[38;5;28;01mfrom\u001B[39;00m \u001B[38;5;21;01malbumentations\u001B[39;00m\u001B[38;5;21;01m.\u001B[39;00m\u001B[38;5;21;01maugmentations\u001B[39;00m\u001B[38;5;21;01m.\u001B[39;00m\u001B[38;5;21;01mfunctional\u001B[39;00m \u001B[38;5;28;01mimport\u001B[39;00m convolve\n\u001B[1;32m      9\u001B[0m \u001B[38;5;28;01mfrom\u001B[39;00m \u001B[38;5;21;01malbumentations\u001B[39;00m\u001B[38;5;21;01m.\u001B[39;00m\u001B[38;5;21;01maugmentations\u001B[39;00m\u001B[38;5;21;01m.\u001B[39;00m\u001B[38;5;21;01mgeometric\u001B[39;00m\u001B[38;5;21;01m.\u001B[39;00m\u001B[38;5;21;01mfunctional\u001B[39;00m \u001B[38;5;28;01mimport\u001B[39;00m scale\n\u001B[1;32m     10\u001B[0m \u001B[38;5;28;01mfrom\u001B[39;00m \u001B[38;5;21;01malbumentations\u001B[39;00m\u001B[38;5;21;01m.\u001B[39;00m\u001B[38;5;21;01maugmentations\u001B[39;00m\u001B[38;5;21;01m.\u001B[39;00m\u001B[38;5;21;01mutils\u001B[39;00m \u001B[38;5;28;01mimport\u001B[39;00m (\n\u001B[1;32m     11\u001B[0m     _maybe_process_in_chunks,\n\u001B[1;32m     12\u001B[0m     clipped,\n\u001B[1;32m     13\u001B[0m     preserve_shape,\n\u001B[1;32m     14\u001B[0m )\n",
      "File \u001B[0;32m~/miniconda3/envs/is_notes/lib/python3.10/site-packages/albumentations/augmentations/functional.py:6\u001B[0m\n\u001B[1;32m      4\u001B[0m \u001B[38;5;28;01mimport\u001B[39;00m \u001B[38;5;21;01mcv2\u001B[39;00m\n\u001B[1;32m      5\u001B[0m \u001B[38;5;28;01mimport\u001B[39;00m \u001B[38;5;21;01mnumpy\u001B[39;00m \u001B[38;5;28;01mas\u001B[39;00m \u001B[38;5;21;01mnp\u001B[39;00m\n\u001B[0;32m----> 6\u001B[0m \u001B[38;5;28;01mimport\u001B[39;00m \u001B[38;5;21;01mskimage\u001B[39;00m\n\u001B[1;32m      8\u001B[0m \u001B[38;5;28;01mfrom\u001B[39;00m \u001B[38;5;21;01malbumentations\u001B[39;00m \u001B[38;5;28;01mimport\u001B[39;00m random_utils\n\u001B[1;32m      9\u001B[0m \u001B[38;5;28;01mfrom\u001B[39;00m \u001B[38;5;21;01malbumentations\u001B[39;00m\u001B[38;5;21;01m.\u001B[39;00m\u001B[38;5;21;01maugmentations\u001B[39;00m\u001B[38;5;21;01m.\u001B[39;00m\u001B[38;5;21;01mutils\u001B[39;00m \u001B[38;5;28;01mimport\u001B[39;00m (\n\u001B[1;32m     10\u001B[0m     MAX_VALUES_BY_DTYPE,\n\u001B[1;32m     11\u001B[0m     _maybe_process_in_chunks,\n\u001B[0;32m   (...)\u001B[0m\n\u001B[1;32m     19\u001B[0m     preserve_shape,\n\u001B[1;32m     20\u001B[0m )\n",
      "File \u001B[0;32m~/miniconda3/envs/is_notes/lib/python3.10/site-packages/skimage/__init__.py:124\u001B[0m\n\u001B[1;32m    120\u001B[0m     \u001B[38;5;66;03m# We are not importing the rest of the scikit during the build\u001B[39;00m\n\u001B[1;32m    121\u001B[0m     \u001B[38;5;66;03m# process, as it may not be compiled yet\u001B[39;00m\n\u001B[1;32m    122\u001B[0m \u001B[38;5;28;01melse\u001B[39;00m:\n\u001B[1;32m    123\u001B[0m     \u001B[38;5;28;01mtry\u001B[39;00m:\n\u001B[0;32m--> 124\u001B[0m         \u001B[38;5;28;01mfrom\u001B[39;00m \u001B[38;5;21;01m.\u001B[39;00m\u001B[38;5;21;01m_shared\u001B[39;00m \u001B[38;5;28;01mimport\u001B[39;00m geometry\n\u001B[1;32m    126\u001B[0m         \u001B[38;5;28;01mdel\u001B[39;00m geometry\n\u001B[1;32m    127\u001B[0m     \u001B[38;5;28;01mexcept\u001B[39;00m \u001B[38;5;167;01mImportError\u001B[39;00m \u001B[38;5;28;01mas\u001B[39;00m e:\n",
      "File \u001B[0;32mgeometry.pyx:1\u001B[0m, in \u001B[0;36minit skimage._shared.geometry\u001B[0;34m()\u001B[0m\n",
      "\u001B[0;31mValueError\u001B[0m: numpy.dtype size changed, may indicate binary incompatibility. Expected 96 from C header, got 88 from PyObject"
     ]
    }
   ],
   "execution_count": 14
  },
  {
   "metadata": {
    "ExecuteTime": {
     "end_time": "2024-06-23T10:39:28.747973Z",
     "start_time": "2024-06-23T10:39:28.358931Z"
    }
   },
   "cell_type": "code",
   "source": [
    "import torch\n",
    "from matplotlib import pyplot as plt\n",
    "\n",
    "\n",
    "# sys.getsizeof(getattr(dataset, \"img_list\"))\n",
    "# to check the size the list containing all the path to images\n",
    "\n",
    "dataset = DAVIS2017(db_root_dir='davis2017/DAVIS', train=True,\n",
    "                    transform=train_transform, pad_mirroring=PAD_MIRRORING)\n",
    "\n",
    "dataloader = torch.utils.data.DataLoader(dataset, batch_size=1, shuffle=True, num_workers=1)\n",
    "assert getattr(dataloader, \"batch_size\") == 1, \"The plot script works only with batch_size=1\"\n",
    "\n",
    "for i, (img, gt) in enumerate(dataloader):\n",
    "    img = CenterCrop((388, 388))(img)\n",
    "    plt.figure()\n",
    "    plt.imshow(overlay_mask(inv_normalize(tens2image(img)), tens2image(gt)))\n",
    "\n",
    "    if i == 20:\n",
    "        break\n",
    "\n",
    "plt.show(block=True)"
   ],
   "id": "8de799a88bb44925",
   "outputs": [
    {
     "ename": "ImportError",
     "evalue": "cannot import name 'broadcast_to' from 'numpy.lib.stride_tricks' (/Users/rlopes/miniconda3/envs/is_notes/lib/python3.10/site-packages/numpy/lib/stride_tricks.py)",
     "output_type": "error",
     "traceback": [
      "\u001B[0;31m---------------------------------------------------------------------------\u001B[0m",
      "\u001B[0;31mImportError\u001B[0m                               Traceback (most recent call last)",
      "Cell \u001B[0;32mIn[15], line 2\u001B[0m\n\u001B[1;32m      1\u001B[0m \u001B[38;5;28;01mimport\u001B[39;00m \u001B[38;5;21;01mtorch\u001B[39;00m\n\u001B[0;32m----> 2\u001B[0m \u001B[38;5;28;01mfrom\u001B[39;00m \u001B[38;5;21;01mmatplotlib\u001B[39;00m \u001B[38;5;28;01mimport\u001B[39;00m pyplot \u001B[38;5;28;01mas\u001B[39;00m plt\n\u001B[1;32m      5\u001B[0m \u001B[38;5;66;03m# sys.getsizeof(getattr(dataset, \"img_list\"))\u001B[39;00m\n\u001B[1;32m      6\u001B[0m \u001B[38;5;66;03m# to check the size the list containing all the path to images\u001B[39;00m\n\u001B[1;32m      8\u001B[0m dataset \u001B[38;5;241m=\u001B[39m DAVIS2017(db_root_dir\u001B[38;5;241m=\u001B[39m\u001B[38;5;124m'\u001B[39m\u001B[38;5;124mdavis2017/DAVIS\u001B[39m\u001B[38;5;124m'\u001B[39m, train\u001B[38;5;241m=\u001B[39m\u001B[38;5;28;01mTrue\u001B[39;00m,\n\u001B[1;32m      9\u001B[0m                     transform\u001B[38;5;241m=\u001B[39mtrain_transform, pad_mirroring\u001B[38;5;241m=\u001B[39mPAD_MIRRORING)\n",
      "File \u001B[0;32m~/miniconda3/envs/is_notes/lib/python3.10/site-packages/matplotlib/__init__.py:963\u001B[0m\n\u001B[1;32m    957\u001B[0m     \u001B[38;5;28;01mreturn\u001B[39;00m config\n\u001B[1;32m    960\u001B[0m \u001B[38;5;66;03m# When constructing the global instances, we need to perform certain updates\u001B[39;00m\n\u001B[1;32m    961\u001B[0m \u001B[38;5;66;03m# by explicitly calling the superclass (dict.update, dict.items) to avoid\u001B[39;00m\n\u001B[1;32m    962\u001B[0m \u001B[38;5;66;03m# triggering resolution of _auto_backend_sentinel.\u001B[39;00m\n\u001B[0;32m--> 963\u001B[0m rcParamsDefault \u001B[38;5;241m=\u001B[39m \u001B[43m_rc_params_in_file\u001B[49m\u001B[43m(\u001B[49m\n\u001B[1;32m    964\u001B[0m \u001B[43m    \u001B[49m\u001B[43mcbook\u001B[49m\u001B[38;5;241;43m.\u001B[39;49m\u001B[43m_get_data_path\u001B[49m\u001B[43m(\u001B[49m\u001B[38;5;124;43m\"\u001B[39;49m\u001B[38;5;124;43mmatplotlibrc\u001B[39;49m\u001B[38;5;124;43m\"\u001B[39;49m\u001B[43m)\u001B[49m\u001B[43m,\u001B[49m\n\u001B[1;32m    965\u001B[0m \u001B[43m    \u001B[49m\u001B[38;5;66;43;03m# Strip leading comment.\u001B[39;49;00m\n\u001B[1;32m    966\u001B[0m \u001B[43m    \u001B[49m\u001B[43mtransform\u001B[49m\u001B[38;5;241;43m=\u001B[39;49m\u001B[38;5;28;43;01mlambda\u001B[39;49;00m\u001B[43m \u001B[49m\u001B[43mline\u001B[49m\u001B[43m:\u001B[49m\u001B[43m \u001B[49m\u001B[43mline\u001B[49m\u001B[43m[\u001B[49m\u001B[38;5;241;43m1\u001B[39;49m\u001B[43m:\u001B[49m\u001B[43m]\u001B[49m\u001B[43m \u001B[49m\u001B[38;5;28;43;01mif\u001B[39;49;00m\u001B[43m \u001B[49m\u001B[43mline\u001B[49m\u001B[38;5;241;43m.\u001B[39;49m\u001B[43mstartswith\u001B[49m\u001B[43m(\u001B[49m\u001B[38;5;124;43m\"\u001B[39;49m\u001B[38;5;124;43m#\u001B[39;49m\u001B[38;5;124;43m\"\u001B[39;49m\u001B[43m)\u001B[49m\u001B[43m \u001B[49m\u001B[38;5;28;43;01melse\u001B[39;49;00m\u001B[43m \u001B[49m\u001B[43mline\u001B[49m\u001B[43m,\u001B[49m\n\u001B[1;32m    967\u001B[0m \u001B[43m    \u001B[49m\u001B[43mfail_on_error\u001B[49m\u001B[38;5;241;43m=\u001B[39;49m\u001B[38;5;28;43;01mTrue\u001B[39;49;00m\u001B[43m)\u001B[49m\n\u001B[1;32m    968\u001B[0m \u001B[38;5;28mdict\u001B[39m\u001B[38;5;241m.\u001B[39mupdate(rcParamsDefault, rcsetup\u001B[38;5;241m.\u001B[39m_hardcoded_defaults)\n\u001B[1;32m    969\u001B[0m \u001B[38;5;66;03m# Normally, the default matplotlibrc file contains *no* entry for backend (the\u001B[39;00m\n\u001B[1;32m    970\u001B[0m \u001B[38;5;66;03m# corresponding line starts with ##, not #; we fill on _auto_backend_sentinel\u001B[39;00m\n\u001B[1;32m    971\u001B[0m \u001B[38;5;66;03m# in that case.  However, packagers can set a different default backend\u001B[39;00m\n\u001B[1;32m    972\u001B[0m \u001B[38;5;66;03m# (resulting in a normal `#backend: foo` line) in which case we should *not*\u001B[39;00m\n\u001B[1;32m    973\u001B[0m \u001B[38;5;66;03m# fill in _auto_backend_sentinel.\u001B[39;00m\n",
      "File \u001B[0;32m~/miniconda3/envs/is_notes/lib/python3.10/site-packages/matplotlib/__init__.py:897\u001B[0m, in \u001B[0;36m_rc_params_in_file\u001B[0;34m(fname, transform, fail_on_error)\u001B[0m\n\u001B[1;32m    895\u001B[0m \u001B[38;5;28;01mif\u001B[39;00m key \u001B[38;5;129;01min\u001B[39;00m rcsetup\u001B[38;5;241m.\u001B[39m_validators:\n\u001B[1;32m    896\u001B[0m     \u001B[38;5;28;01mif\u001B[39;00m fail_on_error:\n\u001B[0;32m--> 897\u001B[0m         \u001B[43mconfig\u001B[49m\u001B[43m[\u001B[49m\u001B[43mkey\u001B[49m\u001B[43m]\u001B[49m \u001B[38;5;241m=\u001B[39m val  \u001B[38;5;66;03m# try to convert to proper type or raise\u001B[39;00m\n\u001B[1;32m    898\u001B[0m     \u001B[38;5;28;01melse\u001B[39;00m:\n\u001B[1;32m    899\u001B[0m         \u001B[38;5;28;01mtry\u001B[39;00m:\n",
      "File \u001B[0;32m~/miniconda3/envs/is_notes/lib/python3.10/site-packages/matplotlib/__init__.py:732\u001B[0m, in \u001B[0;36mRcParams.__setitem__\u001B[0;34m(self, key, val)\u001B[0m\n\u001B[1;32m    730\u001B[0m             \u001B[38;5;28;01mreturn\u001B[39;00m\n\u001B[1;32m    731\u001B[0m \u001B[38;5;28;01mtry\u001B[39;00m:\n\u001B[0;32m--> 732\u001B[0m     cval \u001B[38;5;241m=\u001B[39m \u001B[38;5;28;43mself\u001B[39;49m\u001B[38;5;241;43m.\u001B[39;49m\u001B[43mvalidate\u001B[49m\u001B[43m[\u001B[49m\u001B[43mkey\u001B[49m\u001B[43m]\u001B[49m\u001B[43m(\u001B[49m\u001B[43mval\u001B[49m\u001B[43m)\u001B[49m\n\u001B[1;32m    733\u001B[0m \u001B[38;5;28;01mexcept\u001B[39;00m \u001B[38;5;167;01mValueError\u001B[39;00m \u001B[38;5;28;01mas\u001B[39;00m ve:\n\u001B[1;32m    734\u001B[0m     \u001B[38;5;28;01mraise\u001B[39;00m \u001B[38;5;167;01mValueError\u001B[39;00m(\u001B[38;5;124mf\u001B[39m\u001B[38;5;124m\"\u001B[39m\u001B[38;5;124mKey \u001B[39m\u001B[38;5;132;01m{\u001B[39;00mkey\u001B[38;5;132;01m}\u001B[39;00m\u001B[38;5;124m: \u001B[39m\u001B[38;5;132;01m{\u001B[39;00mve\u001B[38;5;132;01m}\u001B[39;00m\u001B[38;5;124m\"\u001B[39m) \u001B[38;5;28;01mfrom\u001B[39;00m \u001B[38;5;28;01mNone\u001B[39;00m\n",
      "File \u001B[0;32m~/miniconda3/envs/is_notes/lib/python3.10/site-packages/matplotlib/rcsetup.py:317\u001B[0m, in \u001B[0;36mvalidate_color\u001B[0;34m(s)\u001B[0m\n\u001B[1;32m    314\u001B[0m         \u001B[38;5;28;01mif\u001B[39;00m is_color_like(stmp):\n\u001B[1;32m    315\u001B[0m             \u001B[38;5;28;01mreturn\u001B[39;00m stmp\n\u001B[0;32m--> 317\u001B[0m \u001B[38;5;28;01mif\u001B[39;00m \u001B[43mis_color_like\u001B[49m\u001B[43m(\u001B[49m\u001B[43ms\u001B[49m\u001B[43m)\u001B[49m:\n\u001B[1;32m    318\u001B[0m     \u001B[38;5;28;01mreturn\u001B[39;00m s\n\u001B[1;32m    320\u001B[0m \u001B[38;5;66;03m# If it is still valid, it must be a tuple (as a string from matplotlibrc).\u001B[39;00m\n",
      "File \u001B[0;32m~/miniconda3/envs/is_notes/lib/python3.10/site-packages/matplotlib/colors.py:227\u001B[0m, in \u001B[0;36mis_color_like\u001B[0;34m(c)\u001B[0m\n\u001B[1;32m    225\u001B[0m     \u001B[38;5;28;01mreturn\u001B[39;00m \u001B[38;5;28;01mTrue\u001B[39;00m\n\u001B[1;32m    226\u001B[0m \u001B[38;5;28;01mtry\u001B[39;00m:\n\u001B[0;32m--> 227\u001B[0m     \u001B[43mto_rgba\u001B[49m\u001B[43m(\u001B[49m\u001B[43mc\u001B[49m\u001B[43m)\u001B[49m\n\u001B[1;32m    228\u001B[0m \u001B[38;5;28;01mexcept\u001B[39;00m \u001B[38;5;167;01mValueError\u001B[39;00m:\n\u001B[1;32m    229\u001B[0m     \u001B[38;5;28;01mreturn\u001B[39;00m \u001B[38;5;28;01mFalse\u001B[39;00m\n",
      "File \u001B[0;32m~/miniconda3/envs/is_notes/lib/python3.10/site-packages/matplotlib/colors.py:302\u001B[0m, in \u001B[0;36mto_rgba\u001B[0;34m(c, alpha)\u001B[0m\n\u001B[1;32m    300\u001B[0m     rgba \u001B[38;5;241m=\u001B[39m \u001B[38;5;28;01mNone\u001B[39;00m\n\u001B[1;32m    301\u001B[0m \u001B[38;5;28;01mif\u001B[39;00m rgba \u001B[38;5;129;01mis\u001B[39;00m \u001B[38;5;28;01mNone\u001B[39;00m:  \u001B[38;5;66;03m# Suppress exception chaining of cache lookup failure.\u001B[39;00m\n\u001B[0;32m--> 302\u001B[0m     rgba \u001B[38;5;241m=\u001B[39m \u001B[43m_to_rgba_no_colorcycle\u001B[49m\u001B[43m(\u001B[49m\u001B[43mc\u001B[49m\u001B[43m,\u001B[49m\u001B[43m \u001B[49m\u001B[43malpha\u001B[49m\u001B[43m)\u001B[49m\n\u001B[1;32m    303\u001B[0m     \u001B[38;5;28;01mtry\u001B[39;00m:\n\u001B[1;32m    304\u001B[0m         _colors_full_map\u001B[38;5;241m.\u001B[39mcache[c, alpha] \u001B[38;5;241m=\u001B[39m rgba\n",
      "File \u001B[0;32m~/miniconda3/envs/is_notes/lib/python3.10/site-packages/matplotlib/colors.py:329\u001B[0m, in \u001B[0;36m_to_rgba_no_colorcycle\u001B[0;34m(c, alpha)\u001B[0m\n\u001B[1;32m    327\u001B[0m     \u001B[38;5;28;01mraise\u001B[39;00m \u001B[38;5;167;01mValueError\u001B[39;00m(\u001B[38;5;124m\"\u001B[39m\u001B[38;5;124m'\u001B[39m\u001B[38;5;124malpha\u001B[39m\u001B[38;5;124m'\u001B[39m\u001B[38;5;124m must be between 0 and 1, inclusive\u001B[39m\u001B[38;5;124m\"\u001B[39m)\n\u001B[1;32m    328\u001B[0m orig_c \u001B[38;5;241m=\u001B[39m c\n\u001B[0;32m--> 329\u001B[0m \u001B[38;5;28;01mif\u001B[39;00m c \u001B[38;5;129;01mis\u001B[39;00m \u001B[43mnp\u001B[49m\u001B[38;5;241;43m.\u001B[39;49m\u001B[43mma\u001B[49m\u001B[38;5;241m.\u001B[39mmasked:\n\u001B[1;32m    330\u001B[0m     \u001B[38;5;28;01mreturn\u001B[39;00m (\u001B[38;5;241m0.\u001B[39m, \u001B[38;5;241m0.\u001B[39m, \u001B[38;5;241m0.\u001B[39m, \u001B[38;5;241m0.\u001B[39m)\n\u001B[1;32m    331\u001B[0m \u001B[38;5;28;01mif\u001B[39;00m \u001B[38;5;28misinstance\u001B[39m(c, \u001B[38;5;28mstr\u001B[39m):\n",
      "File \u001B[0;32m~/miniconda3/envs/is_notes/lib/python3.10/site-packages/numpy/__init__.py:343\u001B[0m, in \u001B[0;36m__getattr__\u001B[0;34m(attr)\u001B[0m\n\u001B[1;32m    336\u001B[0m \u001B[38;5;28;01mdef\u001B[39;00m \u001B[38;5;21m__dir__\u001B[39m():\n\u001B[1;32m    337\u001B[0m     public_symbols \u001B[38;5;241m=\u001B[39m \u001B[38;5;28mglobals\u001B[39m()\u001B[38;5;241m.\u001B[39mkeys() \u001B[38;5;241m|\u001B[39m {\u001B[38;5;124m'\u001B[39m\u001B[38;5;124mtesting\u001B[39m\u001B[38;5;124m'\u001B[39m}\n\u001B[1;32m    338\u001B[0m     public_symbols \u001B[38;5;241m-\u001B[39m\u001B[38;5;241m=\u001B[39m {\n\u001B[1;32m    339\u001B[0m         \u001B[38;5;124m\"\u001B[39m\u001B[38;5;124mcore\u001B[39m\u001B[38;5;124m\"\u001B[39m, \u001B[38;5;124m\"\u001B[39m\u001B[38;5;124mmatrixlib\u001B[39m\u001B[38;5;124m\"\u001B[39m,\n\u001B[1;32m    340\u001B[0m         \u001B[38;5;66;03m# These were moved in 1.25 and may be deprecated eventually:\u001B[39;00m\n\u001B[1;32m    341\u001B[0m         \u001B[38;5;124m\"\u001B[39m\u001B[38;5;124mModuleDeprecationWarning\u001B[39m\u001B[38;5;124m\"\u001B[39m, \u001B[38;5;124m\"\u001B[39m\u001B[38;5;124mVisibleDeprecationWarning\u001B[39m\u001B[38;5;124m\"\u001B[39m,\n\u001B[1;32m    342\u001B[0m         \u001B[38;5;124m\"\u001B[39m\u001B[38;5;124mComplexWarning\u001B[39m\u001B[38;5;124m\"\u001B[39m, \u001B[38;5;124m\"\u001B[39m\u001B[38;5;124mTooHardError\u001B[39m\u001B[38;5;124m\"\u001B[39m, \u001B[38;5;124m\"\u001B[39m\u001B[38;5;124mAxisError\u001B[39m\u001B[38;5;124m\"\u001B[39m\n\u001B[0;32m--> 343\u001B[0m     }\n\u001B[1;32m    344\u001B[0m     \u001B[38;5;28;01mreturn\u001B[39;00m \u001B[38;5;28mlist\u001B[39m(public_symbols)\n",
      "File \u001B[0;32m~/miniconda3/envs/is_notes/lib/python3.10/site-packages/numpy/ma/__init__.py:42\u001B[0m\n\u001B[1;32m      1\u001B[0m \u001B[38;5;124;03m\"\"\"\u001B[39;00m\n\u001B[1;32m      2\u001B[0m \u001B[38;5;124;03m=============\u001B[39;00m\n\u001B[1;32m      3\u001B[0m \u001B[38;5;124;03mMasked Arrays\u001B[39;00m\n\u001B[0;32m   (...)\u001B[0m\n\u001B[1;32m     40\u001B[0m \n\u001B[1;32m     41\u001B[0m \u001B[38;5;124;03m\"\"\"\u001B[39;00m\n\u001B[0;32m---> 42\u001B[0m \u001B[38;5;28;01mfrom\u001B[39;00m \u001B[38;5;21;01m.\u001B[39;00m \u001B[38;5;28;01mimport\u001B[39;00m core\n\u001B[1;32m     43\u001B[0m \u001B[38;5;28;01mfrom\u001B[39;00m \u001B[38;5;21;01m.\u001B[39;00m\u001B[38;5;21;01mcore\u001B[39;00m \u001B[38;5;28;01mimport\u001B[39;00m \u001B[38;5;241m*\u001B[39m\n\u001B[1;32m     45\u001B[0m \u001B[38;5;28;01mfrom\u001B[39;00m \u001B[38;5;21;01m.\u001B[39;00m \u001B[38;5;28;01mimport\u001B[39;00m extras\n",
      "File \u001B[0;32m~/miniconda3/envs/is_notes/lib/python3.10/site-packages/numpy/ma/core.py:37\u001B[0m\n\u001B[1;32m     35\u001B[0m \u001B[38;5;28;01mfrom\u001B[39;00m \u001B[38;5;21;01mnumpy\u001B[39;00m \u001B[38;5;28;01mimport\u001B[39;00m ndarray, amax, amin, iscomplexobj, bool_, _NoValue\n\u001B[1;32m     36\u001B[0m \u001B[38;5;28;01mfrom\u001B[39;00m \u001B[38;5;21;01mnumpy\u001B[39;00m \u001B[38;5;28;01mimport\u001B[39;00m array \u001B[38;5;28;01mas\u001B[39;00m narray\n\u001B[0;32m---> 37\u001B[0m \u001B[38;5;28;01mfrom\u001B[39;00m \u001B[38;5;21;01mnumpy\u001B[39;00m\u001B[38;5;21;01m.\u001B[39;00m\u001B[38;5;21;01mlib\u001B[39;00m\u001B[38;5;21;01m.\u001B[39;00m\u001B[38;5;21;01mfunction_base\u001B[39;00m \u001B[38;5;28;01mimport\u001B[39;00m angle\n\u001B[1;32m     38\u001B[0m \u001B[38;5;28;01mfrom\u001B[39;00m \u001B[38;5;21;01mnumpy\u001B[39;00m\u001B[38;5;21;01m.\u001B[39;00m\u001B[38;5;21;01mcompat\u001B[39;00m \u001B[38;5;28;01mimport\u001B[39;00m (\n\u001B[1;32m     39\u001B[0m     getargspec, formatargspec, long, unicode, \u001B[38;5;28mbytes\u001B[39m\n\u001B[1;32m     40\u001B[0m     )\n\u001B[1;32m     41\u001B[0m \u001B[38;5;28;01mfrom\u001B[39;00m \u001B[38;5;21;01mnumpy\u001B[39;00m \u001B[38;5;28;01mimport\u001B[39;00m expand_dims\n",
      "File \u001B[0;32m~/miniconda3/envs/is_notes/lib/python3.10/site-packages/numpy/lib/function_base.py:25\u001B[0m\n\u001B[1;32m     23\u001B[0m \u001B[38;5;28;01mfrom\u001B[39;00m \u001B[38;5;21;01mnumpy\u001B[39;00m\u001B[38;5;21;01m.\u001B[39;00m\u001B[38;5;21;01mcore\u001B[39;00m \u001B[38;5;28;01mimport\u001B[39;00m overrides\n\u001B[1;32m     24\u001B[0m \u001B[38;5;28;01mfrom\u001B[39;00m \u001B[38;5;21;01mnumpy\u001B[39;00m\u001B[38;5;21;01m.\u001B[39;00m\u001B[38;5;21;01mcore\u001B[39;00m\u001B[38;5;21;01m.\u001B[39;00m\u001B[38;5;21;01mfunction_base\u001B[39;00m \u001B[38;5;28;01mimport\u001B[39;00m add_newdoc\n\u001B[0;32m---> 25\u001B[0m \u001B[38;5;28;01mfrom\u001B[39;00m \u001B[38;5;21;01mnumpy\u001B[39;00m\u001B[38;5;21;01m.\u001B[39;00m\u001B[38;5;21;01mlib\u001B[39;00m\u001B[38;5;21;01m.\u001B[39;00m\u001B[38;5;21;01mtwodim_base\u001B[39;00m \u001B[38;5;28;01mimport\u001B[39;00m diag\n\u001B[1;32m     26\u001B[0m \u001B[38;5;28;01mfrom\u001B[39;00m \u001B[38;5;21;01mnumpy\u001B[39;00m\u001B[38;5;21;01m.\u001B[39;00m\u001B[38;5;21;01mcore\u001B[39;00m\u001B[38;5;21;01m.\u001B[39;00m\u001B[38;5;21;01mmultiarray\u001B[39;00m \u001B[38;5;28;01mimport\u001B[39;00m (\n\u001B[1;32m     27\u001B[0m     _place, add_docstring, bincount, normalize_axis_index, _monotonicity,\n\u001B[1;32m     28\u001B[0m     interp \u001B[38;5;28;01mas\u001B[39;00m compiled_interp, interp_complex \u001B[38;5;28;01mas\u001B[39;00m compiled_interp_complex\n\u001B[1;32m     29\u001B[0m     )\n\u001B[1;32m     30\u001B[0m \u001B[38;5;28;01mfrom\u001B[39;00m \u001B[38;5;21;01mnumpy\u001B[39;00m\u001B[38;5;21;01m.\u001B[39;00m\u001B[38;5;21;01mcore\u001B[39;00m\u001B[38;5;21;01m.\u001B[39;00m\u001B[38;5;21;01mumath\u001B[39;00m \u001B[38;5;28;01mimport\u001B[39;00m _add_newdoc_ufunc \u001B[38;5;28;01mas\u001B[39;00m add_newdoc_ufunc\n",
      "File \u001B[0;32m~/miniconda3/envs/is_notes/lib/python3.10/site-packages/numpy/lib/twodim_base.py:15\u001B[0m\n\u001B[1;32m     13\u001B[0m \u001B[38;5;28;01mfrom\u001B[39;00m \u001B[38;5;21;01mnumpy\u001B[39;00m\u001B[38;5;21;01m.\u001B[39;00m\u001B[38;5;21;01mcore\u001B[39;00m \u001B[38;5;28;01mimport\u001B[39;00m overrides\n\u001B[1;32m     14\u001B[0m \u001B[38;5;28;01mfrom\u001B[39;00m \u001B[38;5;21;01mnumpy\u001B[39;00m\u001B[38;5;21;01m.\u001B[39;00m\u001B[38;5;21;01mcore\u001B[39;00m \u001B[38;5;28;01mimport\u001B[39;00m iinfo\n\u001B[0;32m---> 15\u001B[0m \u001B[38;5;28;01mfrom\u001B[39;00m \u001B[38;5;21;01mnumpy\u001B[39;00m\u001B[38;5;21;01m.\u001B[39;00m\u001B[38;5;21;01mlib\u001B[39;00m\u001B[38;5;21;01m.\u001B[39;00m\u001B[38;5;21;01mstride_tricks\u001B[39;00m \u001B[38;5;28;01mimport\u001B[39;00m broadcast_to\n\u001B[1;32m     18\u001B[0m __all__ \u001B[38;5;241m=\u001B[39m [\n\u001B[1;32m     19\u001B[0m     \u001B[38;5;124m'\u001B[39m\u001B[38;5;124mdiag\u001B[39m\u001B[38;5;124m'\u001B[39m, \u001B[38;5;124m'\u001B[39m\u001B[38;5;124mdiagflat\u001B[39m\u001B[38;5;124m'\u001B[39m, \u001B[38;5;124m'\u001B[39m\u001B[38;5;124meye\u001B[39m\u001B[38;5;124m'\u001B[39m, \u001B[38;5;124m'\u001B[39m\u001B[38;5;124mfliplr\u001B[39m\u001B[38;5;124m'\u001B[39m, \u001B[38;5;124m'\u001B[39m\u001B[38;5;124mflipud\u001B[39m\u001B[38;5;124m'\u001B[39m, \u001B[38;5;124m'\u001B[39m\u001B[38;5;124mtri\u001B[39m\u001B[38;5;124m'\u001B[39m, \u001B[38;5;124m'\u001B[39m\u001B[38;5;124mtriu\u001B[39m\u001B[38;5;124m'\u001B[39m,\n\u001B[1;32m     20\u001B[0m     \u001B[38;5;124m'\u001B[39m\u001B[38;5;124mtril\u001B[39m\u001B[38;5;124m'\u001B[39m, \u001B[38;5;124m'\u001B[39m\u001B[38;5;124mvander\u001B[39m\u001B[38;5;124m'\u001B[39m, \u001B[38;5;124m'\u001B[39m\u001B[38;5;124mhistogram2d\u001B[39m\u001B[38;5;124m'\u001B[39m, \u001B[38;5;124m'\u001B[39m\u001B[38;5;124mmask_indices\u001B[39m\u001B[38;5;124m'\u001B[39m, \u001B[38;5;124m'\u001B[39m\u001B[38;5;124mtril_indices\u001B[39m\u001B[38;5;124m'\u001B[39m,\n\u001B[1;32m     21\u001B[0m     \u001B[38;5;124m'\u001B[39m\u001B[38;5;124mtril_indices_from\u001B[39m\u001B[38;5;124m'\u001B[39m, \u001B[38;5;124m'\u001B[39m\u001B[38;5;124mtriu_indices\u001B[39m\u001B[38;5;124m'\u001B[39m, \u001B[38;5;124m'\u001B[39m\u001B[38;5;124mtriu_indices_from\u001B[39m\u001B[38;5;124m'\u001B[39m, ]\n\u001B[1;32m     24\u001B[0m array_function_dispatch \u001B[38;5;241m=\u001B[39m functools\u001B[38;5;241m.\u001B[39mpartial(\n\u001B[1;32m     25\u001B[0m     overrides\u001B[38;5;241m.\u001B[39marray_function_dispatch, module\u001B[38;5;241m=\u001B[39m\u001B[38;5;124m'\u001B[39m\u001B[38;5;124mnumpy\u001B[39m\u001B[38;5;124m'\u001B[39m)\n",
      "\u001B[0;31mImportError\u001B[0m: cannot import name 'broadcast_to' from 'numpy.lib.stride_tricks' (/Users/rlopes/miniconda3/envs/is_notes/lib/python3.10/site-packages/numpy/lib/stride_tricks.py)"
     ]
    }
   ],
   "execution_count": 15
  },
  {
   "metadata": {},
   "cell_type": "code",
   "outputs": [],
   "execution_count": null,
   "source": "",
   "id": "3dbe567c6fe6b1c0"
  }
 ],
 "metadata": {
  "kernelspec": {
   "display_name": "Python 3",
   "language": "python",
   "name": "python3"
  },
  "language_info": {
   "codemirror_mode": {
    "name": "ipython",
    "version": 2
   },
   "file_extension": ".py",
   "mimetype": "text/x-python",
   "name": "python",
   "nbconvert_exporter": "python",
   "pygments_lexer": "ipython2",
   "version": "2.7.6"
  }
 },
 "nbformat": 4,
 "nbformat_minor": 5
}
