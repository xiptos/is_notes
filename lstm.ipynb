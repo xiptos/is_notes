{
 "cells": [
  {
   "cell_type": "markdown",
   "source": [
    "[![Open In Colab](https://colab.research.google.com/assets/colab-badge.svg)](https://colab.research.google.com/github/xiptos/is_notes/blob/main/lstm.ipynb)"
   ],
   "metadata": {
    "collapsed": false
   },
   "id": "8e0d46e4ddba0700"
  },
  {
   "cell_type": "markdown",
   "source": [
    "# Text Classification using LSTM"
   ],
   "metadata": {
    "collapsed": false
   },
   "id": "4f88dbdeaad4f3a9"
  },
  {
   "cell_type": "markdown",
   "source": [
    "## Import libraries\n",
    "\n",
    "First, it is necessary to import the required libraries."
   ],
   "metadata": {
    "collapsed": false
   },
   "id": "6f85cb8cbba37831"
  },
  {
   "cell_type": "code",
   "execution_count": 22,
   "outputs": [],
   "source": [
    "import pandas as pd\n",
    "from collections import Counter\n",
    "from functools import partial\n",
    "from torch.utils.data import Dataset, DataLoader\n",
    "from tqdm.notebook import tqdm\n",
    "from torchtext.data.utils import get_tokenizer\n",
    "from nltk.corpus import stopwords\n",
    "from torch import nn, optim\n",
    "from torch.nn.utils.rnn import pack_padded_sequence, pad_packed_sequence\n",
    "import torch\n",
    "from torch.optim.lr_scheduler import CosineAnnealingLR\n",
    "from torch.utils.data.dataset import random_split\n",
    "\n",
    "tqdm.pandas()"
   ],
   "metadata": {
    "collapsed": false,
    "ExecuteTime": {
     "end_time": "2023-12-05T17:26:12.852011Z",
     "start_time": "2023-12-05T17:26:12.830061Z"
    }
   },
   "id": "fa1e181fc3affd50"
  },
  {
   "cell_type": "markdown",
   "source": [
    "## Download the dataset and select a subset of it\n",
    "\n",
    "The dataset is big, composed of more than 4 million records. Let's download it and process it to retrieve a smaller sample."
   ],
   "metadata": {
    "collapsed": false
   },
   "id": "7e0ff72b3611c080"
  },
  {
   "cell_type": "code",
   "execution_count": 95,
   "outputs": [],
   "source": [
    "df = pd.read_csv('https://files.consumerfinance.gov/ccdb/complaints.csv.zip', dtype='str')"
   ],
   "metadata": {
    "collapsed": false,
    "ExecuteTime": {
     "end_time": "2023-12-05T13:49:27.101819Z",
     "start_time": "2023-12-05T13:48:33.403051Z"
    }
   },
   "id": "f7cb5ca21d68fcad"
  },
  {
   "cell_type": "markdown",
   "source": [
    "Remove all the records that have wither empty label (`Product`) or content (`Consumer complaint narrative`)"
   ],
   "metadata": {
    "collapsed": false
   },
   "id": "30fb65a9304a8f5e"
  },
  {
   "cell_type": "code",
   "execution_count": 96,
   "outputs": [
    {
     "name": "stdout",
     "output_type": "stream",
     "text": [
      "(4375202, 18)\n",
      "(1590094, 18)\n"
     ]
    }
   ],
   "source": [
    "print(df.shape)\n",
    "df_nonan = df[df['Consumer complaint narrative'].notna() & df['Product'].notna()]\n",
    "print(df_nonan.shape)"
   ],
   "metadata": {
    "collapsed": false,
    "ExecuteTime": {
     "end_time": "2023-12-05T13:49:51.656626Z",
     "start_time": "2023-12-05T13:49:50.998906Z"
    }
   },
   "id": "42ec02531c0b8fbf"
  },
  {
   "cell_type": "markdown",
   "source": [
    "Select 100000 random samples"
   ],
   "metadata": {
    "collapsed": false
   },
   "id": "560059a24747e52a"
  },
  {
   "cell_type": "code",
   "execution_count": 97,
   "outputs": [],
   "source": [
    "sample = df_nonan.sample(n=100000, ignore_index=True)\n",
    "sample = sample[[\"Product\", \"Consumer complaint narrative\"]]\n",
    "print(sample.shape)"
   ],
   "metadata": {
    "collapsed": false,
    "ExecuteTime": {
     "end_time": "2023-12-05T13:50:14.072953Z",
     "start_time": "2023-12-05T13:50:13.996979Z"
    }
   },
   "id": "de0732a3456da473"
  },
  {
   "cell_type": "markdown",
   "source": [
    "Check the full set of labels"
   ],
   "metadata": {
    "collapsed": false
   },
   "id": "7311b48e92923d80"
  },
  {
   "cell_type": "code",
   "execution_count": 99,
   "outputs": [
    {
     "data": {
      "text/plain": "Product\nCredit reporting, credit repair services, or other personal consumer reports    50708\nDebt collection                                                                 14286\nMortgage                                                                         6998\nCredit card or prepaid card                                                      6750\nChecking or savings account                                                      5147\nCredit reporting or other personal consumer reports                              3225\nStudent loan                                                                     2343\nMoney transfer, virtual currency, or money service                               2225\nCredit reporting                                                                 2056\nVehicle loan or lease                                                            1742\nCredit card                                                                      1497\nPayday loan, title loan, or personal loan                                        1056\nBank account or service                                                           988\nConsumer Loan                                                                     592\nPrepaid card                                                                      124\nPayday loan                                                                       102\nMoney transfers                                                                    87\nPayday loan, title loan, personal loan, or advance loan                            41\nOther financial service                                                            26\nDebt or credit management                                                           6\nVirtual currency                                                                    1\nName: count, dtype: int64"
     },
     "execution_count": 99,
     "metadata": {},
     "output_type": "execute_result"
    }
   ],
   "source": [
    "sample.Product.value_counts()"
   ],
   "metadata": {
    "collapsed": false,
    "ExecuteTime": {
     "end_time": "2023-12-05T13:50:45.623165Z",
     "start_time": "2023-12-05T13:50:45.607166Z"
    }
   },
   "id": "cfa6ad35f1b5ba3d"
  },
  {
   "cell_type": "markdown",
   "source": [
    "## Consolidate labels\n",
    "\n",
    "There are some categories (labels) that have simillar meaning or context. Let's unify them, thus reducing the number of classes."
   ],
   "metadata": {
    "collapsed": false
   },
   "id": "bf51fd853f09f292"
  },
  {
   "cell_type": "code",
   "execution_count": 100,
   "outputs": [],
   "source": [
    "sample.loc[sample[\n",
    "               'Product'] == 'Credit reporting', 'Product'] = 'Credit reporting, credit repair services, or other personal consumer reports'\n",
    "sample.loc[sample[\n",
    "               'Product'] == 'Credit reporting or other personal consumer reports', 'Product'] = 'Credit reporting, credit repair services, or other personal consumer reports'\n",
    "sample.loc[sample['Product'] == 'Credit card', 'Product'] = 'Credit card or prepaid card'\n",
    "sample.loc[sample['Product'] == 'Prepaid card', 'Product'] = 'Credit card or prepaid card'\n",
    "sample.loc[sample['Product'] == 'Payday loan', 'Product'] = 'Payday loan, title loan, or personal loan'\n",
    "sample.loc[sample['Product'] == 'Vehicle loan or lease', 'Product'] = 'Payday loan, title loan, or personal loan'\n",
    "sample.loc[sample['Product'] == 'Virtual currency', 'Product'] = 'Money transfer, virtual currency, or money service'\n",
    "sample = sample[sample.Product != 'Other financial service']"
   ],
   "metadata": {
    "collapsed": false,
    "ExecuteTime": {
     "end_time": "2023-12-05T13:50:55.056829Z",
     "start_time": "2023-12-05T13:50:55.006718Z"
    }
   },
   "id": "13ac98cd9ece165c"
  },
  {
   "cell_type": "code",
   "execution_count": 101,
   "outputs": [
    {
     "data": {
      "text/plain": "Product\nCredit reporting, credit repair services, or other personal consumer reports    55989\nDebt collection                                                                 14286\nCredit card or prepaid card                                                      8371\nMortgage                                                                         6998\nChecking or savings account                                                      5147\nPayday loan, title loan, or personal loan                                        2900\nStudent loan                                                                     2343\nMoney transfer, virtual currency, or money service                               2226\nBank account or service                                                           988\nConsumer Loan                                                                     592\nMoney transfers                                                                    87\nPayday loan, title loan, personal loan, or advance loan                            41\nDebt or credit management                                                           6\nName: count, dtype: int64"
     },
     "execution_count": 101,
     "metadata": {},
     "output_type": "execute_result"
    }
   ],
   "source": [
    "sample.Product.value_counts()"
   ],
   "metadata": {
    "collapsed": false,
    "ExecuteTime": {
     "end_time": "2023-12-05T13:50:56.071598Z",
     "start_time": "2023-12-05T13:50:56.053229Z"
    }
   },
   "id": "a7cd27063dc2a046"
  },
  {
   "cell_type": "code",
   "execution_count": 102,
   "outputs": [
    {
     "data": {
      "text/plain": "<Axes: title={'center': 'Number complaints in each product'}, xlabel='Product'>"
     },
     "execution_count": 102,
     "metadata": {},
     "output_type": "execute_result"
    },
    {
     "data": {
      "text/plain": "<Figure size 640x480 with 1 Axes>",
      "image/png": "[encoded data removed]"
     },
     "metadata": {},
     "output_type": "display_data"
    }
   ],
   "source": [
    "sample['Product'].value_counts().sort_values(ascending=False).plot(kind='bar',\n",
    "                                                                   title='Number complaints in each product')"
   ],
   "metadata": {
    "collapsed": false,
    "ExecuteTime": {
     "end_time": "2023-12-05T13:51:03.110001Z",
     "start_time": "2023-12-05T13:51:02.912894Z"
    }
   },
   "id": "e51f297c91bfa1c1"
  },
  {
   "cell_type": "markdown",
   "source": [
    "## Save the current dataset\n",
    "\n",
    "So that we don't need to do the same process again... we can start from the **Text Processing** section, after this."
   ],
   "metadata": {
    "collapsed": false
   },
   "id": "a206cbac2f3ab248"
  },
  {
   "cell_type": "code",
   "execution_count": 2,
   "outputs": [
    {
     "ename": "NameError",
     "evalue": "name 'sample' is not defined",
     "output_type": "error",
     "traceback": [
      "\u001B[0;31m---------------------------------------------------------------------------\u001B[0m",
      "\u001B[0;31mNameError\u001B[0m                                 Traceback (most recent call last)",
      "Cell \u001B[0;32mIn[2], line 1\u001B[0m\n\u001B[0;32m----> 1\u001B[0m \u001B[43msample\u001B[49m\u001B[38;5;241m.\u001B[39mto_pickle(\u001B[38;5;124m\"\u001B[39m\u001B[38;5;124msample.pkl\u001B[39m\u001B[38;5;124m\"\u001B[39m)\n",
      "\u001B[0;31mNameError\u001B[0m: name 'sample' is not defined"
     ]
    }
   ],
   "source": [
    "sample.to_pickle(\"sample.pkl\")"
   ],
   "metadata": {
    "collapsed": false,
    "ExecuteTime": {
     "end_time": "2023-12-05T16:01:20.212586Z",
     "start_time": "2023-12-05T16:01:19.919877Z"
    }
   },
   "id": "32d316974cb55e32"
  },
  {
   "cell_type": "markdown",
   "source": [
    "# Text Preprocessing\n",
    "\n",
    "Let's start by reading the dataset sample, saved previously."
   ],
   "metadata": {
    "collapsed": false
   },
   "id": "6fc155dc85a29b2"
  },
  {
   "cell_type": "code",
   "execution_count": 23,
   "outputs": [],
   "source": [
    "sample = pd.read_pickle(\"sample.pkl\")"
   ],
   "metadata": {
    "collapsed": false,
    "ExecuteTime": {
     "end_time": "2023-12-05T17:31:18.520042Z",
     "start_time": "2023-12-05T17:31:18.455158Z"
    }
   },
   "id": "feaf89b49c0a14b5"
  },
  {
   "cell_type": "markdown",
   "source": [
    "As an example, let's print two records."
   ],
   "metadata": {
    "collapsed": false
   },
   "id": "16cc5b16a0b8c033"
  },
  {
   "cell_type": "code",
   "execution_count": 24,
   "outputs": [
    {
     "name": "stdout",
     "output_type": "stream",
     "text": [
      "Tower loan has run my credit several times and i have not tried to take out a loan or given them permission in any way to run my credit. I reached out to them and they have denied running my credit.\n",
      "Product: Credit reporting, credit repair services, or other personal consumer reports\n",
      "-----------\n",
      "They call 5 times a day and do not leave messages and when the phone is answered the do not say anything. This happens everyday for the past year or two.\n",
      "Product: Debt collection\n"
     ]
    }
   ],
   "source": [
    "def print_plot(index):\n",
    "    example = sample[sample.index == index][['Consumer complaint narrative', 'Product']].values[0]\n",
    "    if len(example) > 0:\n",
    "        print(example[0])\n",
    "        print('Product:', example[1])\n",
    "\n",
    "\n",
    "print_plot(10)\n",
    "print(\"-----------\")\n",
    "print_plot(88)"
   ],
   "metadata": {
    "collapsed": false,
    "ExecuteTime": {
     "end_time": "2023-12-05T17:31:19.548046Z",
     "start_time": "2023-12-05T17:31:19.541372Z"
    }
   },
   "id": "840918604ed7faf6"
  },
  {
   "cell_type": "markdown",
   "source": [
    "Replace the text label for a number, so that we have a numeric representation of the classes."
   ],
   "metadata": {
    "collapsed": false
   },
   "id": "b6bc3d04ce7bfd9a"
  },
  {
   "cell_type": "code",
   "execution_count": 25,
   "outputs": [
    {
     "data": {
      "text/plain": "       Product                       Consumer complaint narrative\n0            0  I previously filed a complaint on XX/XX/2018, ...\n1            0  I already submitted similar complement before....\n2            1  Welcome bonus terms -- 1 purchase by XX/XX/21 ...\n3            2  There has been an issue with my identity being...\n4            3  Mortgage company called county tax office on X...\n...        ...                                                ...\n99995        2  To whom it may concern, I submitted a requeste...\n99996        4  Hi I paid this debt off over a year ago and th...\n99997        4  XXXX XXXX XXXX has been harassing me about pay...\n99998        2  TRANSUNION has permitted the collection agency...\n99999        2  Capital One is reporting a debt of {$470.00} o...\n\n[99974 rows x 2 columns]",
      "text/html": "<div>\n<style scoped>\n    .dataframe tbody tr th:only-of-type {\n        vertical-align: middle;\n    }\n\n    .dataframe tbody tr th {\n        vertical-align: top;\n    }\n\n    .dataframe thead th {\n        text-align: right;\n    }\n</style>\n<table border=\"1\" class=\"dataframe\">\n  <thead>\n    <tr style=\"text-align: right;\">\n      <th></th>\n      <th>Product</th>\n      <th>Consumer complaint narrative</th>\n    </tr>\n  </thead>\n  <tbody>\n    <tr>\n      <th>0</th>\n      <td>0</td>\n      <td>I previously filed a complaint on XX/XX/2018, ...</td>\n    </tr>\n    <tr>\n      <th>1</th>\n      <td>0</td>\n      <td>I already submitted similar complement before....</td>\n    </tr>\n    <tr>\n      <th>2</th>\n      <td>1</td>\n      <td>Welcome bonus terms -- 1 purchase by XX/XX/21 ...</td>\n    </tr>\n    <tr>\n      <th>3</th>\n      <td>2</td>\n      <td>There has been an issue with my identity being...</td>\n    </tr>\n    <tr>\n      <th>4</th>\n      <td>3</td>\n      <td>Mortgage company called county tax office on X...</td>\n    </tr>\n    <tr>\n      <th>...</th>\n      <td>...</td>\n      <td>...</td>\n    </tr>\n    <tr>\n      <th>99995</th>\n      <td>2</td>\n      <td>To whom it may concern, I submitted a requeste...</td>\n    </tr>\n    <tr>\n      <th>99996</th>\n      <td>4</td>\n      <td>Hi I paid this debt off over a year ago and th...</td>\n    </tr>\n    <tr>\n      <th>99997</th>\n      <td>4</td>\n      <td>XXXX XXXX XXXX has been harassing me about pay...</td>\n    </tr>\n    <tr>\n      <th>99998</th>\n      <td>2</td>\n      <td>TRANSUNION has permitted the collection agency...</td>\n    </tr>\n    <tr>\n      <th>99999</th>\n      <td>2</td>\n      <td>Capital One is reporting a debt of {$470.00} o...</td>\n    </tr>\n  </tbody>\n</table>\n<p>99974 rows × 2 columns</p>\n</div>"
     },
     "execution_count": 25,
     "metadata": {},
     "output_type": "execute_result"
    }
   ],
   "source": [
    "sample.Product = pd.Categorical(sample.Product)\n",
    "codes, unique = pd.factorize(sample.Product)\n",
    "sample.Product = codes\n",
    "sample"
   ],
   "metadata": {
    "collapsed": false,
    "ExecuteTime": {
     "end_time": "2023-12-05T17:31:21.296289Z",
     "start_time": "2023-12-05T17:31:21.273758Z"
    }
   },
   "id": "633301264ab4f65c"
  },
  {
   "cell_type": "markdown",
   "source": [
    "# LSTM Model\n",
    "\n",
    "Now we can start working towards the design and development of an LSTM model for classification.\n",
    "\n",
    "Let's start by creating the `Dataset` class able to interpret, clean and convert the text."
   ],
   "metadata": {
    "collapsed": false
   },
   "id": "80700d3a9b93a1b4"
  },
  {
   "cell_type": "code",
   "execution_count": 32,
   "outputs": [
    {
     "name": "stdout",
     "output_type": "stream",
     "text": [
      "Requirement already satisfied: pywsd in /Users/rlopes/miniconda3/envs/is/lib/python3.10/site-packages (1.2.5)\r\n",
      "Requirement already satisfied: nltk in /Users/rlopes/miniconda3/envs/is/lib/python3.10/site-packages (from pywsd) (3.8.1)\r\n",
      "Requirement already satisfied: numpy in /Users/rlopes/miniconda3/envs/is/lib/python3.10/site-packages (from pywsd) (1.26.2)\r\n",
      "Requirement already satisfied: pandas in /Users/rlopes/miniconda3/envs/is/lib/python3.10/site-packages (from pywsd) (2.1.1)\r\n",
      "Requirement already satisfied: wn==0.0.23 in /Users/rlopes/miniconda3/envs/is/lib/python3.10/site-packages (from pywsd) (0.0.23)\r\n",
      "Requirement already satisfied: six in /Users/rlopes/miniconda3/envs/is/lib/python3.10/site-packages (from pywsd) (1.16.0)\r\n",
      "Requirement already satisfied: click in /Users/rlopes/miniconda3/envs/is/lib/python3.10/site-packages (from nltk->pywsd) (8.1.7)\r\n",
      "Requirement already satisfied: joblib in /Users/rlopes/miniconda3/envs/is/lib/python3.10/site-packages (from nltk->pywsd) (1.2.0)\r\n",
      "Requirement already satisfied: regex>=2021.8.3 in /Users/rlopes/miniconda3/envs/is/lib/python3.10/site-packages (from nltk->pywsd) (2023.10.3)\r\n",
      "Requirement already satisfied: tqdm in /Users/rlopes/miniconda3/envs/is/lib/python3.10/site-packages (from nltk->pywsd) (4.65.0)\r\n",
      "Requirement already satisfied: python-dateutil>=2.8.2 in /Users/rlopes/miniconda3/envs/is/lib/python3.10/site-packages (from pandas->pywsd) (2.8.2)\r\n",
      "Requirement already satisfied: pytz>=2020.1 in /Users/rlopes/miniconda3/envs/is/lib/python3.10/site-packages (from pandas->pywsd) (2023.3.post1)\r\n",
      "Requirement already satisfied: tzdata>=2022.1 in /Users/rlopes/miniconda3/envs/is/lib/python3.10/site-packages (from pandas->pywsd) (2023.3)\r\n"
     ]
    },
    {
     "name": "stderr",
     "output_type": "stream",
     "text": [
      "[nltk_data] Downloading package averaged_perceptron_tagger to\n",
      "[nltk_data]     /Users/rlopes/nltk_data...\n",
      "[nltk_data]   Package averaged_perceptron_tagger is already up-to-\n",
      "[nltk_data]       date!\n",
      "[nltk_data] Downloading package wordnet to /Users/rlopes/nltk_data...\n"
     ]
    }
   ],
   "source": [
    "import re\n",
    "import nltk\n",
    "from nltk import WordNetLemmatizer\n",
    "!pip install -U pywsd\n",
    "nltk.download('averaged_perceptron_tagger')\n",
    "nltk.download('wordnet')\n",
    "sample = sample.reset_index(drop=True)\n",
    "REPLACE_BY_SPACE_RE = re.compile('[/(){}\\[\\]\\|@,;]')\n",
    "BAD_SYMBOLS_RE = re.compile('[^0-9a-z #+_]')\n",
    "STOPWORDS = set(stopwords.words('english'))\n",
    "lemmatizer = WordNetLemmatizer()\n",
    "\n",
    "\n",
    "def clean_text(text):\n",
    "    # lowercase text\n",
    "    text = text.lower()\n",
    "    # replace REPLACE_BY_SPACE_RE symbols by space in text. substitute the matched string in REPLACE_BY_SPACE_RE with space.\n",
    "    text = REPLACE_BY_SPACE_RE.sub(' ', text)\n",
    "    # remove symbols which are in BAD_SYMBOLS_RE from text. substitute the matched string in BAD_SYMBOLS_RE with nothing.\n",
    "    text = BAD_SYMBOLS_RE.sub('', text)\n",
    "    text = text.replace('x', '')\n",
    "    new_sent = ''\n",
    "    for word in text.split():\n",
    "        # Remove stop words\n",
    "        if word not in STOPWORDS:\n",
    "            # Lemmatize\n",
    "            word = lemmatizer.lemmatize(word)\n",
    "            new_sent = new_sent + ' ' + word\n",
    "    text = new_sent\n",
    "    return text\n",
    "\n",
    "\n",
    "def remove_rare_words(tokens, common_tokens, max_len):\n",
    "    return [token if token in common_tokens\n",
    "            else '<unk>' for token in tokens][-max_len:]\n",
    "\n",
    "\n",
    "def tokenize(text, stop_words):\n",
    "    tokenizer = get_tokenizer(\"basic_english\")\n",
    "    tokens = tokenizer(text)\n",
    "    tokens = [token for token in tokens if token not in stop_words]\n",
    "    return tokens\n",
    "\n",
    "\n",
    "class DataFrameTextDataset(Dataset):\n",
    "    def __init__(self, text: list, label: list, max_vocab, max_len):\n",
    "        df = pd.DataFrame(list(zip(text, label)), columns=['text', 'label'])\n",
    "\n",
    "        # Clean and tokenize\n",
    "        stop_words = set(stopwords.words('english'))\n",
    "        df.text = df.text.progress_apply(clean_text)\n",
    "        df.text = df.text.str.replace('\\d+', '')\n",
    "        df['tokens'] = df.text.progress_apply(partial(tokenize, stop_words=stop_words))\n",
    "\n",
    "        # Replace rare words with <unk>\n",
    "        all_tokens = [sublst for lst in df.tokens.tolist() for sublst in lst]\n",
    "        common_tokens = set(list(zip(*Counter(all_tokens).most_common(max_vocab)))[0])\n",
    "        df.loc[:, 'tokens'] = df.tokens.progress_apply(\n",
    "            partial(remove_rare_words, common_tokens=common_tokens, max_len=max_len))\n",
    "\n",
    "        # Remove sequences with only <UNK>\n",
    "        df = df[df.tokens.progress_apply(lambda tokens: any(token != '<unk>' for token in tokens))]\n",
    "\n",
    "        vocab = sorted({sublst for lst in df.tokens.tolist() for sublst in lst})\n",
    "        self.token2idx = {token: idx for idx, token in enumerate(vocab)}\n",
    "\n",
    "        # Add a padding idx\n",
    "        self.token2idx['<pad>'] = max(self.token2idx.values()) + 1\n",
    "\n",
    "        self.idx2token = {idx: token for token, idx in self.token2idx.items()}\n",
    "\n",
    "        df.loc[:, 'indexed_tokens'] = df.loc[:, 'tokens'].apply(\n",
    "            lambda tokens: [self.token2idx[token] for token in tokens])\n",
    "        self.text = df.text.tolist()\n",
    "        self.sequences = df.indexed_tokens.tolist()\n",
    "        self.targets = df.label.tolist()\n",
    "\n",
    "    def __getitem__(self, i):\n",
    "        return self.sequences[i], self.targets[i], self.text[i]\n",
    "\n",
    "    def __len__(self):\n",
    "        return len(self.sequences)"
   ],
   "metadata": {
    "collapsed": false,
    "ExecuteTime": {
     "end_time": "2023-12-05T17:40:19.977579Z",
     "start_time": "2023-12-05T17:40:01.466638Z"
    }
   },
   "id": "136300582625438f"
  },
  {
   "cell_type": "code",
   "execution_count": 33,
   "outputs": [
    {
     "data": {
      "text/plain": "  0%|          | 0/99974 [00:00<?, ?it/s]",
      "application/vnd.jupyter.widget-view+json": {
       "version_major": 2,
       "version_minor": 0,
       "model_id": "082663a0db46408cbece99de36039cad"
      }
     },
     "metadata": {},
     "output_type": "display_data"
    },
    {
     "data": {
      "text/plain": "  0%|          | 0/99974 [00:00<?, ?it/s]",
      "application/vnd.jupyter.widget-view+json": {
       "version_major": 2,
       "version_minor": 0,
       "model_id": "147ab7606d4942bb87ac60c089f3a520"
      }
     },
     "metadata": {},
     "output_type": "display_data"
    },
    {
     "data": {
      "text/plain": "  0%|          | 0/99974 [00:00<?, ?it/s]",
      "application/vnd.jupyter.widget-view+json": {
       "version_major": 2,
       "version_minor": 0,
       "model_id": "1130823edb45463e97440ed28ae9d764"
      }
     },
     "metadata": {},
     "output_type": "display_data"
    },
    {
     "data": {
      "text/plain": "  0%|          | 0/99974 [00:00<?, ?it/s]",
      "application/vnd.jupyter.widget-view+json": {
       "version_major": 2,
       "version_minor": 0,
       "model_id": "8fd39dd8075648f1b1a7811397e80657"
      }
     },
     "metadata": {},
     "output_type": "display_data"
    }
   ],
   "source": [
    "# How many of the most common vocab words to keep\n",
    "# Uncommon words get replaced with unknown token <unk>\n",
    "max_vocab = 1000\n",
    "\n",
    "# How many tokens long each sequence will be cut to\n",
    "# Shorter sequences will get the padding token <pad>\n",
    "max_len = 220\n",
    "\n",
    "dataset = DataFrameTextDataset(sample['Consumer complaint narrative'].tolist(), sample['Product'].tolist(), max_vocab,\n",
    "                               max_len)"
   ],
   "metadata": {
    "collapsed": false,
    "ExecuteTime": {
     "end_time": "2023-12-05T17:40:44.201190Z",
     "start_time": "2023-12-05T17:40:21.746748Z"
    }
   },
   "id": "aae8525a9fc48690"
  },
  {
   "cell_type": "markdown",
   "source": [
    "Check the vocabulary..."
   ],
   "metadata": {
    "collapsed": false
   },
   "id": "baa26c36d5c2febb"
  },
  {
   "cell_type": "code",
   "execution_count": 53,
   "outputs": [
    {
     "data": {
      "text/plain": "{'#': 0,\n '000': 1,\n '1': 2,\n '10': 3,\n '100': 4,\n '10000': 5,\n '100000': 6,\n '12': 7,\n '15': 8,\n '1681': 9,\n '1681b': 10,\n '1681c': 11,\n '1681i': 12,\n '1681s2': 13,\n '18': 14,\n '2': 15,\n '20': 16,\n '20000': 17,\n '2015': 18,\n '2016': 19,\n '2017': 20,\n '2018': 21,\n '2019': 22,\n '2020': 23,\n '2021': 24,\n '2022': 25,\n '2023': 26,\n '21': 27,\n '3': 28,\n '30': 29,\n '3rd': 30,\n '4': 31,\n '5': 32,\n '50000': 33,\n '6': 34,\n '60': 35,\n '602': 36,\n '604': 37,\n '605b': 38,\n '609': 39,\n '611': 40,\n '623': 41,\n '7': 42,\n '8': 43,\n '90': 44,\n '<unk>': 45,\n 'ability': 46,\n 'able': 47,\n 'accept': 48,\n 'accepted': 49,\n 'access': 50,\n 'accordance': 51,\n 'according': 52,\n 'account': 53,\n 'acct': 54,\n 'accuracy': 55,\n 'accurate': 56,\n 'act': 57,\n 'action': 58,\n 'active': 59,\n 'activity': 60,\n 'actual': 61,\n 'actually': 62,\n 'add': 63,\n 'added': 64,\n 'addition': 65,\n 'additional': 66,\n 'additionally': 67,\n 'address': 68,\n 'advantage': 69,\n 'adverse': 70,\n 'advised': 71,\n 'affected': 72,\n 'affecting': 73,\n 'affidavit': 74,\n 'afford': 75,\n 'agency': 76,\n 'agent': 77,\n 'ago': 78,\n 'agreed': 79,\n 'agreement': 80,\n 'alert': 81,\n 'alleged': 82,\n 'allow': 83,\n 'allowed': 84,\n 'almost': 85,\n 'along': 86,\n 'already': 87,\n 'also': 88,\n 'although': 89,\n 'always': 90,\n 'america': 91,\n 'american': 92,\n 'amount': 93,\n 'another': 94,\n 'answer': 95,\n 'antedates': 96,\n 'anyone': 97,\n 'anything': 98,\n 'apartment': 99,\n 'app': 100,\n 'appear': 101,\n 'appears': 102,\n 'application': 103,\n 'applied': 104,\n 'apply': 105,\n 'appraisal': 106,\n 'appreciate': 107,\n 'approimately': 108,\n 'appropriate': 109,\n 'approval': 110,\n 'approved': 111,\n 'around': 112,\n 'ask': 113,\n 'asked': 114,\n 'asking': 115,\n 'assist': 116,\n 'assistance': 117,\n 'associate': 118,\n 'associated': 119,\n 'assured': 120,\n 'atm': 121,\n 'attached': 122,\n 'attachment': 123,\n 'attempt': 124,\n 'attempted': 125,\n 'attempting': 126,\n 'attention': 127,\n 'attorney': 128,\n 'authority': 129,\n 'authorization': 130,\n 'authorize': 131,\n 'authorized': 132,\n 'auto': 133,\n 'automated': 134,\n 'available': 135,\n 'avoid': 136,\n 'aware': 137,\n 'away': 138,\n 'b': 139,\n 'back': 140,\n 'bad': 141,\n 'balance': 142,\n 'bank': 143,\n 'banking': 144,\n 'bankruptcy': 145,\n 'based': 146,\n 'became': 147,\n 'began': 148,\n 'beginning': 149,\n 'behalf': 150,\n 'behind': 151,\n 'believe': 152,\n 'belong': 153,\n 'benefit': 154,\n 'best': 155,\n 'bill': 156,\n 'billing': 157,\n 'block': 158,\n 'blocked': 159,\n 'boa': 160,\n 'bonus': 161,\n 'borrower': 162,\n 'bought': 163,\n 'branch': 164,\n 'breach': 165,\n 'bureau': 166,\n 'business': 167,\n 'buy': 168,\n 'c': 169,\n 'ca': 170,\n 'call': 171,\n 'called': 172,\n 'calling': 173,\n 'came': 174,\n 'cancel': 175,\n 'cancelled': 176,\n 'cant': 177,\n 'capital': 178,\n 'car': 179,\n 'card': 180,\n 'care': 181,\n 'case': 182,\n 'cash': 183,\n 'cause': 184,\n 'caused': 185,\n 'causing': 186,\n 'cc': 187,\n 'cease': 188,\n 'certain': 189,\n 'certified': 190,\n 'cfpb': 191,\n 'change': 192,\n 'changed': 193,\n 'chapter': 194,\n 'character': 195,\n 'charge': 196,\n 'charged': 197,\n 'charging': 198,\n 'chase': 199,\n 'check': 200,\n 'checked': 201,\n 'checking': 202,\n 'child': 203,\n 'citi': 204,\n 'citibank': 205,\n 'civil': 206,\n 'claim': 207,\n 'claimed': 208,\n 'claiming': 209,\n 'clear': 210,\n 'clearly': 211,\n 'client': 212,\n 'close': 213,\n 'closed': 214,\n 'closing': 215,\n 'code': 216,\n 'collect': 217,\n 'collection': 218,\n 'collector': 219,\n 'come': 220,\n 'coming': 221,\n 'commission': 222,\n 'communication': 223,\n 'company': 224,\n 'complaint': 225,\n 'complete': 226,\n 'completed': 227,\n 'completely': 228,\n 'compliance': 229,\n 'compliant': 230,\n 'comply': 231,\n 'concern': 232,\n 'concerning': 233,\n 'conduct': 234,\n 'confidentiality': 235,\n 'confirm': 236,\n 'confirmation': 237,\n 'confirmed': 238,\n 'connection': 239,\n 'consent': 240,\n 'considered': 241,\n 'consumer': 242,\n 'contact': 243,\n 'contacted': 244,\n 'contacting': 245,\n 'containing': 246,\n 'continue': 247,\n 'continued': 248,\n 'continues': 249,\n 'contract': 250,\n 'conversation': 251,\n 'conviction': 252,\n 'copy': 253,\n 'correct': 254,\n 'corrected': 255,\n 'correctly': 256,\n 'correspondence': 257,\n 'cost': 258,\n 'could': 259,\n 'couldnt': 260,\n 'county': 261,\n 'couple': 262,\n 'court': 263,\n 'cover': 264,\n 'covid': 265,\n 'credit': 266,\n 'credited': 267,\n 'creditor': 268,\n 'crime': 269,\n 'criminal': 270,\n 'current': 271,\n 'currently': 272,\n 'customer': 273,\n 'damage': 274,\n 'data': 275,\n 'date': 276,\n 'dated': 277,\n 'daughter': 278,\n 'day': 279,\n 'deal': 280,\n 'debit': 281,\n 'debt': 282,\n 'deceptive': 283,\n 'decided': 284,\n 'decision': 285,\n 'declined': 286,\n 'default': 287,\n 'delete': 288,\n 'deleted': 289,\n 'deletion': 290,\n 'delinquency': 291,\n 'delinquent': 292,\n 'demand': 293,\n 'demanding': 294,\n 'denied': 295,\n 'department': 296,\n 'deposit': 297,\n 'deposited': 298,\n 'dept': 299,\n 'derogatory': 300,\n 'despite': 301,\n 'detail': 302,\n 'determine': 303,\n 'didnt': 304,\n 'different': 305,\n 'direct': 306,\n 'directly': 307,\n 'disclosure': 308,\n 'discover': 309,\n 'discovered': 310,\n 'dispute': 311,\n 'disputed': 312,\n 'disputing': 313,\n 'document': 314,\n 'documentation': 315,\n 'doesnt': 316,\n 'dollar': 317,\n 'done': 318,\n 'dont': 319,\n 'driver': 320,\n 'drop': 321,\n 'dropped': 322,\n 'due': 323,\n 'e': 324,\n 'early': 325,\n 'ecept': 326,\n 'ed': 327,\n 'education': 328,\n 'effort': 329,\n 'either': 330,\n 'else': 331,\n 'email': 332,\n 'emailed': 333,\n 'employee': 334,\n 'employer': 335,\n 'employment': 336,\n 'enclosed': 337,\n 'end': 338,\n 'ending': 339,\n 'enough': 340,\n 'ensure': 341,\n 'entire': 342,\n 'eperian': 343,\n 'eplain': 344,\n 'eplained': 345,\n 'eplanation': 346,\n 'epress': 347,\n 'equifa': 348,\n 'erroneous': 349,\n 'error': 350,\n 'escrow': 351,\n 'etc': 352,\n 'etra': 353,\n 'etremely': 354,\n 'even': 355,\n 'ever': 356,\n 'every': 357,\n 'everything': 358,\n 'evidence': 359,\n 'f': 360,\n 'fa': 361,\n 'fact': 362,\n 'fail': 363,\n 'failed': 364,\n 'failure': 365,\n 'fair': 366,\n 'false': 367,\n 'falsely': 368,\n 'family': 369,\n 'far': 370,\n 'fargo': 371,\n 'fault': 372,\n 'fcra': 373,\n 'fdcpa': 374,\n 'federal': 375,\n 'federally': 376,\n 'fee': 377,\n 'feel': 378,\n 'fi': 379,\n 'fico': 380,\n 'fied': 381,\n 'file': 382,\n 'filed': 383,\n 'filing': 384,\n 'final': 385,\n 'finally': 386,\n 'finance': 387,\n 'financial': 388,\n 'find': 389,\n 'firm': 390,\n 'first': 391,\n 'fl': 392,\n 'follow': 393,\n 'followed': 394,\n 'following': 395,\n 'forbearance': 396,\n 'forced': 397,\n 'foreclosure': 398,\n 'form': 399,\n 'formal': 400,\n 'forward': 401,\n 'found': 402,\n 'four': 403,\n 'fraud': 404,\n 'fraudulent': 405,\n 'fraudulently': 406,\n 'free': 407,\n 'freeze': 408,\n 'friend': 409,\n 'ftc': 410,\n 'full': 411,\n 'fully': 412,\n 'fund': 413,\n 'furnish': 414,\n 'furnished': 415,\n 'furnisher': 416,\n 'furnishers': 417,\n 'furthermore': 418,\n 'future': 419,\n 'ga': 420,\n 'gave': 421,\n 'general': 422,\n 'get': 423,\n 'getting': 424,\n 'give': 425,\n 'given': 426,\n 'giving': 427,\n 'go': 428,\n 'going': 429,\n 'gone': 430,\n 'good': 431,\n 'got': 432,\n 'gotten': 433,\n 'government': 434,\n 'hand': 435,\n 'happen': 436,\n 'happened': 437,\n 'hard': 438,\n 'hardship': 439,\n 'havent': 440,\n 'heard': 441,\n 'held': 442,\n 'help': 443,\n 'high': 444,\n 'higher': 445,\n 'history': 446,\n 'hold': 447,\n 'home': 448,\n 'hope': 449,\n 'hour': 450,\n 'house': 451,\n 'however': 452,\n 'hung': 453,\n 'husband': 454,\n 'id': 455,\n 'idea': 456,\n 'identification': 457,\n 'identified': 458,\n 'identifying': 459,\n 'identity': 460,\n 'ignored': 461,\n 'illegal': 462,\n 'im': 463,\n 'immediate': 464,\n 'immediately': 465,\n 'impact': 466,\n 'impacted': 467,\n 'inaccuracy': 468,\n 'inaccurate': 469,\n 'inc': 470,\n 'include': 471,\n 'included': 472,\n 'including': 473,\n 'income': 474,\n 'incomplete': 475,\n 'incorrect': 476,\n 'incorrectly': 477,\n 'increase': 478,\n 'indicated': 479,\n 'individual': 480,\n 'info': 481,\n 'inform': 482,\n 'information': 483,\n 'informed': 484,\n 'initial': 485,\n 'initiated': 486,\n 'inquired': 487,\n 'inquires': 488,\n 'inquiry': 489,\n 'instead': 490,\n 'institution': 491,\n 'instruction': 492,\n 'insurance': 493,\n 'interest': 494,\n 'investigate': 495,\n 'investigated': 496,\n 'investigation': 497,\n 'involved': 498,\n 'isnt': 499,\n 'issue': 500,\n 'issued': 501,\n 'item': 502,\n 'ive': 503,\n 'job': 504,\n 'keep': 505,\n 'kept': 506,\n 'kind': 507,\n 'kindly': 508,\n 'knew': 509,\n 'know': 510,\n 'knowledge': 511,\n 'known': 512,\n 'lack': 513,\n 'last': 514,\n 'late': 515,\n 'later': 516,\n 'law': 517,\n 'lawsuit': 518,\n 'lawyer': 519,\n 'le': 520,\n 'lease': 521,\n 'least': 522,\n 'left': 523,\n 'legal': 524,\n 'legally': 525,\n 'lender': 526,\n 'lending': 527,\n 'let': 528,\n 'letter': 529,\n 'liability': 530,\n 'license': 531,\n 'lien': 532,\n 'life': 533,\n 'like': 534,\n 'limit': 535,\n 'line': 536,\n 'list': 537,\n 'listed': 538,\n 'litigation': 539,\n 'live': 540,\n 'lived': 541,\n 'living': 542,\n 'llc': 543,\n 'loan': 544,\n 'local': 545,\n 'long': 546,\n 'longer': 547,\n 'look': 548,\n 'looked': 549,\n 'looking': 550,\n 'loss': 551,\n 'lost': 552,\n 'lot': 553,\n 'low': 554,\n 'lower': 555,\n 'made': 556,\n 'mail': 557,\n 'mailed': 558,\n 'major': 559,\n 'make': 560,\n 'making': 561,\n 'management': 562,\n 'manager': 563,\n 'manner': 564,\n 'many': 565,\n 'mark': 566,\n 'matter': 567,\n 'may': 568,\n 'mean': 569,\n 'medical': 570,\n 'member': 571,\n 'mentioned': 572,\n 'merchant': 573,\n 'message': 574,\n 'method': 575,\n 'mine': 576,\n 'minimum': 577,\n 'minute': 578,\n 'misleading': 579,\n 'missed': 580,\n 'missing': 581,\n 'mistake': 582,\n 'modification': 583,\n 'money': 584,\n 'month': 585,\n 'monthly': 586,\n 'mortgage': 587,\n 'mother': 588,\n 'move': 589,\n 'moved': 590,\n 'mr': 591,\n 'much': 592,\n 'multiple': 593,\n 'must': 594,\n 'n': 595,\n 'name': 596,\n 'named': 597,\n 'national': 598,\n 'navient': 599,\n 'necessary': 600,\n 'need': 601,\n 'needed': 602,\n 'negative': 603,\n 'negatively': 604,\n 'neither': 605,\n 'net': 606,\n 'never': 607,\n 'new': 608,\n 'none': 609,\n 'note': 610,\n 'nothing': 611,\n 'notice': 612,\n 'noticed': 613,\n 'notification': 614,\n 'notified': 615,\n 'notify': 616,\n 'nt': 617,\n 'number': 618,\n 'numerous': 619,\n 'obligation': 620,\n 'obligor': 621,\n 'obtain': 622,\n 'obtained': 623,\n 'occasion': 624,\n 'occurred': 625,\n 'ocwen': 626,\n 'offer': 627,\n 'offered': 628,\n 'office': 629,\n 'officer': 630,\n 'ok': 631,\n 'old': 632,\n 'one': 633,\n 'online': 634,\n 'open': 635,\n 'opened': 636,\n 'opening': 637,\n 'opportunity': 638,\n 'option': 639,\n 'order': 640,\n 'original': 641,\n 'others': 642,\n 'otherwise': 643,\n 'outstanding': 644,\n 'overdraft': 645,\n 'owe': 646,\n 'owed': 647,\n 'owner': 648,\n 'page': 649,\n 'paid': 650,\n 'pandemic': 651,\n 'paper': 652,\n 'paperwork': 653,\n 'paragraph': 654,\n 'part': 655,\n 'party': 656,\n 'passed': 657,\n 'past': 658,\n 'pay': 659,\n 'paying': 660,\n 'payment': 661,\n 'payoff': 662,\n 'paypal': 663,\n 'penalty': 664,\n 'pending': 665,\n 'people': 666,\n 'per': 667,\n 'period': 668,\n 'permissible': 669,\n 'permission': 670,\n 'person': 671,\n 'personal': 672,\n 'phone': 673,\n 'place': 674,\n 'placed': 675,\n 'plan': 676,\n 'please': 677,\n 'plus': 678,\n 'pnc': 679,\n 'point': 680,\n 'police': 681,\n 'policy': 682,\n 'portfolio': 683,\n 'possession': 684,\n 'possible': 685,\n 'post': 686,\n 'posted': 687,\n 'practice': 688,\n 'previous': 689,\n 'previously': 690,\n 'principal': 691,\n 'prior': 692,\n 'privacy': 693,\n 'privacy15': 694,\n 'private': 695,\n 'problem': 696,\n 'procedure': 697,\n 'process': 698,\n 'processed': 699,\n 'processing': 700,\n 'product': 701,\n 'profile': 702,\n 'program': 703,\n 'promised': 704,\n 'promptly': 705,\n 'proof': 706,\n 'proper': 707,\n 'properly': 708,\n 'property': 709,\n 'protect': 710,\n 'protected': 711,\n 'protection': 712,\n 'prove': 713,\n 'provide': 714,\n 'provided': 715,\n 'providing': 716,\n 'provision': 717,\n 'public': 718,\n 'pull': 719,\n 'pulled': 720,\n 'purchase': 721,\n 'purchased': 722,\n 'purpose': 723,\n 'pursuant': 724,\n 'put': 725,\n 'question': 726,\n 'rate': 727,\n 'reach': 728,\n 'reached': 729,\n 'read': 730,\n 'real': 731,\n 'realized': 732,\n 'really': 733,\n 'reason': 734,\n 'reasonable': 735,\n 'receipt': 736,\n 'receive': 737,\n 'received': 738,\n 'receiving': 739,\n 'recent': 740,\n 'recently': 741,\n 'recognize': 742,\n 'record': 743,\n 'recorded': 744,\n 'recovery': 745,\n 'reference': 746,\n 'refinance': 747,\n 'reflect': 748,\n 'refund': 749,\n 'refunded': 750,\n 'refuse': 751,\n 'refused': 752,\n 'refusing': 753,\n 'regard': 754,\n 'regarding': 755,\n 'regulation': 756,\n 'reinvestigation': 757,\n 'related': 758,\n 'relating': 759,\n 'relationship': 760,\n 'release': 761,\n 'remaining': 762,\n 'removal': 763,\n 'remove': 764,\n 'removed': 765,\n 'rep': 766,\n 'repair': 767,\n 'repayment': 768,\n 'repeatedly': 769,\n 'reply': 770,\n 'report': 771,\n 'reported': 772,\n 'reporting': 773,\n 'representative': 774,\n 'request': 775,\n 'requested': 776,\n 'requesting': 777,\n 'require': 778,\n 'required': 779,\n 'requirement': 780,\n 'requires': 781,\n 'research': 782,\n 'resolution': 783,\n 'resolve': 784,\n 'resolved': 785,\n 'respect': 786,\n 'respond': 787,\n 'responded': 788,\n 'response': 789,\n 'responsibility': 790,\n 'responsible': 791,\n 'result': 792,\n 'resulted': 793,\n 'resulting': 794,\n 'return': 795,\n 'returned': 796,\n 'review': 797,\n 'reviewed': 798,\n 'reviewing': 799,\n 'right': 800,\n 'rule': 801,\n 'run': 802,\n 'said': 803,\n 'sale': 804,\n 'saving': 805,\n 'saw': 806,\n 'say': 807,\n 'saying': 808,\n 'scam': 809,\n 'school': 810,\n 'score': 811,\n 'second': 812,\n 'section': 813,\n 'security': 814,\n 'see': 815,\n 'seek': 816,\n 'seeking': 817,\n 'seems': 818,\n 'send': 819,\n 'sending': 820,\n 'sent': 821,\n 'service': 822,\n 'servicer': 823,\n 'servicing': 824,\n 'set': 825,\n 'settled': 826,\n 'settlement': 827,\n 'seven': 828,\n 'several': 829,\n 'shall': 830,\n 'short': 831,\n 'show': 832,\n 'showed': 833,\n 'showing': 834,\n 'shown': 835,\n 'sign': 836,\n 'signature': 837,\n 'signed': 838,\n 'similar': 839,\n 'simply': 840,\n 'since': 841,\n 'sincerely': 842,\n 'single': 843,\n 'site': 844,\n 'situation': 845,\n 'small': 846,\n 'social': 847,\n 'sold': 848,\n 'solution': 849,\n 'someone': 850,\n 'something': 851,\n 'son': 852,\n 'soon': 853,\n 'speak': 854,\n 'speaking': 855,\n 'specific': 856,\n 'specifically': 857,\n 'spent': 858,\n 'spoke': 859,\n 'standard': 860,\n 'standing': 861,\n 'start': 862,\n 'started': 863,\n 'state': 864,\n 'stated': 865,\n 'statement': 866,\n 'stating': 867,\n 'status': 868,\n 'statute': 869,\n 'step': 870,\n 'still': 871,\n 'stolen': 872,\n 'stop': 873,\n 'stopped': 874,\n 'store': 875,\n 'stress': 876,\n 'student': 877,\n 'subject': 878,\n 'submit': 879,\n 'submitted': 880,\n 'submitting': 881,\n 'subsection': 882,\n 'successful': 883,\n 'supervisor': 884,\n 'support': 885,\n 'supporting': 886,\n 'supposed': 887,\n 'sure': 888,\n 'synchrony': 889,\n 'system': 890,\n 'ta': 891,\n 'taes': 892,\n 'take': 893,\n 'taken': 894,\n 'taking': 895,\n 'talk': 896,\n 'talked': 897,\n 'team': 898,\n 'telephone': 899,\n 'tell': 900,\n 'telling': 901,\n 'term': 902,\n 'tet': 903,\n 'thank': 904,\n 'thats': 905,\n 'theft': 906,\n 'therefore': 907,\n 'thing': 908,\n 'think': 909,\n 'third': 910,\n 'though': 911,\n 'thought': 912,\n 'three': 913,\n 'thus': 914,\n 'time': 915,\n 'timely': 916,\n 'title': 917,\n 'today': 918,\n 'told': 919,\n 'took': 920,\n 'total': 921,\n 'towards': 922,\n 'trade': 923,\n 'transaction': 924,\n 'transfer': 925,\n 'transferred': 926,\n 'transunion': 927,\n 'treat': 928,\n 'tried': 929,\n 'true': 930,\n 'trust': 931,\n 'truth': 932,\n 'try': 933,\n 'trying': 934,\n 'twice': 935,\n 'two': 936,\n 'type': 937,\n 'u': 938,\n 'unable': 939,\n 'unauthorized': 940,\n 'understand': 941,\n 'unfair': 942,\n 'union': 943,\n 'united': 944,\n 'unknown': 945,\n 'unless': 946,\n 'unverifiable': 947,\n 'unverified': 948,\n 'update': 949,\n 'updated': 950,\n 'upon': 951,\n 'usc': 952,\n 'use': 953,\n 'used': 954,\n 'using': 955,\n 'valid': 956,\n 'validate': 957,\n 'validated': 958,\n 'validation': 959,\n 'value': 960,\n 'vehicle': 961,\n 'verifiable': 962,\n 'verification': 963,\n 'verified': 964,\n 'verify': 965,\n 'via': 966,\n 'victim': 967,\n 'violated': 968,\n 'violating': 969,\n 'violation': 970,\n 'wait': 971,\n 'waiting': 972,\n 'want': 973,\n 'wanted': 974,\n 'wasnt': 975,\n 'way': 976,\n 'website': 977,\n 'week': 978,\n 'well': 979,\n 'went': 980,\n 'whether': 981,\n 'whole': 982,\n 'wife': 983,\n 'willful': 984,\n 'wire': 985,\n 'withdrawal': 986,\n 'within': 987,\n 'without': 988,\n 'wont': 989,\n 'work': 990,\n 'worked': 991,\n 'working': 992,\n 'would': 993,\n 'writing': 994,\n 'written': 995,\n 'wrong': 996,\n 'wrote': 997,\n 'year': 998,\n 'years15': 999,\n ...}"
     },
     "execution_count": 53,
     "metadata": {},
     "output_type": "execute_result"
    }
   ],
   "source": [
    "dataset.token2idx"
   ],
   "metadata": {
    "collapsed": false,
    "ExecuteTime": {
     "end_time": "2023-12-05T18:52:39.912442Z",
     "start_time": "2023-12-05T18:52:39.890373Z"
    }
   },
   "id": "308fea03b6b49807"
  },
  {
   "cell_type": "markdown",
   "source": [
    "Split dataset into train, validation, and test"
   ],
   "metadata": {
    "collapsed": false
   },
   "id": "aa09149f43dce255"
  },
  {
   "cell_type": "code",
   "execution_count": 54,
   "outputs": [],
   "source": [
    "def split_train_valid_test(corpus, valid_ratio=0.1, test_ratio=0.1):\n",
    "    test_length = int(len(corpus) * test_ratio)\n",
    "    valid_length = int(len(corpus) * valid_ratio)\n",
    "    train_length = len(corpus) - valid_length - test_length\n",
    "    return random_split(corpus, lengths=[train_length, valid_length, test_length])"
   ],
   "metadata": {
    "collapsed": false,
    "ExecuteTime": {
     "end_time": "2023-12-05T18:53:40.831331Z",
     "start_time": "2023-12-05T18:53:40.807609Z"
    }
   },
   "id": "be60f79950b2afc9"
  },
  {
   "cell_type": "code",
   "execution_count": 55,
   "outputs": [
    {
     "data": {
      "text/plain": "(89949, 4997, 4997)"
     },
     "execution_count": 55,
     "metadata": {},
     "output_type": "execute_result"
    }
   ],
   "source": [
    "valid_ratio = 0.05\n",
    "test_ratio = 0.05\n",
    "\n",
    "train_dataset, valid_dataset, test_dataset = split_train_valid_test(dataset, valid_ratio=valid_ratio, test_ratio=test_ratio)\n",
    "len(train_dataset), len(valid_dataset), len(test_dataset)"
   ],
   "metadata": {
    "collapsed": false,
    "ExecuteTime": {
     "end_time": "2023-12-05T18:53:41.475281Z",
     "start_time": "2023-12-05T18:53:41.470774Z"
    }
   },
   "id": "643af78a0f3d77d9"
  },
  {
   "cell_type": "markdown",
   "source": [
    "Create the `DataLoader`s"
   ],
   "metadata": {
    "collapsed": false
   },
   "id": "7a0226cacbe0f750"
  },
  {
   "cell_type": "code",
   "execution_count": 37,
   "outputs": [],
   "source": [
    "def collate(batch):\n",
    "    inputs = [item[0] for item in batch]\n",
    "    target = torch.LongTensor([item[1] for item in batch])\n",
    "    text = [item[2] for item in batch]\n",
    "    return inputs, target, text\n",
    "\n",
    "\n",
    "batch_size = 512\n",
    "\n",
    "train_loader = DataLoader(train_dataset, batch_size=batch_size, collate_fn=collate)\n",
    "valid_loader = DataLoader(valid_dataset, batch_size=batch_size, collate_fn=collate)\n",
    "test_loader = DataLoader(test_dataset, batch_size=batch_size, collate_fn=collate)"
   ],
   "metadata": {
    "collapsed": false,
    "ExecuteTime": {
     "end_time": "2023-12-05T17:41:04.711504Z",
     "start_time": "2023-12-05T17:41:04.709763Z"
    }
   },
   "id": "42144af18a74e6d8"
  },
  {
   "cell_type": "markdown",
   "source": [
    "## Create the Model"
   ],
   "metadata": {
    "collapsed": false
   },
   "id": "69c5430f6d8a7b00"
  },
  {
   "cell_type": "code",
   "execution_count": 56,
   "outputs": [],
   "source": [
    "def pad_sequences(sequences, padding_val=0, pad_left=False):\n",
    "    \"\"\"Pad a list of sequences to the same length with a padding_val.\"\"\"\n",
    "    sequence_length = max(len(sequence) for sequence in sequences)\n",
    "    if not pad_left:\n",
    "        return [sequence + (sequence_length - len(sequence)) * [padding_val] for sequence in sequences]\n",
    "    return [(sequence_length - len(sequence)) * [padding_val] + sequence for sequence in sequences]\n",
    "\n",
    "\n",
    "class TextClassificationModel(nn.Module):\n",
    "    def __init__(self, output_size, hidden_size, vocab_size, padding_idx,\n",
    "                 device, dropout_probability=0.3, bidirectional=False, n_layers=1,\n",
    "                 embedding_dimension=50, batch_size=32):\n",
    "        super(TextClassificationModel, self).__init__()\n",
    "        self.hidden_size = hidden_size\n",
    "        self.output_size = output_size\n",
    "        self.batch_size = batch_size\n",
    "        self.n_layers = n_layers\n",
    "        self.dropout_probability = dropout_probability\n",
    "        self.device = device\n",
    "        self.padding_idx = padding_idx\n",
    "\n",
    "        # We need to multiply some layers by two if the model is bidirectional\n",
    "        self.input_size_factor = 2 if bidirectional else 1\n",
    "\n",
    "        self.embedding = nn.Embedding(vocab_size, embedding_dimension)\n",
    "\n",
    "        self.rnn = nn.LSTM(embedding_dimension, self.hidden_size, self.n_layers, bidirectional=bidirectional)\n",
    "        self.drop = nn.Dropout(p=self.dropout_probability)\n",
    "        self.fc1 = nn.Linear(self.hidden_size * self.input_size_factor, 16)\n",
    "        self.fc2 = nn.Linear(16, self.output_size)\n",
    "\n",
    "    def init_hidden(self):\n",
    "        \"\"\"Set initial hidden states.\"\"\"\n",
    "        h0 = torch.randn(self.n_layers * self.input_size_factor, self.batch_size, self.hidden_size)\n",
    "        c0 = torch.randn(self.n_layers * self.input_size_factor, self.batch_size, self.hidden_size)\n",
    "        h0 = h0.to(self.device)\n",
    "        c0 = c0.to(self.device)\n",
    "        return h0, c0\n",
    "\n",
    "    def apply_rnn(self, embedding_out, lengths):\n",
    "        packed = pack_padded_sequence(embedding_out, lengths, batch_first=True)\n",
    "        activations, _ = self.rnn(packed, self.init_hidden())\n",
    "        activations, _ = pad_packed_sequence(activations, batch_first=True)\n",
    "\n",
    "        indices = (lengths - 1).view(-1, 1).expand(activations.size(0), activations.size(2), ).unsqueeze(1)\n",
    "        indices = indices.to(self.device)\n",
    "\n",
    "        activations = activations.gather(1, indices).squeeze(1)\n",
    "        return activations\n",
    "\n",
    "    def forward(self, inputs, return_activations=False):\n",
    "        batch_size = len(inputs)\n",
    "\n",
    "        # This makes the model not break for the last batch that might be less\n",
    "        # than batch_size in size\n",
    "        if batch_size != self.batch_size:\n",
    "            self.batch_size = batch_size\n",
    "\n",
    "        lengths = torch.LongTensor([len(x) for x in inputs])\n",
    "        lengths, permutation_indices = lengths.sort(0, descending=True)\n",
    "\n",
    "        # Pad sequences so that they are all the same length\n",
    "        padded_inputs = pad_sequences(inputs, padding_val=self.padding_idx)\n",
    "        inputs = torch.LongTensor(padded_inputs)\n",
    "\n",
    "        # Sort inputs\n",
    "        inputs = inputs[permutation_indices].to(self.device)\n",
    "        # Get embeddings\n",
    "        embedding_out = self.embedding(inputs)\n",
    "\n",
    "        activations = self.apply_rnn(embedding_out, lengths)\n",
    "\n",
    "        x = self.drop(torch.relu(self.fc1(activations)))\n",
    "        x = self.fc2(x)\n",
    "        out = torch.sigmoid(x)\n",
    "\n",
    "        # Put the output back in correct order\n",
    "        permutation_index_pairs = list(zip(permutation_indices.tolist(), list(range(len(permutation_indices)))))\n",
    "        reordered_indices = [pair[1] for pair in sorted(permutation_index_pairs, key=lambda pair: pair[0])]\n",
    "\n",
    "        if return_activations:\n",
    "            return out[reordered_indices], x[reordered_indices]\n",
    "\n",
    "        return out[reordered_indices]"
   ],
   "metadata": {
    "collapsed": false,
    "ExecuteTime": {
     "end_time": "2023-12-05T18:57:59.994937Z",
     "start_time": "2023-12-05T18:57:59.976972Z"
    }
   },
   "id": "829d4ad945331549"
  },
  {
   "cell_type": "markdown",
   "source": [
    "Create the functions for training and validating."
   ],
   "metadata": {
    "collapsed": false
   },
   "id": "ecc0b1dd5444f8ae"
  },
  {
   "cell_type": "code",
   "execution_count": 38,
   "outputs": [],
   "source": [
    "def train_epoch(model, optimizer, scheduler, train_loader):\n",
    "    model.train()\n",
    "    total_loss = total = 0\n",
    "    progress_bar = tqdm(train_loader, desc='Training', leave=False)\n",
    "    for inputs, target, text in progress_bar:\n",
    "        target = target.to(device)\n",
    "        # Clean old gradients\n",
    "        optimizer.zero_grad()\n",
    "        # Forwards pass\n",
    "        output = model(inputs)\n",
    "        # Calculate how wrong the model is\n",
    "        loss = criterion(output, target)\n",
    "        # Perform gradient descent, backwards pass\n",
    "        loss.backward()\n",
    "        # Take a step in the right direction\n",
    "        optimizer.step()\n",
    "        scheduler.step()\n",
    "        # Record metrics\n",
    "        total_loss += loss.item()\n",
    "        total += len(target)\n",
    "\n",
    "    return total_loss / total\n",
    "\n",
    "\n",
    "def validate_epoch(model, valid_loader):\n",
    "    model.eval()\n",
    "    total_loss = total = 0\n",
    "    with torch.no_grad():\n",
    "        progress_bar = tqdm(valid_loader, desc='Validating', leave=False)\n",
    "        for inputs, target, text in progress_bar:\n",
    "            target = target.to(device)\n",
    "            # Forwards pass\n",
    "            output = model(inputs)\n",
    "            # Calculate how wrong the model is\n",
    "            loss = criterion(output, target)\n",
    "            # Record metrics\n",
    "            total_loss += loss.item()\n",
    "            total += len(target)\n",
    "\n",
    "    return total_loss / total"
   ],
   "metadata": {
    "collapsed": false,
    "ExecuteTime": {
     "start_time": "2023-12-05T17:41:09.519307Z"
    }
   },
   "id": "a844bffb5ffebe13"
  },
  {
   "cell_type": "markdown",
   "source": [
    "## Finally, train the model"
   ],
   "metadata": {
    "collapsed": false
   },
   "id": "ec601f48f6baf704"
  },
  {
   "cell_type": "code",
   "execution_count": 40,
   "outputs": [
    {
     "data": {
      "text/plain": "device(type='cpu')"
     },
     "execution_count": 40,
     "metadata": {},
     "output_type": "execute_result"
    }
   ],
   "source": [
    "if torch.cuda.is_available():\n",
    "    device = torch.device('cuda')\n",
    "# elif torch.backends.mps.is_available():\n",
    "#     device = torch.device('mps')\n",
    "else:\n",
    "    device = torch.device('cpu')\n",
    "device"
   ],
   "metadata": {
    "collapsed": false,
    "ExecuteTime": {
     "start_time": "2023-12-05T17:41:11.397339Z"
    }
   },
   "id": "426a84df34a122ea"
  },
  {
   "cell_type": "code",
   "execution_count": 41,
   "outputs": [
    {
     "data": {
      "text/plain": "TextClassificationModel(\n  (embedding): Embedding(1002, 128)\n  (rnn): LSTM(128, 64, bidirectional=True)\n  (drop): Dropout(p=0.2, inplace=False)\n  (fc1): Linear(in_features=128, out_features=16, bias=True)\n  (fc2): Linear(in_features=16, out_features=13, bias=True)\n)"
     },
     "execution_count": 41,
     "metadata": {},
     "output_type": "execute_result"
    }
   ],
   "source": [
    "dropout_probability = 0.2\n",
    "n_rnn_layers = 1\n",
    "embedding_dimension = 128\n",
    "hidden_size = 64\n",
    "is_bidirectional = True\n",
    "max_epochs = 10\n",
    "learning_rate = 0.001\n",
    "\n",
    "model = TextClassificationModel(\n",
    "    output_size=13,\n",
    "    hidden_size=hidden_size,\n",
    "    embedding_dimension=embedding_dimension,\n",
    "    vocab_size=len(dataset.token2idx),\n",
    "    padding_idx=dataset.token2idx['<pad>'],\n",
    "    dropout_probability=dropout_probability,\n",
    "    bidirectional=is_bidirectional,\n",
    "    n_layers=n_rnn_layers,\n",
    "    device=device,\n",
    "    batch_size=batch_size\n",
    ")\n",
    "model = model.to(device)\n",
    "model"
   ],
   "metadata": {
    "collapsed": false,
    "ExecuteTime": {
     "end_time": "2023-12-05T17:41:12.223029Z",
     "start_time": "2023-12-05T17:41:12.216259Z"
    }
   },
   "id": "78e3ebc419b7ec64"
  },
  {
   "cell_type": "code",
   "execution_count": 43,
   "outputs": [],
   "source": [
    "criterion = nn.CrossEntropyLoss()\n",
    "optimizer = optim.Adam(filter(lambda p: p.requires_grad, model.parameters()), lr=learning_rate)\n",
    "scheduler = CosineAnnealingLR(optimizer, 1)"
   ],
   "metadata": {
    "collapsed": false,
    "ExecuteTime": {
     "end_time": "2023-12-05T17:41:19.407701Z",
     "start_time": "2023-12-05T17:41:19.382124Z"
    }
   },
   "id": "febf9c0fec390272"
  },
  {
   "cell_type": "code",
   "execution_count": 44,
   "outputs": [
    {
     "data": {
      "text/plain": "Training:   0%|          | 0/176 [00:00<?, ?it/s]",
      "application/vnd.jupyter.widget-view+json": {
       "version_major": 2,
       "version_minor": 0,
       "model_id": "6e1bacd7bebd40118e84076a2c14f535"
      }
     },
     "metadata": {},
     "output_type": "display_data"
    },
    {
     "data": {
      "text/plain": "Validating:   0%|          | 0/10 [00:00<?, ?it/s]",
      "application/vnd.jupyter.widget-view+json": {
       "version_major": 2,
       "version_minor": 0,
       "model_id": "010bfc5961764a9db6d164be625616a3"
      }
     },
     "metadata": {},
     "output_type": "display_data"
    },
    {
     "name": "stdout",
     "output_type": "stream",
     "text": [
      "epoch #  1\ttrain_loss: 4.40e-03\tvalid_loss: 4.21e-03\n"
     ]
    },
    {
     "data": {
      "text/plain": "Training:   0%|          | 0/176 [00:00<?, ?it/s]",
      "application/vnd.jupyter.widget-view+json": {
       "version_major": 2,
       "version_minor": 0,
       "model_id": "4b9ef3bfeba14f3781db4db21fe6ab30"
      }
     },
     "metadata": {},
     "output_type": "display_data"
    },
    {
     "data": {
      "text/plain": "Validating:   0%|          | 0/10 [00:00<?, ?it/s]",
      "application/vnd.jupyter.widget-view+json": {
       "version_major": 2,
       "version_minor": 0,
       "model_id": "2560d5a3f851468c9873ace8e80b1be1"
      }
     },
     "metadata": {},
     "output_type": "display_data"
    },
    {
     "name": "stdout",
     "output_type": "stream",
     "text": [
      "epoch #  2\ttrain_loss: 4.11e-03\tvalid_loss: 4.18e-03\n"
     ]
    },
    {
     "data": {
      "text/plain": "Training:   0%|          | 0/176 [00:00<?, ?it/s]",
      "application/vnd.jupyter.widget-view+json": {
       "version_major": 2,
       "version_minor": 0,
       "model_id": "0b6881fba0044da2ad70a1d7cd01b7ec"
      }
     },
     "metadata": {},
     "output_type": "display_data"
    },
    {
     "data": {
      "text/plain": "Validating:   0%|          | 0/10 [00:00<?, ?it/s]",
      "application/vnd.jupyter.widget-view+json": {
       "version_major": 2,
       "version_minor": 0,
       "model_id": "23c81cd3356143979967bdfd1a23225f"
      }
     },
     "metadata": {},
     "output_type": "display_data"
    },
    {
     "name": "stdout",
     "output_type": "stream",
     "text": [
      "epoch #  3\ttrain_loss: 4.08e-03\tvalid_loss: 4.15e-03\n"
     ]
    },
    {
     "data": {
      "text/plain": "Training:   0%|          | 0/176 [00:00<?, ?it/s]",
      "application/vnd.jupyter.widget-view+json": {
       "version_major": 2,
       "version_minor": 0,
       "model_id": "30e87f71f9694ccca6522d0e01d45857"
      }
     },
     "metadata": {},
     "output_type": "display_data"
    },
    {
     "data": {
      "text/plain": "Validating:   0%|          | 0/10 [00:00<?, ?it/s]",
      "application/vnd.jupyter.widget-view+json": {
       "version_major": 2,
       "version_minor": 0,
       "model_id": "ada2fcbc717e45a8b78be1dd8c95ff0a"
      }
     },
     "metadata": {},
     "output_type": "display_data"
    },
    {
     "name": "stdout",
     "output_type": "stream",
     "text": [
      "epoch #  4\ttrain_loss: 4.05e-03\tvalid_loss: 4.12e-03\n"
     ]
    },
    {
     "data": {
      "text/plain": "Training:   0%|          | 0/176 [00:00<?, ?it/s]",
      "application/vnd.jupyter.widget-view+json": {
       "version_major": 2,
       "version_minor": 0,
       "model_id": "7662cd50b1e0478cbc692ad8c7bb958f"
      }
     },
     "metadata": {},
     "output_type": "display_data"
    },
    {
     "data": {
      "text/plain": "Validating:   0%|          | 0/10 [00:00<?, ?it/s]",
      "application/vnd.jupyter.widget-view+json": {
       "version_major": 2,
       "version_minor": 0,
       "model_id": "5dfa2bb74e5d4a61992d52804faef714"
      }
     },
     "metadata": {},
     "output_type": "display_data"
    },
    {
     "name": "stdout",
     "output_type": "stream",
     "text": [
      "epoch #  5\ttrain_loss: 4.02e-03\tvalid_loss: 4.06e-03\n"
     ]
    },
    {
     "data": {
      "text/plain": "Training:   0%|          | 0/176 [00:00<?, ?it/s]",
      "application/vnd.jupyter.widget-view+json": {
       "version_major": 2,
       "version_minor": 0,
       "model_id": "2f67da748ccf4707a585f1fe650ed216"
      }
     },
     "metadata": {},
     "output_type": "display_data"
    },
    {
     "data": {
      "text/plain": "Validating:   0%|          | 0/10 [00:00<?, ?it/s]",
      "application/vnd.jupyter.widget-view+json": {
       "version_major": 2,
       "version_minor": 0,
       "model_id": "48e770b6f3ac436b9b86af777820d986"
      }
     },
     "metadata": {},
     "output_type": "display_data"
    },
    {
     "name": "stdout",
     "output_type": "stream",
     "text": [
      "epoch #  6\ttrain_loss: 3.96e-03\tvalid_loss: 3.99e-03\n"
     ]
    },
    {
     "data": {
      "text/plain": "Training:   0%|          | 0/176 [00:00<?, ?it/s]",
      "application/vnd.jupyter.widget-view+json": {
       "version_major": 2,
       "version_minor": 0,
       "model_id": "e7c401fdd857472895b8824b8573a29b"
      }
     },
     "metadata": {},
     "output_type": "display_data"
    },
    {
     "data": {
      "text/plain": "Validating:   0%|          | 0/10 [00:00<?, ?it/s]",
      "application/vnd.jupyter.widget-view+json": {
       "version_major": 2,
       "version_minor": 0,
       "model_id": "1770aed079624f10b5afe26e7719f7ca"
      }
     },
     "metadata": {},
     "output_type": "display_data"
    },
    {
     "name": "stdout",
     "output_type": "stream",
     "text": [
      "epoch #  7\ttrain_loss: 3.90e-03\tvalid_loss: 3.96e-03\n"
     ]
    },
    {
     "data": {
      "text/plain": "Training:   0%|          | 0/176 [00:00<?, ?it/s]",
      "application/vnd.jupyter.widget-view+json": {
       "version_major": 2,
       "version_minor": 0,
       "model_id": "9cb09e6f62024d25be980ebcc55c9617"
      }
     },
     "metadata": {},
     "output_type": "display_data"
    },
    {
     "data": {
      "text/plain": "Validating:   0%|          | 0/10 [00:00<?, ?it/s]",
      "application/vnd.jupyter.widget-view+json": {
       "version_major": 2,
       "version_minor": 0,
       "model_id": "dddbcfa5dcb34c459bccab9ef2c8e2c3"
      }
     },
     "metadata": {},
     "output_type": "display_data"
    },
    {
     "name": "stdout",
     "output_type": "stream",
     "text": [
      "epoch #  8\ttrain_loss: 3.88e-03\tvalid_loss: 3.95e-03\n"
     ]
    },
    {
     "data": {
      "text/plain": "Training:   0%|          | 0/176 [00:00<?, ?it/s]",
      "application/vnd.jupyter.widget-view+json": {
       "version_major": 2,
       "version_minor": 0,
       "model_id": "26157ef2e9594fa7b3ef9a81fe0d1ba5"
      }
     },
     "metadata": {},
     "output_type": "display_data"
    },
    {
     "data": {
      "text/plain": "Validating:   0%|          | 0/10 [00:00<?, ?it/s]",
      "application/vnd.jupyter.widget-view+json": {
       "version_major": 2,
       "version_minor": 0,
       "model_id": "3551a0fcd593472caaeae05914275792"
      }
     },
     "metadata": {},
     "output_type": "display_data"
    },
    {
     "name": "stdout",
     "output_type": "stream",
     "text": [
      "epoch #  9\ttrain_loss: 3.86e-03\tvalid_loss: 3.93e-03\n"
     ]
    },
    {
     "data": {
      "text/plain": "Training:   0%|          | 0/176 [00:00<?, ?it/s]",
      "application/vnd.jupyter.widget-view+json": {
       "version_major": 2,
       "version_minor": 0,
       "model_id": "03ba8a86b19c4840bf04771e3dc7a94d"
      }
     },
     "metadata": {},
     "output_type": "display_data"
    },
    {
     "data": {
      "text/plain": "Validating:   0%|          | 0/10 [00:00<?, ?it/s]",
      "application/vnd.jupyter.widget-view+json": {
       "version_major": 2,
       "version_minor": 0,
       "model_id": "308f6f2be36748c9b93edfb87d7e81a2"
      }
     },
     "metadata": {},
     "output_type": "display_data"
    },
    {
     "name": "stdout",
     "output_type": "stream",
     "text": [
      "epoch # 10\ttrain_loss: 3.85e-03\tvalid_loss: 3.94e-03\n"
     ]
    }
   ],
   "source": [
    "n_epochs = 0\n",
    "train_losses, valid_losses = [], []\n",
    "for _ in range(max_epochs):\n",
    "    train_loss = train_epoch(model, optimizer, scheduler, train_loader)\n",
    "    valid_loss = validate_epoch(model, valid_loader)\n",
    "\n",
    "    tqdm.write(f'epoch #{n_epochs + 1:3d}\\ttrain_loss: {train_loss:.2e}' f'\\tvalid_loss: {valid_loss:.2e}\\n')\n",
    "\n",
    "    # Early stopping if the current valid_loss is greater than the last three valid losses\n",
    "    if len(valid_losses) > 2 and all(valid_loss >= loss for loss in valid_losses[-3:]):\n",
    "        print('Stopping early')\n",
    "        break\n",
    "\n",
    "    train_losses.append(train_loss)\n",
    "    valid_losses.append(valid_loss)\n",
    "\n",
    "    n_epochs += 1"
   ],
   "metadata": {
    "collapsed": false,
    "ExecuteTime": {
     "end_time": "2023-12-05T18:41:22.321934Z",
     "start_time": "2023-12-05T17:41:21.763582Z"
    }
   },
   "id": "d235a217fe3998dc"
  },
  {
   "cell_type": "code",
   "execution_count": 45,
   "outputs": [
    {
     "data": {
      "text/plain": "<Figure size 640x480 with 1 Axes>",
      "image/png": "[encoded data removed]"
     },
     "metadata": {},
     "output_type": "display_data"
    }
   ],
   "source": [
    "from matplotlib import pyplot as plt\n",
    "\n",
    "epoch_ticks = range(1, n_epochs + 1)\n",
    "plt.plot(epoch_ticks, train_losses)\n",
    "plt.plot(epoch_ticks, valid_losses)\n",
    "plt.legend(['Train Loss', 'Valid Loss'])\n",
    "plt.title('Losses')\n",
    "plt.xlabel('Epoch #')\n",
    "plt.ylabel('Loss')\n",
    "plt.xticks(epoch_ticks)\n",
    "plt.show()"
   ],
   "metadata": {
    "collapsed": false,
    "ExecuteTime": {
     "end_time": "2023-12-05T18:46:56.500534Z",
     "start_time": "2023-12-05T18:46:56.372954Z"
    }
   },
   "id": "a9f118db4ed464bf"
  },
  {
   "cell_type": "code",
   "execution_count": 17,
   "outputs": [],
   "source": [
    "torch.save(model.state_dict(), \"lstm_model.pth\")"
   ],
   "metadata": {
    "collapsed": false,
    "ExecuteTime": {
     "start_time": "2023-12-05T17:24:30.061379Z"
    }
   },
   "id": "9119bd7c383491d8"
  },
  {
   "cell_type": "code",
   "execution_count": 57,
   "outputs": [
    {
     "data": {
      "text/plain": "TextClassificationModel(\n  (embedding): Embedding(1002, 128)\n  (rnn): LSTM(128, 64, bidirectional=True)\n  (drop): Dropout(p=0.2, inplace=False)\n  (fc1): Linear(in_features=128, out_features=16, bias=True)\n  (fc2): Linear(in_features=16, out_features=13, bias=True)\n)"
     },
     "execution_count": 57,
     "metadata": {},
     "output_type": "execute_result"
    }
   ],
   "source": [
    "model = TextClassificationModel(\n",
    "    output_size=13,  # two classes: positive vs. negative\n",
    "    hidden_size=hidden_size,\n",
    "    embedding_dimension=embedding_dimension,\n",
    "    vocab_size=len(dataset.token2idx),\n",
    "    padding_idx=dataset.token2idx['<pad>'],\n",
    "    dropout_probability=dropout_probability,\n",
    "    bidirectional=is_bidirectional,\n",
    "    n_layers=n_rnn_layers,\n",
    "    device=device,\n",
    "    batch_size=batch_size,\n",
    ")\n",
    "model.load_state_dict(torch.load(\"lstm_model.pth\"))\n",
    "model.eval()"
   ],
   "metadata": {
    "collapsed": false,
    "ExecuteTime": {
     "end_time": "2023-12-05T18:58:16.817912Z",
     "start_time": "2023-12-05T18:58:16.808261Z"
    }
   },
   "id": "efd5fcd7875a6aef"
  },
  {
   "cell_type": "code",
   "execution_count": 58,
   "outputs": [
    {
     "data": {
      "text/plain": "  0%|          | 0/10 [00:00<?, ?it/s]",
      "application/vnd.jupyter.widget-view+json": {
       "version_major": 2,
       "version_minor": 0,
       "model_id": "708b6387786f407da2c9584764068353"
      }
     },
     "metadata": {},
     "output_type": "display_data"
    },
    {
     "name": "stdout",
     "output_type": "stream",
     "text": [
      "tensor([[ 366,  266,  773,  ...,  915,   45,  842],\n",
      "        [ 180,  822,  774,  ...,  783,   45,   45],\n",
      "        [  45,  723,  143,  ...,  463,   47,  953],\n",
      "        ...,\n",
      "        [ 815,  529,  821,  ..., 1001, 1001, 1001],\n",
      "        [ 343,   45,  517,  ..., 1001, 1001, 1001],\n",
      "        [ 966,  966, 1001,  ..., 1001, 1001, 1001]])\n",
      "tensor([[[ 0.9660,  0.2466, -0.5464,  ..., -1.4728, -0.0170, -0.1870],\n",
      "         [-0.5151, -0.5731, -0.4868,  ...,  1.2267,  0.0449,  0.1171],\n",
      "         [-0.0696,  1.0108, -0.7915,  ...,  0.3471, -0.2649, -0.6014],\n",
      "         ...,\n",
      "         [ 1.9378, -0.2163, -1.3722,  ...,  1.6312,  2.3130, -2.3587],\n",
      "         [ 1.0273, -0.6739, -0.1306,  ..., -0.8637,  0.1240,  0.2537],\n",
      "         [ 0.7575,  0.6808,  1.0330,  ...,  0.4201,  1.3480, -2.5223]],\n",
      "\n",
      "        [[-0.7000, -0.8110, -1.0252,  ..., -0.1010,  0.0350,  0.5547],\n",
      "         [-0.1484,  0.7462,  0.9866,  ..., -0.6239,  0.0903,  0.7766],\n",
      "         [ 0.3483,  0.1080, -0.5864,  ...,  1.2636, -0.1586, -0.6150],\n",
      "         ...,\n",
      "         [ 0.6457,  0.0616,  0.2015,  ..., -1.6795, -0.0920, -1.0661],\n",
      "         [ 1.0273, -0.6739, -0.1306,  ..., -0.8637,  0.1240,  0.2537],\n",
      "         [ 1.0273, -0.6739, -0.1306,  ..., -0.8637,  0.1240,  0.2537]],\n",
      "\n",
      "        [[ 1.0273, -0.6739, -0.1306,  ..., -0.8637,  0.1240,  0.2537],\n",
      "         [-0.1908, -2.4114, -0.4594,  ...,  0.4437, -0.5786,  1.0560],\n",
      "         [ 0.9744, -1.1733,  0.2189,  ...,  0.0186,  0.1697, -1.8631],\n",
      "         ...,\n",
      "         [-0.7073,  0.7378, -1.7494,  ...,  0.0034,  0.8055,  2.2823],\n",
      "         [ 0.5018,  1.4592, -0.1288,  ..., -0.9117,  0.2329, -0.6894],\n",
      "         [-0.1243, -0.9296, -1.9410,  ..., -0.9899, -0.1116,  1.0500]],\n",
      "\n",
      "        ...,\n",
      "\n",
      "        [[ 0.4588, -0.9987, -0.2228,  ..., -0.2245, -0.1353, -1.1859],\n",
      "         [-0.5113, -1.8677, -0.1379,  ..., -0.6007, -0.4527,  0.5776],\n",
      "         [-0.8065, -0.1755, -1.2100,  ..., -1.5739,  2.4010, -1.6476],\n",
      "         ...,\n",
      "         [-0.0361, -1.1759,  0.9579,  ...,  0.4942, -0.9735, -0.4439],\n",
      "         [-0.0361, -1.1759,  0.9579,  ...,  0.4942, -0.9735, -0.4439],\n",
      "         [-0.0361, -1.1759,  0.9579,  ...,  0.4942, -0.9735, -0.4439]],\n",
      "\n",
      "        [[-1.1803,  0.8770,  0.7120,  ...,  0.1625, -0.1309, -1.0955],\n",
      "         [ 1.0273, -0.6739, -0.1306,  ..., -0.8637,  0.1240,  0.2537],\n",
      "         [ 0.9415,  1.8329, -0.5894,  ...,  2.0379, -0.2004,  0.4416],\n",
      "         ...,\n",
      "         [-0.0361, -1.1759,  0.9579,  ...,  0.4942, -0.9735, -0.4439],\n",
      "         [-0.0361, -1.1759,  0.9579,  ...,  0.4942, -0.9735, -0.4439],\n",
      "         [-0.0361, -1.1759,  0.9579,  ...,  0.4942, -0.9735, -0.4439]],\n",
      "\n",
      "        [[ 1.6500,  0.2692, -0.5636,  ...,  0.6386,  0.4248, -0.3478],\n",
      "         [ 1.6500,  0.2692, -0.5636,  ...,  0.6386,  0.4248, -0.3478],\n",
      "         [-0.0361, -1.1759,  0.9579,  ...,  0.4942, -0.9735, -0.4439],\n",
      "         ...,\n",
      "         [-0.0361, -1.1759,  0.9579,  ...,  0.4942, -0.9735, -0.4439],\n",
      "         [-0.0361, -1.1759,  0.9579,  ...,  0.4942, -0.9735, -0.4439],\n",
      "         [-0.0361, -1.1759,  0.9579,  ...,  0.4942, -0.9735, -0.4439]]])\n",
      "tensor([[  45,  529,  180,  ...,   45,    0,    0],\n",
      "        [ 993,   47,  213,  ...,  894,  254,  845],\n",
      "        [  58,  518,  640,  ...,   53,  737,  200],\n",
      "        ...,\n",
      "        [ 940,  489,  489,  ..., 1001, 1001, 1001],\n",
      "        [ 250,  224, 1001,  ..., 1001, 1001, 1001],\n",
      "        [ 131,  489, 1001,  ..., 1001, 1001, 1001]])\n",
      "tensor([[[ 1.0273, -0.6739, -0.1306,  ..., -0.8637,  0.1240,  0.2537],\n",
      "         [-0.5113, -1.8677, -0.1379,  ..., -0.6007, -0.4527,  0.5776],\n",
      "         [-0.7000, -0.8110, -1.0252,  ..., -0.1010,  0.0350,  0.5547],\n",
      "         ...,\n",
      "         [ 1.0273, -0.6739, -0.1306,  ..., -0.8637,  0.1240,  0.2537],\n",
      "         [-1.2115,  0.0113,  0.1093,  ..., -1.4468, -0.4714, -0.1233],\n",
      "         [-1.2115,  0.0113,  0.1093,  ..., -1.4468, -0.4714, -0.1233]],\n",
      "\n",
      "        [[ 0.8895, -0.2971,  1.4922,  ...,  0.3908, -1.8665, -2.0997],\n",
      "         [ 0.5018,  1.4592, -0.1288,  ..., -0.9117,  0.2329, -0.6894],\n",
      "         [-2.5001,  0.3815,  0.7313,  ..., -1.2778,  0.2086,  1.5086],\n",
      "         ...,\n",
      "         [ 1.5914,  0.5976,  1.2919,  ...,  1.1926, -0.4966,  0.7921],\n",
      "         [ 0.8787, -1.0707, -0.6493,  ..., -0.7500,  0.4486,  0.7771],\n",
      "         [ 0.4467, -1.0728,  0.0584,  ...,  1.7684, -0.9230, -0.9156]],\n",
      "\n",
      "        [[ 1.5668, -1.1359,  0.1690,  ...,  1.1951, -1.7827, -0.3335],\n",
      "         [ 2.0640, -1.4660,  0.7668,  ...,  0.7227, -0.7049, -1.9038],\n",
      "         [-1.0959,  1.3942,  0.4200,  ..., -0.7085,  0.1459, -1.2374],\n",
      "         ...,\n",
      "         [ 0.8718,  1.6892, -0.2677,  ...,  0.1882,  0.4063, -1.0070],\n",
      "         [ 0.2441, -1.4015,  0.1255,  ..., -0.5093, -2.7314, -0.4681],\n",
      "         [ 0.0649,  0.1345, -0.9500,  ..., -0.3254,  0.9150,  0.7326]],\n",
      "\n",
      "        ...,\n",
      "\n",
      "        [[-0.7385, -0.6086,  0.4521,  ..., -0.0333,  0.0756, -0.7771],\n",
      "         [ 0.6387,  0.8437,  0.0331,  ...,  0.2532, -0.8599,  1.9680],\n",
      "         [ 0.6387,  0.8437,  0.0331,  ...,  0.2532, -0.8599,  1.9680],\n",
      "         ...,\n",
      "         [-0.0361, -1.1759,  0.9579,  ...,  0.4942, -0.9735, -0.4439],\n",
      "         [-0.0361, -1.1759,  0.9579,  ...,  0.4942, -0.9735, -0.4439],\n",
      "         [-0.0361, -1.1759,  0.9579,  ...,  0.4942, -0.9735, -0.4439]],\n",
      "\n",
      "        [[-0.1072, -0.6632,  1.0068,  ...,  0.0138,  0.5103, -0.3205],\n",
      "         [-0.0364,  0.0904,  1.5477,  ..., -0.0131, -0.4982, -0.4654],\n",
      "         [-0.0361, -1.1759,  0.9579,  ...,  0.4942, -0.9735, -0.4439],\n",
      "         ...,\n",
      "         [-0.0361, -1.1759,  0.9579,  ...,  0.4942, -0.9735, -0.4439],\n",
      "         [-0.0361, -1.1759,  0.9579,  ...,  0.4942, -0.9735, -0.4439],\n",
      "         [-0.0361, -1.1759,  0.9579,  ...,  0.4942, -0.9735, -0.4439]],\n",
      "\n",
      "        [[ 0.8611, -1.1204,  0.0430,  ...,  0.9804, -0.3871, -1.5687],\n",
      "         [ 0.6387,  0.8437,  0.0331,  ...,  0.2532, -0.8599,  1.9680],\n",
      "         [-0.0361, -1.1759,  0.9579,  ...,  0.4942, -0.9735, -0.4439],\n",
      "         ...,\n",
      "         [-0.0361, -1.1759,  0.9579,  ...,  0.4942, -0.9735, -0.4439],\n",
      "         [-0.0361, -1.1759,  0.9579,  ...,  0.4942, -0.9735, -0.4439],\n",
      "         [-0.0361, -1.1759,  0.9579,  ...,  0.4942, -0.9735, -0.4439]]])\n",
      "tensor([[ 238,  266,  166,  ...,  712,  166,  842],\n",
      "        [   0,  568,  232,  ...,  171,   45,  842],\n",
      "        [ 807,  646,  714,  ...,  723,  155,  754],\n",
      "        ...,\n",
      "        [ 405,   53,   45,  ..., 1001, 1001, 1001],\n",
      "        [ 927,  537,  541,  ..., 1001, 1001, 1001],\n",
      "        [ 940,  489, 1001,  ..., 1001, 1001, 1001]])\n",
      "tensor([[[ 1.2179e+00, -3.7523e-01, -1.2011e+00,  ..., -3.5569e-02,\n",
      "          -4.7867e-01, -3.3657e-01],\n",
      "         [-5.1506e-01, -5.7315e-01, -4.8681e-01,  ...,  1.2267e+00,\n",
      "           4.4851e-02,  1.1710e-01],\n",
      "         [ 1.6306e+00,  7.5080e-01,  1.6502e-01,  ...,  2.6098e-01,\n",
      "           4.9164e-01,  4.7623e-02],\n",
      "         ...,\n",
      "         [-2.3763e-01, -9.5387e-01,  5.4107e-01,  ...,  1.8216e+00,\n",
      "          -7.6432e-02,  7.5653e-02],\n",
      "         [ 1.6306e+00,  7.5080e-01,  1.6502e-01,  ...,  2.6098e-01,\n",
      "           4.9164e-01,  4.7623e-02],\n",
      "         [ 7.5748e-01,  6.8080e-01,  1.0330e+00,  ...,  4.2014e-01,\n",
      "           1.3480e+00, -2.5223e+00]],\n",
      "\n",
      "        [[-1.2115e+00,  1.1325e-02,  1.0932e-01,  ..., -1.4468e+00,\n",
      "          -4.7139e-01, -1.2331e-01],\n",
      "         [-1.7256e+00, -2.0880e+00,  4.0964e-01,  ...,  8.8429e-01,\n",
      "           1.5851e+00, -1.8807e+00],\n",
      "         [ 1.8753e+00, -8.2206e-01,  1.3010e-01,  ...,  5.7552e-01,\n",
      "           1.8917e+00,  4.6848e-01],\n",
      "         ...,\n",
      "         [ 7.9647e-01,  9.4221e-01, -2.9151e-01,  ...,  1.7570e+00,\n",
      "          -9.2713e-01, -1.3650e-01],\n",
      "         [ 1.0273e+00, -6.7387e-01, -1.3061e-01,  ..., -8.6375e-01,\n",
      "           1.2398e-01,  2.5371e-01],\n",
      "         [ 7.5748e-01,  6.8080e-01,  1.0330e+00,  ...,  4.2014e-01,\n",
      "           1.3480e+00, -2.5223e+00]],\n",
      "\n",
      "        [[ 3.7163e-01,  1.4534e+00,  1.8017e-02,  ...,  5.9322e-01,\n",
      "          -1.0093e+00, -9.6482e-02],\n",
      "         [-1.4315e+00, -8.0528e-01, -7.3482e-02,  ..., -7.7860e-01,\n",
      "           1.1801e-04,  2.5678e-01],\n",
      "         [ 1.6148e+00,  5.5015e-01,  4.9744e-01,  ...,  1.1671e+00,\n",
      "           6.3963e-01,  2.8715e-02],\n",
      "         ...,\n",
      "         [-1.9085e-01, -2.4114e+00, -4.5939e-01,  ...,  4.4374e-01,\n",
      "          -5.7855e-01,  1.0560e+00],\n",
      "         [ 2.7219e-01,  5.5540e-01,  4.9358e-01,  ..., -6.0870e-01,\n",
      "          -1.5854e+00,  7.4793e-01],\n",
      "         [ 3.5115e-01,  1.2290e+00, -1.2680e+00,  ...,  1.1740e+00,\n",
      "           4.2289e-01, -9.7786e-01]],\n",
      "\n",
      "        ...,\n",
      "\n",
      "        [[ 3.4540e-01, -2.3489e-01,  1.4426e+00,  ..., -1.3325e+00,\n",
      "           1.0511e+00,  2.7445e+00],\n",
      "         [ 8.7184e-01,  1.6892e+00, -2.6770e-01,  ...,  1.8816e-01,\n",
      "           4.0632e-01, -1.0070e+00],\n",
      "         [ 1.0273e+00, -6.7387e-01, -1.3061e-01,  ..., -8.6375e-01,\n",
      "           1.2398e-01,  2.5371e-01],\n",
      "         ...,\n",
      "         [-3.6112e-02, -1.1759e+00,  9.5788e-01,  ...,  4.9421e-01,\n",
      "          -9.7346e-01, -4.4391e-01],\n",
      "         [-3.6112e-02, -1.1759e+00,  9.5788e-01,  ...,  4.9421e-01,\n",
      "          -9.7346e-01, -4.4391e-01],\n",
      "         [-3.6112e-02, -1.1759e+00,  9.5788e-01,  ...,  4.9421e-01,\n",
      "          -9.7346e-01, -4.4391e-01]],\n",
      "\n",
      "        [[-7.0214e-03, -1.1256e+00, -5.6823e-01,  ...,  4.4423e-01,\n",
      "          -7.5868e-01,  1.2607e+00],\n",
      "         [-4.6768e-02,  1.3316e+00, -2.6664e+00,  ..., -1.1571e+00,\n",
      "           6.5882e-01,  3.3477e-01],\n",
      "         [ 6.8607e-01,  1.9465e+00,  1.2365e+00,  ...,  7.6936e-01,\n",
      "          -6.0112e-01,  3.9371e-01],\n",
      "         ...,\n",
      "         [-3.6112e-02, -1.1759e+00,  9.5788e-01,  ...,  4.9421e-01,\n",
      "          -9.7346e-01, -4.4391e-01],\n",
      "         [-3.6112e-02, -1.1759e+00,  9.5788e-01,  ...,  4.9421e-01,\n",
      "          -9.7346e-01, -4.4391e-01],\n",
      "         [-3.6112e-02, -1.1759e+00,  9.5788e-01,  ...,  4.9421e-01,\n",
      "          -9.7346e-01, -4.4391e-01]],\n",
      "\n",
      "        [[-7.3853e-01, -6.0864e-01,  4.5211e-01,  ..., -3.3284e-02,\n",
      "           7.5555e-02, -7.7707e-01],\n",
      "         [ 6.3866e-01,  8.4367e-01,  3.3100e-02,  ...,  2.5320e-01,\n",
      "          -8.5989e-01,  1.9680e+00],\n",
      "         [-3.6112e-02, -1.1759e+00,  9.5788e-01,  ...,  4.9421e-01,\n",
      "          -9.7346e-01, -4.4391e-01],\n",
      "         ...,\n",
      "         [-3.6112e-02, -1.1759e+00,  9.5788e-01,  ...,  4.9421e-01,\n",
      "          -9.7346e-01, -4.4391e-01],\n",
      "         [-3.6112e-02, -1.1759e+00,  9.5788e-01,  ...,  4.9421e-01,\n",
      "          -9.7346e-01, -4.4391e-01],\n",
      "         [-3.6112e-02, -1.1759e+00,  9.5788e-01,  ...,  4.9421e-01,\n",
      "          -9.7346e-01, -4.4391e-01]]])\n",
      "tensor([[  45,   53,  423,  ...,   75,  391,  674],\n",
      "        [  88,  544,  228,  ...,  915,   45,  584],\n",
      "        [ 692,  823,   45,  ...,  146,  787,  754],\n",
      "        ...,\n",
      "        [ 672,  483,  954,  ..., 1001, 1001, 1001],\n",
      "        [ 679,  143,   83,  ..., 1001, 1001, 1001],\n",
      "        [ 395,   53,  773,  ..., 1001, 1001, 1001]])\n",
      "tensor([[[ 1.0273, -0.6739, -0.1306,  ..., -0.8637,  0.1240,  0.2537],\n",
      "         [ 0.8718,  1.6892, -0.2677,  ...,  0.1882,  0.4063, -1.0070],\n",
      "         [ 1.8501,  0.2929, -1.5045,  ...,  0.2464, -0.1433, -0.3071],\n",
      "         ...,\n",
      "         [-0.2537, -1.3229,  2.2823,  ...,  1.3782, -0.4173,  0.2328],\n",
      "         [ 0.8729,  2.1915, -1.1150,  ..., -0.9719,  1.0699,  0.6786],\n",
      "         [-1.3992,  0.0355, -0.7373,  ...,  0.4285,  0.4666, -0.5768]],\n",
      "\n",
      "        [[-0.3265, -1.2748, -0.1829,  ...,  0.0965,  0.5703, -0.8221],\n",
      "         [-0.0533, -0.0562, -1.6179,  ...,  0.2181, -1.3956,  0.2366],\n",
      "         [-0.8011,  0.2047,  0.4846,  ...,  0.7265,  1.3666,  0.9860],\n",
      "         ...,\n",
      "         [ 1.9378, -0.2163, -1.3722,  ...,  1.6312,  2.3130, -2.3587],\n",
      "         [ 1.0273, -0.6739, -0.1306,  ..., -0.8637,  0.1240,  0.2537],\n",
      "         [ 1.1537, -2.9837, -1.3195,  ..., -0.3618,  1.0142,  1.3925]],\n",
      "\n",
      "        [[-0.3538,  0.8617, -0.1493,  ..., -1.9376,  0.6514, -0.5450],\n",
      "         [ 0.7905,  0.5274, -0.1532,  ...,  2.1809,  0.8013, -1.0085],\n",
      "         [ 1.0273, -0.6739, -0.1306,  ..., -0.8637,  0.1240,  0.2537],\n",
      "         ...,\n",
      "         [ 0.5121, -0.0738,  0.1691,  ..., -0.2845,  0.4054, -0.1085],\n",
      "         [-0.8830,  0.3824,  0.6378,  ..., -0.3381,  0.0813,  0.2204],\n",
      "         [ 0.3512,  1.2290, -1.2680,  ...,  1.1740,  0.4229, -0.9779]],\n",
      "\n",
      "        ...,\n",
      "\n",
      "        [[ 2.3943,  1.0694, -0.3380,  ...,  1.2103,  0.5906, -0.1079],\n",
      "         [ 1.6022,  0.1207, -1.2406,  ..., -1.2607,  0.3539,  0.4608],\n",
      "         [-0.5489,  1.3483,  0.5834,  ..., -0.9117, -0.4531,  1.9659],\n",
      "         ...,\n",
      "         [-0.0361, -1.1759,  0.9579,  ...,  0.4942, -0.9735, -0.4439],\n",
      "         [-0.0361, -1.1759,  0.9579,  ...,  0.4942, -0.9735, -0.4439],\n",
      "         [-0.0361, -1.1759,  0.9579,  ...,  0.4942, -0.9735, -0.4439]],\n",
      "\n",
      "        [[-0.6978, -1.7155, -0.6656,  ...,  0.0342,  1.5455,  1.8307],\n",
      "         [ 0.9744, -1.1733,  0.2189,  ...,  0.0186,  0.1697, -1.8631],\n",
      "         [-1.4856, -1.2639,  0.5230,  ..., -1.1411,  0.3836,  0.7098],\n",
      "         ...,\n",
      "         [-0.0361, -1.1759,  0.9579,  ...,  0.4942, -0.9735, -0.4439],\n",
      "         [-0.0361, -1.1759,  0.9579,  ...,  0.4942, -0.9735, -0.4439],\n",
      "         [-0.0361, -1.1759,  0.9579,  ...,  0.4942, -0.9735, -0.4439]],\n",
      "\n",
      "        [[-0.0033,  2.6481,  0.1427,  ...,  0.2351, -0.5634,  0.0549],\n",
      "         [ 0.8718,  1.6892, -0.2677,  ...,  0.1882,  0.4063, -1.0070],\n",
      "         [-0.0696,  1.0108, -0.7915,  ...,  0.3471, -0.2649, -0.6014],\n",
      "         ...,\n",
      "         [-0.0361, -1.1759,  0.9579,  ...,  0.4942, -0.9735, -0.4439],\n",
      "         [-0.0361, -1.1759,  0.9579,  ...,  0.4942, -0.9735, -0.4439],\n",
      "         [-0.0361, -1.1759,  0.9579,  ...,  0.4942, -0.9735, -0.4439]]])\n",
      "tensor([[  45,   53,  383,  ...,  502,  159,  289],\n",
      "        [ 757,  303,  981,  ...,  712,  166,   45],\n",
      "        [ 360,  669,  723,  ...,  242,  712,  842],\n",
      "        ...,\n",
      "        [ 282,  538,  576,  ..., 1001, 1001, 1001],\n",
      "        [ 956,   53, 1001,  ..., 1001, 1001, 1001],\n",
      "        [ 443, 1001, 1001,  ..., 1001, 1001, 1001]])\n",
      "tensor([[[ 1.0273, -0.6739, -0.1306,  ..., -0.8637,  0.1240,  0.2537],\n",
      "         [ 0.8718,  1.6892, -0.2677,  ...,  0.1882,  0.4063, -1.0070],\n",
      "         [ 0.5062,  1.2822,  0.3299,  ...,  0.3426,  0.4913, -0.6872],\n",
      "         ...,\n",
      "         [-0.5101,  0.0956, -0.1157,  ...,  0.7660, -0.0316,  0.6002],\n",
      "         [ 1.3870,  0.6070,  0.3067,  ..., -3.0923,  0.5425,  1.3323],\n",
      "         [-1.5558,  0.6682, -2.5150,  ..., -0.6211,  0.7567, -0.3577]],\n",
      "\n",
      "        [[-1.0292, -0.4511,  2.4387,  ..., -0.0537,  0.4683, -0.4805],\n",
      "         [-0.1885, -0.8641, -0.5287,  ...,  0.0927, -0.3528,  2.5083],\n",
      "         [-2.5925,  0.6709,  0.0841,  ..., -0.9936, -1.6803, -0.3130],\n",
      "         ...,\n",
      "         [-0.2376, -0.9539,  0.5411,  ...,  1.8216, -0.0764,  0.0757],\n",
      "         [ 1.6306,  0.7508,  0.1650,  ...,  0.2610,  0.4916,  0.0476],\n",
      "         [ 1.0273, -0.6739, -0.1306,  ..., -0.8637,  0.1240,  0.2537]],\n",
      "\n",
      "        [[ 0.8657,  0.1718, -0.5014,  ...,  0.6962,  1.3394,  0.1050],\n",
      "         [-0.7572, -0.4968,  0.8502,  ...,  1.3039,  0.4925, -1.0521],\n",
      "         [-0.1908, -2.4114, -0.4594,  ...,  0.4437, -0.5786,  1.0560],\n",
      "         ...,\n",
      "         [ 0.8509,  0.2953, -0.8626,  ..., -0.3255,  0.9525, -2.5152],\n",
      "         [-0.2376, -0.9539,  0.5411,  ...,  1.8216, -0.0764,  0.0757],\n",
      "         [ 0.7575,  0.6808,  1.0330,  ...,  0.4201,  1.3480, -2.5223]],\n",
      "\n",
      "        ...,\n",
      "\n",
      "        [[ 0.1863, -0.8642, -2.4495,  ...,  1.1088, -0.8804,  2.2603],\n",
      "         [ 1.3277, -1.6467,  0.3575,  ...,  0.4927,  2.0392, -0.2356],\n",
      "         [ 0.7227,  0.2920,  0.2990,  ...,  0.6091,  0.3135, -0.6840],\n",
      "         ...,\n",
      "         [-0.0361, -1.1759,  0.9579,  ...,  0.4942, -0.9735, -0.4439],\n",
      "         [-0.0361, -1.1759,  0.9579,  ...,  0.4942, -0.9735, -0.4439],\n",
      "         [-0.0361, -1.1759,  0.9579,  ...,  0.4942, -0.9735, -0.4439]],\n",
      "\n",
      "        [[-1.5257,  0.5011, -0.7925,  ...,  1.5162, -0.9781,  1.0559],\n",
      "         [ 0.8718,  1.6892, -0.2677,  ...,  0.1882,  0.4063, -1.0070],\n",
      "         [-0.0361, -1.1759,  0.9579,  ...,  0.4942, -0.9735, -0.4439],\n",
      "         ...,\n",
      "         [-0.0361, -1.1759,  0.9579,  ...,  0.4942, -0.9735, -0.4439],\n",
      "         [-0.0361, -1.1759,  0.9579,  ...,  0.4942, -0.9735, -0.4439],\n",
      "         [-0.0361, -1.1759,  0.9579,  ...,  0.4942, -0.9735, -0.4439]],\n",
      "\n",
      "        [[ 0.6582,  0.0544,  0.0267,  ...,  2.7904,  0.5005,  0.6292],\n",
      "         [-0.0361, -1.1759,  0.9579,  ...,  0.4942, -0.9735, -0.4439],\n",
      "         [-0.0361, -1.1759,  0.9579,  ...,  0.4942, -0.9735, -0.4439],\n",
      "         ...,\n",
      "         [-0.0361, -1.1759,  0.9579,  ...,  0.4942, -0.9735, -0.4439],\n",
      "         [-0.0361, -1.1759,  0.9579,  ...,  0.4942, -0.9735, -0.4439],\n",
      "         [-0.0361, -1.1759,  0.9579,  ...,  0.4942, -0.9735, -0.4439]]])\n",
      "tensor([[ 833,  142,   45,  ...,  557,  779,  776],\n",
      "        [ 652,  200,  650,  ...,  900,  938,  584],\n",
      "        [ 223,  128,   31,  ...,   45,  360,  917],\n",
      "        ...,\n",
      "        [ 613,  489,  771,  ..., 1001, 1001, 1001],\n",
      "        [ 405,   53,  772,  ..., 1001, 1001, 1001],\n",
      "        [  53,  316,  153,  ..., 1001, 1001, 1001]])\n",
      "tensor([[[ 0.5783,  0.6116, -0.1474,  ...,  0.5427, -0.0360,  1.8271],\n",
      "         [-1.4113, -0.5791,  1.1659,  ..., -0.4195, -1.3311, -0.3362],\n",
      "         [ 1.0273, -0.6739, -0.1306,  ..., -0.8637,  0.1240,  0.2537],\n",
      "         ...,\n",
      "         [-0.5269, -0.3962, -0.5770,  ...,  0.7298, -1.4042,  0.2149],\n",
      "         [-1.1014, -1.3269,  0.7798,  ...,  0.1441, -0.9941,  0.2097],\n",
      "         [-0.4486,  0.3527, -0.3651,  ...,  1.4829, -0.0599,  0.8606]],\n",
      "\n",
      "        [[ 1.0972, -0.5856,  0.2683,  ..., -0.5205,  0.3923, -0.5916],\n",
      "         [ 0.0649,  0.1345, -0.9500,  ..., -0.3254,  0.9150,  0.7326],\n",
      "         [-0.3146,  1.0827, -1.0686,  ..., -0.8734, -0.7153, -0.3646],\n",
      "         ...,\n",
      "         [ 0.0278, -0.3157, -0.2679,  ..., -1.6200,  0.8981,  0.1046],\n",
      "         [ 1.7947,  2.0532, -1.1449,  ..., -0.7850, -0.3159,  1.2761],\n",
      "         [ 1.1537, -2.9837, -1.3195,  ..., -0.3618,  1.0142,  1.3925]],\n",
      "\n",
      "        [[-1.2938,  1.5957,  1.7344,  ...,  0.9697, -1.0315,  1.0071],\n",
      "         [-1.1035,  0.1387, -1.3364,  ..., -0.4997, -1.0053,  0.7997],\n",
      "         [-0.8893, -0.1287,  0.5309,  ...,  1.0203,  0.4809,  1.4622],\n",
      "         ...,\n",
      "         [ 1.0273, -0.6739, -0.1306,  ..., -0.8637,  0.1240,  0.2537],\n",
      "         [ 0.8657,  0.1718, -0.5014,  ...,  0.6962,  1.3394,  0.1050],\n",
      "         [-0.7958, -0.2736, -2.4057,  ...,  1.0892,  1.3036, -0.4700]],\n",
      "\n",
      "        ...,\n",
      "\n",
      "        [[ 0.8298,  0.0795, -0.1067,  ..., -1.5183,  0.1122,  0.5720],\n",
      "         [ 0.6387,  0.8437,  0.0331,  ...,  0.2532, -0.8599,  1.9680],\n",
      "         [-0.5247,  0.8414, -0.1569,  ..., -1.5599, -0.4233,  0.7141],\n",
      "         ...,\n",
      "         [-0.0361, -1.1759,  0.9579,  ...,  0.4942, -0.9735, -0.4439],\n",
      "         [-0.0361, -1.1759,  0.9579,  ...,  0.4942, -0.9735, -0.4439],\n",
      "         [-0.0361, -1.1759,  0.9579,  ...,  0.4942, -0.9735, -0.4439]],\n",
      "\n",
      "        [[ 0.3454, -0.2349,  1.4426,  ..., -1.3325,  1.0511,  2.7445],\n",
      "         [ 0.8718,  1.6892, -0.2677,  ...,  0.1882,  0.4063, -1.0070],\n",
      "         [-0.6243, -0.0482,  0.1869,  ...,  0.0180,  1.1179, -0.2349],\n",
      "         ...,\n",
      "         [-0.0361, -1.1759,  0.9579,  ...,  0.4942, -0.9735, -0.4439],\n",
      "         [-0.0361, -1.1759,  0.9579,  ...,  0.4942, -0.9735, -0.4439],\n",
      "         [-0.0361, -1.1759,  0.9579,  ...,  0.4942, -0.9735, -0.4439]],\n",
      "\n",
      "        [[ 0.8718,  1.6892, -0.2677,  ...,  0.1882,  0.4063, -1.0070],\n",
      "         [ 1.8415,  1.2916, -0.7946,  ...,  0.7428, -1.1900, -1.3523],\n",
      "         [ 0.7078, -0.6784,  0.8293,  ..., -0.0730, -1.1654,  1.0757],\n",
      "         ...,\n",
      "         [-0.0361, -1.1759,  0.9579,  ...,  0.4942, -0.9735, -0.4439],\n",
      "         [-0.0361, -1.1759,  0.9579,  ...,  0.4942, -0.9735, -0.4439],\n",
      "         [-0.0361, -1.1759,  0.9579,  ...,  0.4942, -0.9735, -0.4439]]])\n",
      "tensor([[ 173,   45,  389,  ...,  443,  904,   45],\n",
      "        [  56,  254,   53,  ...,  979,  472,   45],\n",
      "        [ 725,  661,   92,  ...,  179,  517,   45],\n",
      "        ...,\n",
      "        [  45,  143,  659,  ..., 1001, 1001, 1001],\n",
      "        [ 266,  488,  266,  ..., 1001, 1001, 1001],\n",
      "        [ 689,  410,  970,  ..., 1001, 1001, 1001]])\n",
      "tensor([[[ 1.2522,  0.2645,  1.1979,  ..., -1.5770, -0.5295, -0.5749],\n",
      "         [ 1.0273, -0.6739, -0.1306,  ..., -0.8637,  0.1240,  0.2537],\n",
      "         [ 0.0041,  1.0084, -0.0059,  ...,  1.9131,  0.5567,  0.4402],\n",
      "         ...,\n",
      "         [ 0.6582,  0.0544,  0.0267,  ...,  2.7904,  0.5005,  0.6292],\n",
      "         [-0.3591,  0.9202,  0.8880,  ...,  0.4617, -0.2804, -0.1406],\n",
      "         [ 1.0273, -0.6739, -0.1306,  ..., -0.8637,  0.1240,  0.2537]],\n",
      "\n",
      "        [[ 0.1657,  3.1023,  0.7224,  ...,  0.0078, -0.9817,  1.9034],\n",
      "         [ 0.8787, -1.0707, -0.6493,  ..., -0.7500,  0.4486,  0.7771],\n",
      "         [ 0.8718,  1.6892, -0.2677,  ...,  0.1882,  0.4063, -1.0070],\n",
      "         ...,\n",
      "         [ 0.3822, -1.1032,  0.4096,  ..., -0.3365,  0.6387, -0.1436],\n",
      "         [-0.5400, -0.6059,  1.7516,  ..., -0.7144, -0.3383, -0.6081],\n",
      "         [ 1.0273, -0.6739, -0.1306,  ..., -0.8637,  0.1240,  0.2537]],\n",
      "\n",
      "        [[-0.7957, -0.4974, -0.1575,  ..., -0.8056, -0.6880, -0.3889],\n",
      "         [-0.6191, -0.8301, -0.4416,  ..., -0.2055, -1.4014, -0.7932],\n",
      "         [ 2.4349, -0.2605, -1.4956,  ..., -0.0867,  1.0142, -0.2653],\n",
      "         ...,\n",
      "         [-1.2472, -0.5806,  0.5144,  ..., -0.0671,  0.3536,  0.6278],\n",
      "         [ 0.9415,  1.8329, -0.5894,  ...,  2.0379, -0.2004,  0.4416],\n",
      "         [ 1.0273, -0.6739, -0.1306,  ..., -0.8637,  0.1240,  0.2537]],\n",
      "\n",
      "        ...,\n",
      "\n",
      "        [[ 1.0273, -0.6739, -0.1306,  ..., -0.8637,  0.1240,  0.2537],\n",
      "         [ 0.9744, -1.1733,  0.2189,  ...,  0.0186,  0.1697, -1.8631],\n",
      "         [ 0.2354,  0.2615,  0.1820,  ..., -1.7556, -0.2232, -0.4893],\n",
      "         ...,\n",
      "         [-0.0361, -1.1759,  0.9579,  ...,  0.4942, -0.9735, -0.4439],\n",
      "         [-0.0361, -1.1759,  0.9579,  ...,  0.4942, -0.9735, -0.4439],\n",
      "         [-0.0361, -1.1759,  0.9579,  ...,  0.4942, -0.9735, -0.4439]],\n",
      "\n",
      "        [[-0.5151, -0.5731, -0.4868,  ...,  1.2267,  0.0449,  0.1171],\n",
      "         [ 0.1165, -0.4291, -0.5067,  ..., -0.4982, -1.1408,  0.1566],\n",
      "         [-0.5151, -0.5731, -0.4868,  ...,  1.2267,  0.0449,  0.1171],\n",
      "         ...,\n",
      "         [-0.0361, -1.1759,  0.9579,  ...,  0.4942, -0.9735, -0.4439],\n",
      "         [-0.0361, -1.1759,  0.9579,  ...,  0.4942, -0.9735, -0.4439],\n",
      "         [-0.0361, -1.1759,  0.9579,  ...,  0.4942, -0.9735, -0.4439]],\n",
      "\n",
      "        [[ 0.9881, -0.4087,  1.6489,  ..., -0.1608,  0.4978,  0.8944],\n",
      "         [ 1.0891, -0.1357, -1.4350,  ..., -0.4735,  1.2835,  0.7518],\n",
      "         [-0.1967,  0.4570, -0.4974,  ..., -0.4554,  1.7199, -1.2860],\n",
      "         ...,\n",
      "         [-0.0361, -1.1759,  0.9579,  ...,  0.4942, -0.9735, -0.4439],\n",
      "         [-0.0361, -1.1759,  0.9579,  ...,  0.4942, -0.9735, -0.4439],\n",
      "         [-0.0361, -1.1759,  0.9579,  ...,  0.4942, -0.9735, -0.4439]]])\n",
      "tensor([[ 259,  854,   45,  ...,  203,   45,   45],\n",
      "        [  45,  271,    2,  ...,  698,   45,  879],\n",
      "        [ 535,   46,  242,  ...,  933,  428,  140],\n",
      "        ...,\n",
      "        [  88,   68,  596,  ..., 1001, 1001, 1001],\n",
      "        [ 476,  483,  615,  ..., 1001, 1001, 1001],\n",
      "        [ 764,   53,  576,  ..., 1001, 1001, 1001]])\n",
      "tensor([[[ 1.4132e-01, -8.1169e-01,  8.8203e-01,  ..., -1.2833e-01,\n",
      "          -8.5299e-01, -1.0001e+00],\n",
      "         [ 1.5033e+00,  1.9372e+00, -2.7374e-01,  ..., -6.1568e-01,\n",
      "           1.1135e+00,  5.0490e-02],\n",
      "         [ 1.0273e+00, -6.7387e-01, -1.3061e-01,  ..., -8.6375e-01,\n",
      "           1.2398e-01,  2.5371e-01],\n",
      "         ...,\n",
      "         [-6.8155e-01,  1.4172e+00, -2.1636e-01,  ..., -5.8777e-01,\n",
      "          -2.7095e-01,  1.3212e+00],\n",
      "         [ 1.0273e+00, -6.7387e-01, -1.3061e-01,  ..., -8.6375e-01,\n",
      "           1.2398e-01,  2.5371e-01],\n",
      "         [ 1.0273e+00, -6.7387e-01, -1.3061e-01,  ..., -8.6375e-01,\n",
      "           1.2398e-01,  2.5371e-01]],\n",
      "\n",
      "        [[ 1.0273e+00, -6.7387e-01, -1.3061e-01,  ..., -8.6375e-01,\n",
      "           1.2398e-01,  2.5371e-01],\n",
      "         [-1.0771e+00, -4.9766e-02, -2.3037e+00,  ...,  1.1599e+00,\n",
      "          -2.1135e+00,  1.4915e+00],\n",
      "         [ 7.5520e-01, -1.3118e+00,  8.5412e-01,  ...,  1.2474e+00,\n",
      "           8.5128e-01, -3.2683e-01],\n",
      "         ...,\n",
      "         [ 4.6754e-01, -2.5726e-01,  8.0298e-01,  ..., -4.1268e-01,\n",
      "          -4.9649e-01, -1.6243e+00],\n",
      "         [ 1.0273e+00, -6.7387e-01, -1.3061e-01,  ..., -8.6375e-01,\n",
      "           1.2398e-01,  2.5371e-01],\n",
      "         [-1.0436e+00,  1.2395e+00,  2.2898e-01,  ...,  3.2240e-01,\n",
      "          -9.9737e-02,  2.9656e-02]],\n",
      "\n",
      "        [[-2.2781e-01, -5.8297e-02,  1.5294e+00,  ..., -2.2889e+00,\n",
      "           1.8913e+00,  8.0686e-01],\n",
      "         [-1.5688e+00, -1.6323e+00,  7.8810e-01,  ..., -1.7956e+00,\n",
      "           6.9599e-01, -2.4250e+00],\n",
      "         [ 8.5090e-01,  2.9526e-01, -8.6256e-01,  ..., -3.2549e-01,\n",
      "           9.5248e-01, -2.5152e+00],\n",
      "         ...,\n",
      "         [ 5.5777e-02, -1.0295e+00, -1.8930e+00,  ..., -2.0942e-01,\n",
      "          -9.4117e-01,  4.3941e-01],\n",
      "         [ 8.1202e-01, -8.7677e-01, -6.6692e-01,  ..., -9.5357e-01,\n",
      "           1.1897e+00, -1.5513e+00],\n",
      "         [ 1.9256e-01, -2.2280e-01,  3.4011e-01,  ..., -1.1540e+00,\n",
      "           7.2199e-01,  1.3683e+00]],\n",
      "\n",
      "        ...,\n",
      "\n",
      "        [[-3.2649e-01, -1.2748e+00, -1.8294e-01,  ...,  9.6498e-02,\n",
      "           5.7025e-01, -8.2207e-01],\n",
      "         [ 9.3385e-01,  1.2479e+00,  4.2605e-01,  ..., -9.6581e-01,\n",
      "           1.3056e+00,  7.3954e-01],\n",
      "         [-1.5631e-01, -5.7398e-02, -1.6389e-04,  ..., -9.6195e-01,\n",
      "           1.1204e+00, -1.6731e-01],\n",
      "         ...,\n",
      "         [-3.6112e-02, -1.1759e+00,  9.5788e-01,  ...,  4.9421e-01,\n",
      "          -9.7346e-01, -4.4391e-01],\n",
      "         [-3.6112e-02, -1.1759e+00,  9.5788e-01,  ...,  4.9421e-01,\n",
      "          -9.7346e-01, -4.4391e-01],\n",
      "         [-3.6112e-02, -1.1759e+00,  9.5788e-01,  ...,  4.9421e-01,\n",
      "          -9.7346e-01, -4.4391e-01]],\n",
      "\n",
      "        [[-9.3886e-02, -1.2037e+00,  7.8965e-01,  ...,  2.0491e+00,\n",
      "           9.8757e-01, -3.0074e-01],\n",
      "         [ 1.6022e+00,  1.2068e-01, -1.2406e+00,  ..., -1.2607e+00,\n",
      "           3.5386e-01,  4.6079e-01],\n",
      "         [ 3.5806e-01,  5.6069e-01, -6.4180e-01,  ...,  2.6946e-02,\n",
      "           8.5911e-01, -2.8612e-01],\n",
      "         ...,\n",
      "         [-3.6112e-02, -1.1759e+00,  9.5788e-01,  ...,  4.9421e-01,\n",
      "          -9.7346e-01, -4.4391e-01],\n",
      "         [-3.6112e-02, -1.1759e+00,  9.5788e-01,  ...,  4.9421e-01,\n",
      "          -9.7346e-01, -4.4391e-01],\n",
      "         [-3.6112e-02, -1.1759e+00,  9.5788e-01,  ...,  4.9421e-01,\n",
      "          -9.7346e-01, -4.4391e-01]],\n",
      "\n",
      "        [[ 4.9483e-01,  1.0173e+00, -9.3118e-01,  ..., -1.1180e+00,\n",
      "           1.0652e-01, -1.1160e+00],\n",
      "         [ 8.7184e-01,  1.6892e+00, -2.6770e-01,  ...,  1.8816e-01,\n",
      "           4.0632e-01, -1.0070e+00],\n",
      "         [ 7.2266e-01,  2.9198e-01,  2.9901e-01,  ...,  6.0914e-01,\n",
      "           3.1346e-01, -6.8398e-01],\n",
      "         ...,\n",
      "         [-3.6112e-02, -1.1759e+00,  9.5788e-01,  ...,  4.9421e-01,\n",
      "          -9.7346e-01, -4.4391e-01],\n",
      "         [-3.6112e-02, -1.1759e+00,  9.5788e-01,  ...,  4.9421e-01,\n",
      "          -9.7346e-01, -4.4391e-01],\n",
      "         [-3.6112e-02, -1.1759e+00,  9.5788e-01,  ...,  4.9421e-01,\n",
      "          -9.7346e-01, -4.4391e-01]]])\n",
      "tensor([[ 529,  978,  268,  ...,  784,  428,   45],\n",
      "        [ 993,  213,   53,  ...,  988,  707,  612],\n",
      "        [  45,    7,  445,  ...,  682,  334,   45],\n",
      "        ...,\n",
      "        [ 613,   53,  489,  ..., 1001, 1001, 1001],\n",
      "        [ 601,  764,  266,  ..., 1001, 1001, 1001],\n",
      "        [ 607,  541, 1001,  ..., 1001, 1001, 1001]])\n",
      "tensor([[[-0.5113, -1.8677, -0.1379,  ..., -0.6007, -0.4527,  0.5776],\n",
      "         [ 0.8343,  1.6288,  0.4991,  ...,  0.6881, -0.4072, -0.3062],\n",
      "         [-0.1909, -0.7220,  0.4108,  ...,  1.1332, -1.8370, -0.0522],\n",
      "         ...,\n",
      "         [-0.7074,  1.3332, -2.1142,  ..., -0.6511,  0.7012,  0.5633],\n",
      "         [ 0.8120, -0.8768, -0.6669,  ..., -0.9536,  1.1897, -1.5513],\n",
      "         [ 1.0273, -0.6739, -0.1306,  ..., -0.8637,  0.1240,  0.2537]],\n",
      "\n",
      "        [[ 0.8895, -0.2971,  1.4922,  ...,  0.3908, -1.8665, -2.0997],\n",
      "         [-2.5001,  0.3815,  0.7313,  ..., -1.2778,  0.2086,  1.5086],\n",
      "         [ 0.8718,  1.6892, -0.2677,  ...,  0.1882,  0.4063, -1.0070],\n",
      "         ...,\n",
      "         [-3.3206, -0.0157,  1.4260,  ...,  0.3915, -0.6886, -1.0064],\n",
      "         [-1.8552, -1.4768,  0.4935,  ...,  0.0118,  1.4687, -0.6741],\n",
      "         [ 0.5317,  0.4113,  0.8130,  ...,  0.5399, -1.3049, -0.3713]],\n",
      "\n",
      "        [[ 1.0273, -0.6739, -0.1306,  ..., -0.8637,  0.1240,  0.2537],\n",
      "         [-0.0331, -0.8181, -0.1557,  ...,  1.5410, -0.4917,  1.4872],\n",
      "         [-1.4757,  1.9263, -0.2526,  ..., -0.6428, -0.2048, -0.5623],\n",
      "         ...,\n",
      "         [ 0.3816,  0.0985, -3.0914,  ...,  0.8229,  1.0096, -0.5932],\n",
      "         [ 1.4841,  0.1221,  0.0301,  ..., -0.1288,  0.4639, -0.3066],\n",
      "         [ 1.0273, -0.6739, -0.1306,  ..., -0.8637,  0.1240,  0.2537]],\n",
      "\n",
      "        ...,\n",
      "\n",
      "        [[ 0.8298,  0.0795, -0.1067,  ..., -1.5183,  0.1122,  0.5720],\n",
      "         [ 0.8718,  1.6892, -0.2677,  ...,  0.1882,  0.4063, -1.0070],\n",
      "         [ 0.6387,  0.8437,  0.0331,  ...,  0.2532, -0.8599,  1.9680],\n",
      "         ...,\n",
      "         [-0.0361, -1.1759,  0.9579,  ...,  0.4942, -0.9735, -0.4439],\n",
      "         [-0.0361, -1.1759,  0.9579,  ...,  0.4942, -0.9735, -0.4439],\n",
      "         [-0.0361, -1.1759,  0.9579,  ...,  0.4942, -0.9735, -0.4439]],\n",
      "\n",
      "        [[-1.3459,  0.0334,  0.4320,  ..., -0.4116,  0.7576, -0.2119],\n",
      "         [ 0.4948,  1.0173, -0.9312,  ..., -1.1180,  0.1065, -1.1160],\n",
      "         [-0.5151, -0.5731, -0.4868,  ...,  1.2267,  0.0449,  0.1171],\n",
      "         ...,\n",
      "         [-0.0361, -1.1759,  0.9579,  ...,  0.4942, -0.9735, -0.4439],\n",
      "         [-0.0361, -1.1759,  0.9579,  ...,  0.4942, -0.9735, -0.4439],\n",
      "         [-0.0361, -1.1759,  0.9579,  ...,  0.4942, -0.9735, -0.4439]],\n",
      "\n",
      "        [[-0.3460, -0.7937, -0.4514,  ...,  0.2107,  0.2308, -1.0604],\n",
      "         [ 0.6861,  1.9465,  1.2365,  ...,  0.7694, -0.6011,  0.3937],\n",
      "         [-0.0361, -1.1759,  0.9579,  ...,  0.4942, -0.9735, -0.4439],\n",
      "         ...,\n",
      "         [-0.0361, -1.1759,  0.9579,  ...,  0.4942, -0.9735, -0.4439],\n",
      "         [-0.0361, -1.1759,  0.9579,  ...,  0.4942, -0.9735, -0.4439],\n",
      "         [-0.0361, -1.1759,  0.9579,  ...,  0.4942, -0.9735, -0.4439]]])\n",
      "tensor([[ 617,   45,  803,  ...,   45,  866,  266],\n",
      "        [ 510,  335,   45,  ...,  676,   98,   45],\n",
      "        [ 111,  344,  602,  ...,  490,   45,   45],\n",
      "        ...,\n",
      "        [  68,  601,   45,  ..., 1001, 1001, 1001],\n",
      "        [ 596,  131,   53,  ..., 1001, 1001, 1001],\n",
      "        [ 967,  460,  906,  ..., 1001, 1001, 1001]])\n",
      "tensor([[[ 1.5456e+00,  5.3270e-01, -1.7161e+00,  ..., -1.8329e-01,\n",
      "          -1.3870e-01, -1.6491e+00],\n",
      "         [ 1.0273e+00, -6.7387e-01, -1.3061e-01,  ..., -8.6375e-01,\n",
      "           1.2398e-01,  2.5371e-01],\n",
      "         [-1.3521e+00, -1.3729e-01,  5.9977e-01,  ..., -3.0784e-01,\n",
      "          -2.5800e-01,  5.6417e-01],\n",
      "         ...,\n",
      "         [ 1.0273e+00, -6.7387e-01, -1.3061e-01,  ..., -8.6375e-01,\n",
      "           1.2398e-01,  2.5371e-01],\n",
      "         [-4.3398e-01, -1.9555e+00, -2.5331e-01,  ...,  2.1922e+00,\n",
      "           1.0183e+00, -5.7555e-01],\n",
      "         [-5.1506e-01, -5.7315e-01, -4.8681e-01,  ...,  1.2267e+00,\n",
      "           4.4851e-02,  1.1710e-01]],\n",
      "\n",
      "        [[-2.7637e+00,  2.9784e-01, -9.6877e-02,  ..., -5.5061e-01,\n",
      "          -4.7426e-01, -2.3599e-01],\n",
      "         [-1.3671e+00,  2.4468e-01, -8.0245e-03,  ...,  1.6516e+00,\n",
      "           3.1346e-01, -1.6337e+00],\n",
      "         [ 1.0273e+00, -6.7387e-01, -1.3061e-01,  ..., -8.6375e-01,\n",
      "           1.2398e-01,  2.5371e-01],\n",
      "         ...,\n",
      "         [-7.6316e-01,  4.8749e-01,  9.8136e-01,  ..., -1.0106e+00,\n",
      "          -3.4269e-01, -4.1637e-01],\n",
      "         [-2.1517e+00, -1.6534e-01, -3.4278e-01,  ..., -3.7417e-01,\n",
      "           1.7612e+00,  9.1695e-01],\n",
      "         [ 1.0273e+00, -6.7387e-01, -1.3061e-01,  ..., -8.6375e-01,\n",
      "           1.2398e-01,  2.5371e-01]],\n",
      "\n",
      "        [[ 3.6165e-01, -8.8766e-01, -1.6125e-01,  ...,  1.1419e+00,\n",
      "           9.1180e-02,  5.0326e-01],\n",
      "         [-3.8931e-02, -4.6766e-01,  7.8486e-01,  ...,  1.6289e+00,\n",
      "          -7.8434e-01, -8.6385e-01],\n",
      "         [ 1.0036e+00,  7.6226e-01,  1.7028e+00,  ...,  1.1733e+00,\n",
      "           4.1632e-01, -6.7729e-01],\n",
      "         ...,\n",
      "         [ 4.7114e-01, -1.2636e+00,  5.5103e-01,  ...,  1.3797e+00,\n",
      "          -1.0241e+00,  1.7427e+00],\n",
      "         [ 1.0273e+00, -6.7387e-01, -1.3061e-01,  ..., -8.6375e-01,\n",
      "           1.2398e-01,  2.5371e-01],\n",
      "         [ 1.0273e+00, -6.7387e-01, -1.3061e-01,  ..., -8.6375e-01,\n",
      "           1.2398e-01,  2.5371e-01]],\n",
      "\n",
      "        ...,\n",
      "\n",
      "        [[ 9.3385e-01,  1.2479e+00,  4.2605e-01,  ..., -9.6581e-01,\n",
      "           1.3056e+00,  7.3954e-01],\n",
      "         [-1.3459e+00,  3.3378e-02,  4.3204e-01,  ..., -4.1165e-01,\n",
      "           7.5765e-01, -2.1186e-01],\n",
      "         [ 1.0273e+00, -6.7387e-01, -1.3061e-01,  ..., -8.6375e-01,\n",
      "           1.2398e-01,  2.5371e-01],\n",
      "         ...,\n",
      "         [-3.6112e-02, -1.1759e+00,  9.5788e-01,  ...,  4.9421e-01,\n",
      "          -9.7346e-01, -4.4391e-01],\n",
      "         [-3.6112e-02, -1.1759e+00,  9.5788e-01,  ...,  4.9421e-01,\n",
      "          -9.7346e-01, -4.4391e-01],\n",
      "         [-3.6112e-02, -1.1759e+00,  9.5788e-01,  ...,  4.9421e-01,\n",
      "          -9.7346e-01, -4.4391e-01]],\n",
      "\n",
      "        [[-1.5631e-01, -5.7398e-02, -1.6389e-04,  ..., -9.6195e-01,\n",
      "           1.1204e+00, -1.6731e-01],\n",
      "         [ 8.6108e-01, -1.1204e+00,  4.3018e-02,  ...,  9.8041e-01,\n",
      "          -3.8710e-01, -1.5687e+00],\n",
      "         [ 8.7184e-01,  1.6892e+00, -2.6770e-01,  ...,  1.8816e-01,\n",
      "           4.0632e-01, -1.0070e+00],\n",
      "         ...,\n",
      "         [-3.6112e-02, -1.1759e+00,  9.5788e-01,  ...,  4.9421e-01,\n",
      "          -9.7346e-01, -4.4391e-01],\n",
      "         [-3.6112e-02, -1.1759e+00,  9.5788e-01,  ...,  4.9421e-01,\n",
      "          -9.7346e-01, -4.4391e-01],\n",
      "         [-3.6112e-02, -1.1759e+00,  9.5788e-01,  ...,  4.9421e-01,\n",
      "          -9.7346e-01, -4.4391e-01]],\n",
      "\n",
      "        [[-4.8574e-01, -1.9816e-01,  4.7450e-02,  ...,  5.7466e-01,\n",
      "          -8.1874e-01,  7.9018e-01],\n",
      "         [ 2.2420e-01, -1.2240e+00,  5.0490e-01,  ..., -1.0129e+00,\n",
      "          -1.2664e+00,  6.0429e-02],\n",
      "         [-4.1437e-01, -2.7483e-02, -1.9620e+00,  ...,  4.5403e-01,\n",
      "          -7.3952e-01, -1.2473e+00],\n",
      "         ...,\n",
      "         [-3.6112e-02, -1.1759e+00,  9.5788e-01,  ...,  4.9421e-01,\n",
      "          -9.7346e-01, -4.4391e-01],\n",
      "         [-3.6112e-02, -1.1759e+00,  9.5788e-01,  ...,  4.9421e-01,\n",
      "          -9.7346e-01, -4.4391e-01],\n",
      "         [-3.6112e-02, -1.1759e+00,  9.5788e-01,  ...,  4.9421e-01,\n",
      "          -9.7346e-01, -4.4391e-01]]])\n",
      "              precision    recall  f1-score   support\n",
      "\n",
      "           0       0.00      0.00      0.00         0\n",
      "           1       0.00      0.00      0.00         0\n",
      "           2       0.91      0.55      0.68      4640\n",
      "           3       0.00      0.00      0.00         0\n",
      "           4       0.08      0.16      0.11       357\n",
      "           5       0.00      0.00      0.00         0\n",
      "           6       0.00      0.00      0.00         0\n",
      "           7       0.00      0.00      0.00         0\n",
      "           8       0.00      0.00      0.00         0\n",
      "           9       0.00      0.00      0.00         0\n",
      "          10       0.00      0.00      0.00         0\n",
      "          11       0.00      0.00      0.00         0\n",
      "\n",
      "    accuracy                           0.52      4997\n",
      "   macro avg       0.08      0.06      0.07      4997\n",
      "weighted avg       0.85      0.52      0.64      4997\n"
     ]
    },
    {
     "name": "stderr",
     "output_type": "stream",
     "text": [
      "/Users/rlopes/miniconda3/envs/is/lib/python3.10/site-packages/sklearn/metrics/_classification.py:1469: UndefinedMetricWarning: Recall and F-score are ill-defined and being set to 0.0 in labels with no true samples. Use `zero_division` parameter to control this behavior.\n",
      "  _warn_prf(average, modifier, msg_start, len(result))\n",
      "/Users/rlopes/miniconda3/envs/is/lib/python3.10/site-packages/sklearn/metrics/_classification.py:1469: UndefinedMetricWarning: Recall and F-score are ill-defined and being set to 0.0 in labels with no true samples. Use `zero_division` parameter to control this behavior.\n",
      "  _warn_prf(average, modifier, msg_start, len(result))\n",
      "/Users/rlopes/miniconda3/envs/is/lib/python3.10/site-packages/sklearn/metrics/_classification.py:1469: UndefinedMetricWarning: Recall and F-score are ill-defined and being set to 0.0 in labels with no true samples. Use `zero_division` parameter to control this behavior.\n",
      "  _warn_prf(average, modifier, msg_start, len(result))\n"
     ]
    }
   ],
   "source": [
    "from sklearn.metrics import classification_report\n",
    "import numpy as np\n",
    "\n",
    "model.eval()\n",
    "test_accuracy = n_examples = 0\n",
    "y_true, y_pred = [], []\n",
    "with torch.no_grad():\n",
    "    for inputs, target, text in tqdm(test_loader, leave=False):\n",
    "        target = target.to(device)\n",
    "\n",
    "        _, logits = model(inputs, return_activations=True)\n",
    "\n",
    "        logits = logits.detach().cpu().numpy()\n",
    "        predictions = np.argmax(logits, axis=1)\n",
    "        target = target.cpu().numpy()\n",
    "\n",
    "        y_true.extend(predictions)\n",
    "        y_pred.extend(target)\n",
    "\n",
    "print(classification_report(y_true, y_pred))"
   ],
   "metadata": {
    "collapsed": false,
    "ExecuteTime": {
     "end_time": "2023-12-05T18:58:24.105186Z",
     "start_time": "2023-12-05T18:58:22.123096Z"
    }
   },
   "id": "85a752ed5d4e5a1a"
  },
  {
   "cell_type": "code",
   "execution_count": 60,
   "outputs": [],
   "source": [
    "import random\n",
    "from ipywidgets import HTML\n",
    "\n",
    "flatten = lambda x: [sublst for lst in x for sublst in lst]\n",
    "inputs_lst, target_lst, text_lst = zip(*test_loader)\n",
    "inputs_lst, target_lst, text_lst = map(flatten, [inputs_lst, target_lst, text_lst])\n",
    "test_examples = list(zip(inputs_lst, target_lst, text_lst))\n",
    "\n",
    "\n",
    "def print_random_prediction(n=10):\n",
    "    to_emoji = lambda y1, y2: '😄' if y1 == y2 else '😡'\n",
    "    model.eval()\n",
    "    rows = []\n",
    "    for _ in range(n):\n",
    "        with torch.no_grad():\n",
    "            inputs, target, text = random.choice(test_examples)\n",
    "            target = target.item()\n",
    "\n",
    "            _, logits = model([inputs], return_activations=True)\n",
    "            logits = logits.detach().cpu().numpy()\n",
    "            prediction = np.argmax(logits, axis=1)[0]\n",
    "\n",
    "            predicted = to_emoji(target, prediction)\n",
    "\n",
    "            row = f\"\"\"\n",
    "            <tr>\n",
    "            <td>{text}&nbsp;</td>\n",
    "            <td>{unique[prediction]} == {unique[target]}&nbsp;</td>\n",
    "            <td>{predicted}&nbsp;</td>\n",
    "            </tr>\n",
    "            \"\"\"\n",
    "            rows.append(row)\n",
    "\n",
    "    rows_joined = '\\n'.join(rows)\n",
    "    table = f\"\"\"\n",
    "<table>\n",
    "<tbody>\n",
    "<tr>\n",
    "<td><b>Review</b>&nbsp;</td>\n",
    "<td><b>Predicted</b>&nbsp;</td>\n",
    "<td><b>Actual</b>&nbsp;</td>\n",
    "</tr>\n",
    "{rows_joined}\n",
    "</tbody>\n",
    "</table>\n",
    "\"\"\"\n",
    "    display(HTML(table))"
   ],
   "metadata": {
    "collapsed": false,
    "ExecuteTime": {
     "end_time": "2023-12-06T12:11:57.584312Z",
     "start_time": "2023-12-06T12:11:57.518279Z"
    }
   },
   "id": "fda1bf8c26625315"
  },
  {
   "cell_type": "code",
   "execution_count": 61,
   "outputs": [
    {
     "name": "stdout",
     "output_type": "stream",
     "text": [
      "tensor([[ 244,   45,  143,  829,  915,  919,  405,   45,  993,  765,  140,   85,\n",
      "         1000,  764,   45]])\n",
      "tensor([[[-0.0908,  0.1099,  0.3184,  ...,  0.0758,  0.9385, -0.7371],\n",
      "         [ 1.0273, -0.6739, -0.1306,  ..., -0.8637,  0.1240,  0.2537],\n",
      "         [ 0.9744, -1.1733,  0.2189,  ...,  0.0186,  0.1697, -1.8631],\n",
      "         ...,\n",
      "         [ 1.1877,  1.0164,  0.8558,  ...,  1.1655, -0.7784, -0.1015],\n",
      "         [ 0.4948,  1.0173, -0.9312,  ..., -1.1180,  0.1065, -1.1160],\n",
      "         [ 1.0273, -0.6739, -0.1306,  ..., -0.8637,  0.1240,  0.2537]]])\n",
      "tensor([[319, 973, 815, 266, 771, 463,  45, 576,  45, 404]])\n",
      "tensor([[[-0.2306,  0.9798,  1.8216,  ...,  1.0044,  0.7435,  0.2145],\n",
      "         [ 0.4222, -1.2051,  0.6399,  ..., -0.3388, -0.2540,  0.3721],\n",
      "         [ 0.4588, -0.9987, -0.2228,  ..., -0.2245, -0.1353, -1.1859],\n",
      "         ...,\n",
      "         [ 0.7227,  0.2920,  0.2990,  ...,  0.6091,  0.3135, -0.6840],\n",
      "         [ 1.0273, -0.6739, -0.1306,  ..., -0.8637,  0.1240,  0.2537],\n",
      "         [ 0.1322,  0.3838,  1.7781,  ...,  0.8354, -0.0441,  0.7613]]])\n",
      "tensor([[476, 483, 615, 764]])\n",
      "tensor([[[-9.3886e-02, -1.2037e+00,  7.8965e-01, -1.1483e+00,  6.9567e-01,\n",
      "          -7.8720e-01, -8.8294e-01,  7.0534e-01,  1.1371e+00,  6.4666e-01,\n",
      "           1.1566e-02, -6.2161e-01, -7.3532e-01,  3.6932e-01, -8.0254e-01,\n",
      "          -1.4501e+00, -1.5640e+00,  5.5731e-01, -2.1003e+00, -1.0642e+00,\n",
      "           1.5398e+00,  2.8550e-01, -4.4282e-01,  3.1369e-01, -7.6356e-01,\n",
      "          -5.4539e-02,  7.5824e-01,  4.2263e-01,  6.9681e-01, -7.5315e-01,\n",
      "          -8.0654e-02,  2.0561e-01,  2.0366e-01,  6.4202e-01, -9.7855e-03,\n",
      "          -1.8750e-01,  2.2132e-02, -1.0730e+00, -3.9702e-01,  3.5067e-01,\n",
      "          -9.3421e-01, -6.2834e-01,  8.1275e-02, -2.4225e-01, -4.7433e-01,\n",
      "          -3.4652e-01, -1.2842e-01,  3.7569e-01,  1.3291e+00, -9.2809e-01,\n",
      "          -5.7843e-01,  2.2900e-01, -1.3837e+00, -6.9582e-01, -1.1352e+00,\n",
      "          -1.1764e+00,  4.6494e-01,  6.3020e-01, -1.0479e+00, -1.1709e-01,\n",
      "           1.4358e-01,  1.5674e+00, -7.4761e-01, -2.6104e-01,  1.0773e+00,\n",
      "          -2.8846e-01,  1.6287e-01,  3.1413e-01,  1.3549e+00,  4.4616e-01,\n",
      "          -3.3742e-01, -8.9337e-01, -6.3767e-01,  1.4067e+00,  1.8845e+00,\n",
      "           7.1862e-02,  3.7820e-01, -1.1153e+00, -2.9017e-01,  1.7096e+00,\n",
      "          -1.0216e+00,  7.7913e-01,  4.7237e-01, -2.0978e-02, -2.0450e+00,\n",
      "           2.4199e-01, -1.8057e-01, -8.2555e-01, -1.3695e+00,  2.0186e-01,\n",
      "          -3.4261e-01, -1.4349e+00, -6.1008e-02,  7.6429e-01, -1.1234e+00,\n",
      "          -1.5527e-03, -6.2490e-01, -3.6458e-01,  2.4531e+00,  1.1768e-01,\n",
      "          -3.7597e-01,  1.3790e+00, -3.5016e-01, -6.5505e-01, -9.4667e-01,\n",
      "          -2.1207e+00, -1.4808e-01, -1.4785e-01, -1.0502e-01, -2.7182e+00,\n",
      "          -1.4483e+00,  1.8418e-01, -8.1693e-01,  2.1814e-01, -2.2452e-01,\n",
      "          -7.7842e-01, -1.0346e+00,  1.4091e+00, -1.4587e+00,  2.5890e-01,\n",
      "          -2.5581e-01, -1.0760e+00, -4.9905e-01,  7.2561e-01, -2.2481e+00,\n",
      "           2.0491e+00,  9.8757e-01, -3.0074e-01],\n",
      "         [ 1.6022e+00,  1.2068e-01, -1.2406e+00,  3.7842e-01, -3.2646e-01,\n",
      "          -8.7257e-01, -1.7962e+00,  5.0239e-01,  1.8485e-01,  1.7398e+00,\n",
      "           2.3238e+00,  6.2275e-01, -5.6905e-01, -2.1899e+00, -1.1652e-01,\n",
      "           5.2780e-01,  7.2070e-01,  1.3163e+00, -1.4150e+00, -4.8947e-01,\n",
      "           6.3111e-01,  6.5347e-01, -4.2596e-01,  1.1541e-01, -6.7344e-01,\n",
      "           9.1539e-01, -4.7640e-01, -1.8424e+00, -9.4923e-01, -1.5401e+00,\n",
      "           4.9581e-01,  1.0840e+00, -5.8367e-01,  9.4768e-01, -7.3302e-02,\n",
      "          -2.1424e+00, -1.5204e+00, -5.0237e-01, -1.2434e+00,  7.3637e-01,\n",
      "          -1.3421e-01, -5.1608e-01, -1.1951e+00,  1.0034e+00,  5.1771e-01,\n",
      "           3.0845e+00,  1.2740e+00,  4.4678e-01,  4.6569e-01, -1.1403e+00,\n",
      "          -2.7342e-01,  2.1500e+00, -2.2491e+00, -8.9732e-01, -1.2045e+00,\n",
      "          -5.8842e-01,  1.9594e+00,  7.0613e-01,  2.1242e-01,  1.0477e+00,\n",
      "          -1.6646e-01, -8.4421e-01,  1.8037e+00,  9.2457e-01, -8.9619e-01,\n",
      "          -5.6748e-01,  3.1497e-01,  1.3952e+00,  5.4586e-01, -4.2972e-01,\n",
      "          -5.3611e-01, -2.0992e+00, -1.7651e+00, -1.3148e+00,  9.2310e-02,\n",
      "           2.3922e-01, -5.8516e-01,  7.7215e-02,  5.5024e-01,  1.3180e-01,\n",
      "           3.9349e-01, -4.8283e-01,  1.0116e+00,  1.7930e-01,  8.8532e-01,\n",
      "           8.0469e-01,  4.9202e-02, -6.9959e-01, -4.6683e-01, -8.0125e-01,\n",
      "          -1.3326e+00,  1.6813e+00, -3.6599e-01,  5.4695e-01, -1.5511e+00,\n",
      "          -8.4013e-01, -1.2911e+00,  8.9273e-01,  1.5657e+00,  4.3928e-01,\n",
      "           6.7615e-01,  7.7343e-01,  6.7496e-01, -5.7974e-01,  1.3533e-01,\n",
      "           8.3088e-01,  1.1554e-01, -4.3953e-01,  8.6659e-01, -3.6902e-02,\n",
      "          -1.6746e+00,  5.9315e-01, -1.3683e+00,  1.0023e+00, -9.4348e-01,\n",
      "          -3.3549e-01,  4.7706e-01,  4.3266e-01, -6.7303e-01,  7.9770e-01,\n",
      "          -3.1721e-01,  4.0907e-01, -7.3877e-01,  2.6451e-01,  4.7974e-01,\n",
      "          -1.2607e+00,  3.5386e-01,  4.6079e-01],\n",
      "         [ 3.5806e-01,  5.6069e-01, -6.4180e-01, -6.4656e-01, -1.1162e-01,\n",
      "           2.1550e+00,  1.2676e+00,  7.3085e-01,  6.6565e-01, -7.3052e-01,\n",
      "          -2.4522e-01,  3.6079e-01, -7.9291e-01,  2.1684e+00, -3.7344e-02,\n",
      "          -7.6891e-01, -2.5284e-01,  3.0800e+00,  4.8009e-01,  6.4326e-01,\n",
      "           1.3301e+00,  4.9192e-01,  3.2857e-01,  1.9496e-01,  1.9236e-01,\n",
      "           1.0873e+00, -1.4738e+00,  7.5738e-01,  9.1152e-01,  1.8595e+00,\n",
      "           1.0165e+00, -1.6359e-01, -9.2043e-01, -1.1205e+00, -4.1218e-01,\n",
      "           3.7091e-03,  7.6292e-01, -6.8243e-01,  1.6147e+00, -6.4885e-01,\n",
      "           1.3786e-01, -9.3609e-03,  1.1773e+00,  5.9909e-01,  6.5285e-01,\n",
      "          -1.1337e+00,  2.3242e-01,  1.5219e+00,  4.4270e-01,  1.0403e+00,\n",
      "           6.2094e-01,  5.5147e-01, -1.7430e-01, -1.3845e+00,  1.9094e-01,\n",
      "          -8.0404e-01,  4.5890e-01, -1.0659e+00, -9.7305e-01, -2.5202e+00,\n",
      "          -6.0188e-01,  1.0766e+00,  8.8227e-02,  6.2135e-01, -2.0242e+00,\n",
      "           1.8805e+00,  1.2704e+00,  3.0652e-01, -4.7769e-01, -1.3380e+00,\n",
      "          -6.7941e-01,  7.3146e-01, -7.6690e-01, -2.0079e-01, -6.3456e-01,\n",
      "          -7.6259e-01, -4.8609e-01, -9.7035e-01,  5.1185e-01, -1.5772e+00,\n",
      "          -9.2594e-01,  2.4117e+00,  8.2418e-01,  1.4528e+00,  1.5430e+00,\n",
      "           6.0959e-01, -1.8910e-01, -6.6397e-01, -3.5352e-01,  2.6361e-01,\n",
      "           2.1994e-02,  8.1105e-01, -9.9485e-01, -2.3923e-01, -4.8816e-01,\n",
      "           1.4812e-01,  1.3017e+00, -6.9778e-01,  1.8571e-01, -2.3261e-01,\n",
      "          -5.8375e-01,  5.1533e-01,  2.0404e+00, -8.7276e-01, -4.5450e-02,\n",
      "          -9.9507e-01, -1.8157e-01,  1.0984e-01, -4.8012e-01,  7.6069e-01,\n",
      "           7.6813e-03, -4.8787e-01, -7.6699e-01, -1.2300e+00,  1.6561e-01,\n",
      "          -1.7691e+00, -2.9087e-01, -1.3404e-01,  1.3229e+00, -3.3496e-01,\n",
      "           1.2695e-01,  8.4427e-01,  1.5104e+00,  2.9932e-01,  1.3520e+00,\n",
      "           2.6946e-02,  8.5911e-01, -2.8612e-01],\n",
      "         [ 4.9483e-01,  1.0173e+00, -9.3118e-01,  8.9374e-01,  1.1643e+00,\n",
      "           2.6324e+00, -1.0354e+00,  1.0269e-01,  1.3886e+00, -1.1018e+00,\n",
      "          -1.2551e+00, -1.0980e-01, -4.7016e-01, -3.0933e-01,  2.8084e+00,\n",
      "          -9.8442e-01, -1.4857e+00,  1.1154e+00, -5.8832e-01,  7.1418e-01,\n",
      "           1.5098e+00, -8.0363e-01, -1.6113e+00,  9.7890e-01,  4.7350e-01,\n",
      "          -6.4897e-01, -2.0226e-01,  3.0679e-02, -1.3142e+00,  1.4423e+00,\n",
      "          -6.9916e-01,  9.1143e-01,  1.5693e+00,  1.0469e+00,  7.3735e-01,\n",
      "           5.0526e-01, -9.1750e-01, -1.6148e+00, -4.6380e-01, -2.1954e-01,\n",
      "          -3.2711e-01, -7.0993e-01, -3.0924e-01,  5.4881e-01, -1.0705e-01,\n",
      "          -1.2714e+00,  5.0451e-01, -5.9922e-01,  4.3607e-01, -1.5265e+00,\n",
      "           1.6255e-01, -5.8897e-01, -2.3558e+00, -8.9270e-01,  9.5702e-01,\n",
      "          -1.0527e-01,  6.7655e-01,  2.4277e-02,  1.0329e+00, -4.3665e-01,\n",
      "           1.5925e-01,  2.0932e+00, -1.6685e-02, -1.2793e+00,  9.6447e-01,\n",
      "           2.0333e+00,  1.8089e+00, -2.4535e-01, -9.2555e-01, -6.5101e-01,\n",
      "          -7.1212e-01, -2.8104e-01,  1.6880e+00,  1.0271e+00, -3.2079e-01,\n",
      "           5.0572e-01,  2.9404e-01,  2.4269e-01,  1.2227e-01,  1.8992e-01,\n",
      "           9.6464e-01, -1.0338e+00, -1.0772e-01,  3.7224e-01, -5.6476e-01,\n",
      "          -3.3778e-01, -1.0344e-01, -1.1555e+00,  1.4867e-01, -5.3075e-01,\n",
      "          -2.0741e-01,  1.3443e+00,  1.0765e+00,  4.2526e-01, -2.8724e-01,\n",
      "          -1.1589e+00,  5.8492e-01, -2.8995e-01, -8.0305e-01,  1.8574e-01,\n",
      "          -1.2830e+00, -6.1922e-01,  9.4554e-02,  1.8464e+00, -4.6214e-01,\n",
      "          -1.3135e+00, -5.5892e-01, -8.7569e-01,  4.3694e-01, -7.3382e-01,\n",
      "           1.3327e+00,  7.9675e-01,  1.5342e+00, -9.6522e-01,  7.5190e-01,\n",
      "           6.1593e-02,  9.6808e-01,  1.0772e+00, -1.3767e+00,  2.4785e-01,\n",
      "           5.0381e-01, -5.9745e-01,  3.3573e-01,  5.3311e-01, -2.0890e+00,\n",
      "          -1.1180e+00,  1.0652e-01, -1.1160e+00]]])\n",
      "tensor([[ 33, 821,  45, 943, 332, 246,  45, 618,  45,  77,  45, 413, 671,  45,\n",
      "          45, 244,  45, 943, 208, 743, 833, 413,  45, 254, 671, 993, 749, 423,\n",
      "         413, 140, 671,  45, 456]])\n",
      "tensor([[[ 0.6624, -0.1794, -0.2324,  ..., -1.4693,  1.0360, -0.9781],\n",
      "         [-0.8065, -0.1755, -1.2100,  ..., -1.5739,  2.4010, -1.6476],\n",
      "         [ 1.0273, -0.6739, -0.1306,  ..., -0.8637,  0.1240,  0.2537],\n",
      "         ...,\n",
      "         [-1.1725,  0.1061,  1.1430,  ...,  0.0627, -0.7704,  2.2252],\n",
      "         [ 1.0273, -0.6739, -0.1306,  ..., -0.8637,  0.1240,  0.2537],\n",
      "         [ 0.7578,  0.7399,  0.3742,  ...,  0.2009, -1.3494,  1.4181]]])\n",
      "tensor([[585, 133, 544, 772, 633,  29, 279, 515, 661, 266, 166, 956,  53,  45,\n",
      "         861, 841, 729, 526,  71, 993, 254, 606, 773, 276, 144, 350, 798, 266,\n",
      "         771, 918, 259, 815, 500, 785, 266,  72, 914,  45, 747, 448, 714, 369,\n",
      "         186,  45, 876, 601, 443,  45, 567, 465, 661, 772, 915, 268,  45,  45,\n",
      "         995, 529, 171,  90, 675, 447, 171, 423,  45, 659,  45,  45, 585, 133,\n",
      "         544,  45]])\n",
      "tensor([[[-0.3450,  0.4551,  1.2127,  ...,  0.7103,  0.8267,  0.2338],\n",
      "         [ 0.0843,  0.5717,  1.1352,  ..., -0.2113,  0.2880,  1.0501],\n",
      "         [-0.0533, -0.0562, -1.6179,  ...,  0.2181, -1.3956,  0.2366],\n",
      "         ...,\n",
      "         [ 0.0843,  0.5717,  1.1352,  ..., -0.2113,  0.2880,  1.0501],\n",
      "         [-0.0533, -0.0562, -1.6179,  ...,  0.2181, -1.3956,  0.2366],\n",
      "         [ 1.0273, -0.6739, -0.1306,  ..., -0.8637,  0.1240,  0.2537]]])\n",
      "tensor([[125, 593, 915, 896, 587, 544,  45, 426,  45, 845, 747, 988,  45,  45,\n",
      "         973, 116, 938, 140, 383, 396, 323,  45, 773, 938, 266, 773,  76, 381,\n",
      "         396,  45, 659,  23, 148, 660, 919, 560, 661,  23, 993,  47, 747, 544,\n",
      "         556,  28, 661, 634, 177, 355, 423, 850, 770, 574, 332, 228,  45, 973,\n",
      "         849]])\n",
      "tensor([[[-2.0257e-02,  4.4230e-01, -3.2481e-01,  ...,  1.8859e+00,\n",
      "           3.7491e-01,  1.0324e+00],\n",
      "         [-1.0712e+00,  9.5561e-01, -6.7652e-01,  ..., -5.3329e-01,\n",
      "           2.9652e-01, -1.8042e+00],\n",
      "         [ 1.9378e+00, -2.1627e-01, -1.3722e+00,  ...,  1.6312e+00,\n",
      "           2.3130e+00, -2.3587e+00],\n",
      "         ...,\n",
      "         [ 1.0273e+00, -6.7387e-01, -1.3061e-01,  ..., -8.6375e-01,\n",
      "           1.2398e-01,  2.5371e-01],\n",
      "         [ 4.2216e-01, -1.2051e+00,  6.3994e-01,  ..., -3.3880e-01,\n",
      "          -2.5403e-01,  3.7214e-01],\n",
      "         [ 5.0402e-01,  7.7165e-01, -6.6166e-01,  ...,  7.7307e-01,\n",
      "           6.6105e-01,  1.3561e-03]]])\n",
      "tensor([[172,  45, 180, 822, 859,  45, 766, 738, 529, 867,  45, 266, 180, 142,\n",
      "         114, 865,  45, 489, 266, 771,  45,  45,  93, 266, 180, 556,  45, 727,\n",
      "          45, 919,  45, 811,  45, 811,  88, 510, 259,  45, 489, 988, 670, 484,\n",
      "         766,  45, 993, 534,  93,  45, 428, 140, 865, 993, 438, 489, 919, 800,\n",
      "         919, 213, 766, 919, 391, 730, 308,  45, 993, 213, 730, 308, 453, 607,\n",
      "         172, 140, 605, 766, 171, 140, 423, 529, 867, 214,  53, 172,  45, 855,\n",
      "         563, 919, 316, 567, 607, 421, 766,  45,  45, 130, 213,  53, 867, 730,\n",
      "         308, 974, 213,  53, 453,  45, 425,  95, 807, 974, 213, 114, 563, 682,\n",
      "         308,  79, 273, 425,  45, 866,  45, 114, 259, 213,  53, 865, 803, 308,\n",
      "         730, 919,  45, 659,  94,  45,  45,  53, 319, 181, 803, 308, 730, 308,\n",
      "         319,  45, 435, 995, 866,  53, 214]])\n",
      "tensor([[[-1.1762, -0.1110,  1.8825,  ...,  0.3025, -0.3105, -0.3134],\n",
      "         [ 1.0273, -0.6739, -0.1306,  ..., -0.8637,  0.1240,  0.2537],\n",
      "         [-0.7000, -0.8110, -1.0252,  ..., -0.1010,  0.0350,  0.5547],\n",
      "         ...,\n",
      "         [-0.4340, -1.9555, -0.2533,  ...,  2.1922,  1.0183, -0.5756],\n",
      "         [ 0.8718,  1.6892, -0.2677,  ...,  0.1882,  0.4063, -1.0070],\n",
      "         [-0.9728, -0.7463,  0.0181,  ..., -0.1500,  3.1093,  0.7502]]])\n",
      "tensor([[ 45, 623,  45, 152, 544, 823,  45,  45, 364, 764, 586, 695, 587, 493,\n",
      "         587, 493, 560, 544,  45,  45,  45, 185,  45, 151,  45, 443, 784,  45,\n",
      "          45,  45, 993, 764,  45, 258, 587, 493,  45,  45,  45, 916,  45,  45,\n",
      "         751,  45,  45, 764, 695, 587, 493]])\n",
      "tensor([[[ 1.0273, -0.6739, -0.1306,  ..., -0.8637,  0.1240,  0.2537],\n",
      "         [-0.5287, -0.5365,  0.5750,  ..., -0.0488, -1.4206,  0.2111],\n",
      "         [ 1.0273, -0.6739, -0.1306,  ..., -0.8637,  0.1240,  0.2537],\n",
      "         ...,\n",
      "         [-0.7204,  0.0752,  0.6528,  ..., -1.3857,  0.0501, -0.3452],\n",
      "         [-1.6100, -0.9374, -0.7982,  ..., -0.4972, -0.4305, -0.3192],\n",
      "         [-0.9866,  0.5791, -1.0196,  ..., -0.0468,  0.5551, -0.5440]]])\n",
      "tensor([[ 51, 366, 266, 773,  57,  45,   0, 968,  45, 952,   9, 813,  36, 864,\n",
      "         800, 694, 952,   9, 813,  37, 813,  15,  88, 864, 242, 773,  76, 414,\n",
      "          53, 618, 988, 995, 492]])\n",
      "tensor([[[ 1.4072, -0.8594, -0.1254,  ...,  0.2424,  0.9002,  0.4472],\n",
      "         [ 0.9660,  0.2466, -0.5464,  ..., -1.4728, -0.0170, -0.1870],\n",
      "         [-0.5151, -0.5731, -0.4868,  ...,  1.2267,  0.0449,  0.1171],\n",
      "         ...,\n",
      "         [-3.3206, -0.0157,  1.4260,  ...,  0.3915, -0.6886, -1.0064],\n",
      "         [ 1.5568, -0.1399,  0.6095,  ...,  0.7279, -1.0897,  0.3446],\n",
      "         [ 2.0336, -1.4820, -0.9170,  ...,  0.2244, -1.2840,  0.5061]]])\n",
      "tensor([[ 51, 366, 266, 773,  57, 537,  53, 968, 376, 711, 242, 800, 693, 235,\n",
      "           8, 952,   9, 919, 343,  45,  53, 452, 865, 358, 226,  56, 685, 635,\n",
      "         276, 276, 514,  60, 592, 476,  52,   8, 952,  12,  32,  45,  45,  53,\n",
      "         499, 773,  45, 952,   9, 813,  36, 864, 800, 694, 952,   9, 813,  37,\n",
      "         813,  15,  88, 864, 242, 773,  76, 414,  53, 988, 995, 492,   8, 952,\n",
      "          11,  32, 813, 864, 242, 773,  76, 568, 560, 242, 771, 246, 395, 502,\n",
      "         483,  70, 502, 483, 743, 252, 269,  96, 771, 828, 999, 952,  13,   2,\n",
      "         671, 830, 414, 483, 759, 242, 242, 773,  76, 671, 510, 735, 184, 152,\n",
      "         483, 469,  88,  45, 355, 229, 266, 773, 359, 713, 182]])\n",
      "tensor([[[ 1.4072, -0.8594, -0.1254,  ...,  0.2424,  0.9002,  0.4472],\n",
      "         [ 0.9660,  0.2466, -0.5464,  ..., -1.4728, -0.0170, -0.1870],\n",
      "         [-0.5151, -0.5731, -0.4868,  ...,  1.2267,  0.0449,  0.1171],\n",
      "         ...,\n",
      "         [-0.0289, -0.0481,  0.5588,  ..., -0.7570,  0.2826, -1.1940],\n",
      "         [ 0.1768,  0.4399, -1.2287,  ..., -0.4136,  0.5867,  0.3535],\n",
      "         [ 0.1180, -1.5687,  0.4076,  ...,  0.7162,  0.4627,  2.2108]]])\n"
     ]
    },
    {
     "data": {
      "text/plain": "HTML(value='\\n<table>\\n<tbody>\\n<tr>\\n<td><b>Review</b>&nbsp;</td>\\n<td><b>Predicted</b>&nbsp;</td>\\n<td><b>Ac…",
      "application/vnd.jupyter.widget-view+json": {
       "version_major": 2,
       "version_minor": 0,
       "model_id": "bcb71338752043e4b4cee66c7208aa62"
      }
     },
     "metadata": {},
     "output_type": "display_data"
    }
   ],
   "source": [
    "print_random_prediction(10)"
   ],
   "metadata": {
    "collapsed": false,
    "ExecuteTime": {
     "end_time": "2023-12-06T12:11:59.324839Z",
     "start_time": "2023-12-06T12:11:59.284129Z"
    }
   },
   "id": "a1cbfea50a166019"
  },
  {
   "cell_type": "code",
   "execution_count": null,
   "outputs": [],
   "source": [],
   "metadata": {
    "collapsed": false
   },
   "id": "4ec3a857ce156d64"
  }
 ],
 "metadata": {
  "kernelspec": {
   "display_name": "Python 3",
   "language": "python",
   "name": "python3"
  },
  "language_info": {
   "codemirror_mode": {
    "name": "ipython",
    "version": 2
   },
   "file_extension": ".py",
   "mimetype": "text/x-python",
   "name": "python",
   "nbconvert_exporter": "python",
   "pygments_lexer": "ipython2",
   "version": "2.7.6"
  }
 },
 "nbformat": 4,
 "nbformat_minor": 5
}
