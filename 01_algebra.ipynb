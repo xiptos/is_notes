{
 "cells": [
  {
   "cell_type": "markdown",
   "id": "6eefd2b8-2b03-458c-9114-327b708139fb",
   "metadata": {},
   "source": [
    "# Linear Algebra\n",
    "\n",
    "## Vectors\n",
    "\n",
    "A vector is an ordered sequence of values. For example, in two-dimensional space, we have vectors such as $x = [3, 4]$ and $y = [0, 2]$. We follow the convention of boldface characters for vector names, although some authors use arrows or bars over the names: $\\vec{x}$. The elements of a vector can be accessed using subscripts: $z=[z_1,z_2, ..., z_n]$. \n",
    "The two fundamental operations on vectors are vector addition and scalar multiplication. The vector addition $x + y$ is the elementwise sum: $x + y=[3 + 0,4 + 2]=[3,6]$. Scalar multiplication multiplies each element by a constant: $5x = [5 \\times 3, 5 \\times 4] = [15, 20]$.\n",
    "The length of a vector is denoted by $|x|$ and is computed by taking the square root of the sum of the squares of the elements: $|x|= (32 + 42)=5$. The dot product $x\\cdot y$ (also called scalar product) of two vectors is the sum of the products of corresponding elements, that is, $x\\cdot y= \\sum_i {x_iy_i}$, or in our particular case, $x\\cdot y=3\\times 0+4\\times 2=8$.\n",
    "Vectors are often interpreted as directed line segments (arrows) in an n-dimensional [Euclidean](https://en.wikipedia.org/wiki/Euclidean_space) space. Vector addition is then equivalent to placing the tail of one vector at the head of the other, and the dot product $x\\cdot y$ is $|x| |y| cos \\theta$, where $\\theta$ is the angle between $x$ and $y$.\n"
   ]
  },
  {
   "cell_type": "code",
   "execution_count": 4,
   "id": "e7dbadbd-404c-4ea7-8297-cdcc4d70a39a",
   "metadata": {},
   "outputs": [
    {
     "data": {
      "image/png": "[encoded data removed]",
      "text/plain": [
       "<Figure size 432x288 with 1 Axes>"
      ]
     },
     "metadata": {
      "needs_background": "light"
     },
     "output_type": "display_data"
    }
   ],
   "source": [
    "import numpy as np\n",
    "import matplotlib.pyplot as plt\n",
    "\n",
    "def draw(x, y): \n",
    "    xPlusy = (abs(x[0]+y[0]),abs(x[1]+y[1]))\n",
    "    array = np.array([[0, 0, x[0], x[1]], \n",
    "                      [x[0], x[1], y[0], y[1]], \n",
    "                      [0, 0, xPlusy[0], xPlusy[1]]])\n",
    "    X, Y, U, V = zip(*array)\n",
    "    plt.figure()\n",
    "    plt.ylabel('Y-axis')\n",
    "    plt.xlabel('X-axis')\n",
    "    ax = plt.gca()\n",
    "    ax.quiver(X, Y, U, V, angles='xy', scale_units='xy',color=['r','b','g'],scale=1)\n",
    "    ax.set_xlim([0, 10])\n",
    "    ax.set_ylim([0, 10])\n",
    "    plt.draw()\n",
    "    plt.show()\n",
    "draw([3,4],[0,2])"
   ]
  },
  {
   "cell_type": "markdown",
   "id": "9dee7d33",
   "metadata": {},
   "source": [
    "## Matrices\n",
    "\n",
    "A matrix is a rectangular array of values arranged into rows and columns. Here is a matrix $A$ of size $3 \\times 4$:\n",
    "\n",
    "$$\n",
    "A_{3\\times4} =\n",
    "  \\left[ {\\begin{array}{cccc}\n",
    "    a_{1,1} & a_{1,2} & a_{1,3} & a_{1,4} \\\\\n",
    "    a_{2,1} & a_{2,2} & a_{2,3} & a_{2,4} \\\\\n",
    "    a_{3,1} & a_{3,2} & a_{3,3} & a_{3,4} \\\\\n",
    "  \\end{array} } \\right]\n",
    "$$\n",
    "\n",
    "The first index of $A_{i,j}$ specifies the row and the second the column. In programming languages, $A_{i,j}$ is often written `A[i,j]` or `A[i][j]`.\n",
    "The sum of two matrices is defined by adding their corresponding elements; for example $(A+B)_{i,j} =A_{i,j} +B_{i,j}$ (the sum is undefined if A and B have different sizes). We can also define the multiplication of a matrix by a scalar: $(cA)_{i,j} = cA_{i,j}$. Matrix multiplication (the product of two matrices) is more complicated. The product $AB$ is defined only if $A$ is of size $a\\times b$ and $B$ is of size $b\\times c$ (i.e., the second matrix has the same number of rows as the first has columns); the result is a matrix of size $a\\times c$. If the matrices are of appropriate size, then the result is\n",
    "\n",
    "$$(AB)_{i,k} = \\sum_j A_{i,j}B_{j,k}$$\n",
    "\n",
    "Matrix multiplication is not commutative, even for square matrices: $AB\\neq BA$ in general. It is, however, associative: $(AB)C = A(BC)$. Note that the dot product can be expressed in terms of a transpose and a matrix multiplication: $x\\cdot y = x^T y$.\n",
    "The identity matrix $I$ has elements $I_{i,j}$ equal to $1$ when $i = j$ and equal to $0$ otherwise. It has the property that $AI = A$ for all $A$. The transpose of $A$, written $A^T$ is formed by turning rows into columns and vice versa, or, more formally, by $A^T_{i,j} =A_{j,i}$. The inverse of a square matrix $A$ is another square matrix $A^{−1}$ such that $A^{−1} A = I$. For a singular matrix, the inverse does not exist. For a nonsingular matrix, it can be computed in $O(n^3)$ time.\n",
    "Matrices are used to solve systems of linear equations in $O(n^3)$ time; the time is dominated by inverting a matrix of coefficients. Consider the following set of equations, for which we want a solution in $x$, $y$, and $z$:\n",
    "\n",
    "$$\n",
    "\\begin{cases}\n",
    "+2x+y−z = 8\\\\\n",
    "−3x−y+2z = −11\\\\\n",
    "−2x+y+2z = −3\\\\\n",
    "\\end{cases}\n",
    "$$\n",
    "\n",
    "We can represent this system as the matrix equation $A x = b$, where\n",
    "\n",
    "$$\n",
    "A =\n",
    "  \\left[ {\\begin{array}{ccc}\n",
    "    2 & 1 & -1 \\\\\n",
    "    -3 & -1 & 2 \\\\\n",
    "    -2 & 1 & 2 \\\\\n",
    "  \\end{array} } \\right],\n",
    "x =\n",
    "  \\left[ {\\begin{array}{c}\n",
    "    x \\\\\n",
    "    y \\\\\n",
    "    z \\\\\n",
    "  \\end{array} } \\right],\n",
    "b =\n",
    "  \\left[ {\\begin{array}{c}\n",
    "    8 \\\\\n",
    "    -11 \\\\\n",
    "    -3 \\\\\n",
    "  \\end{array} } \\right]\n",
    "$$\n",
    "\n",
    "To solve $Ax = b$ we multiply both sides by $A^{−1}$, yielding $A^{−1}Ax = A^{−1}b$, which simplifies to $x = A^{−1}b$. After inverting $A$ and multiplying by $b$, we get the answer\n",
    "\n",
    "$$\n",
    "x =\n",
    "  \\left[ {\\begin{array}{c}\n",
    "    x \\\\\n",
    "    y \\\\\n",
    "    z \\\\\n",
    "  \\end{array} } \\right]\n",
    "=\n",
    "  \\left[ {\\begin{array}{c}\n",
    "    2 \\\\\n",
    "    3 \\\\\n",
    "    -1 \\\\\n",
    "  \\end{array} } \\right]\n",
    "$$"
   ]
  },
  {
   "cell_type": "markdown",
   "id": "bbc11bb2",
   "metadata": {},
   "source": [
    "# numpy\n",
    "\n",
    "[NumPy](https://numpy.org/doc/stable/user/quickstart.html) is the fundamental package for scientific computing in Python. It is a Python library that provides a multidimensional array object, various derived objects (such as masked arrays and matrices), and an assortment of routines for fast operations on arrays, including mathematical, logical, shape manipulation, sorting, selecting, I/O, discrete Fourier transforms, basic linear algebra, basic statistical operations, random simulation and much more.\n",
    "\n"
   ]
  },
  {
   "cell_type": "markdown",
   "id": "0896f86d",
   "metadata": {},
   "source": [
    "Download and solve the exercises [here](https://github.com/rougier/numpy-100/blob/master/100_Numpy_exercises.ipynb)."
   ]
  },
  {
   "cell_type": "code",
   "execution_count": null,
   "id": "3e22a24b",
   "metadata": {},
   "outputs": [],
   "source": []
  }
 ],
 "metadata": {
  "kernelspec": {
   "display_name": "Python 3 (ipykernel)",
   "language": "python",
   "name": "python3"
  },
  "language_info": {
   "codemirror_mode": {
    "name": "ipython",
    "version": 3
   },
   "file_extension": ".py",
   "mimetype": "text/x-python",
   "name": "python",
   "nbconvert_exporter": "python",
   "pygments_lexer": "ipython3",
   "version": "3.9.6"
  }
 },
 "nbformat": 4,
 "nbformat_minor": 5
}
