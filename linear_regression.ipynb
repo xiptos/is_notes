{
 "cells": [
  {
   "cell_type": "markdown",
   "source": [
    "[![Open In Colab](https://colab.research.google.com/assets/colab-badge.svg)](https://colab.research.google.com/github/xiptos/is_notes/blob/main/linear_regression.ipynb)"
   ],
   "metadata": {
    "collapsed": false
   },
   "id": "98e5d8cf185555b8"
  },
  {
   "cell_type": "markdown",
   "source": [
    "# Linear Regression\n",
    "\n",
    "The hypothesis of the linear regression has the following format:\n",
    "\n",
    "$$h_\\theta(x)=\\theta^Tx$$\n",
    "\n",
    "where\n",
    "\n",
    "$$x=\\begin{bmatrix}\n",
    "                   x_0    \\\\\n",
    "                   x_1    \\\\\n",
    "                   \\vdots \\\\\n",
    "                   x_n\n",
    "            \\end{bmatrix} \\in \\mathbb{R}^{n+1} \\text{  and  }\n",
    "\\theta=\\begin{bmatrix}\n",
    "                        \\theta_0 \\\\\n",
    "                        \\theta_1 \\\\\n",
    "                        \\vdots   \\\\\n",
    "                        \\theta_n\n",
    "            \\end{bmatrix} \\in \\mathbb{R}^{n+1}$$\n",
    "            \n",
    "Also remember that $x_0^{(i)}=1, \\forall i$."
   ],
   "metadata": {
    "collapsed": false
   },
   "id": "2d27e215"
  },
  {
   "cell_type": "markdown",
   "id": "116e6ed9",
   "metadata": {},
   "source": [
    "## Necessary modules\n",
    "\n",
    "Let's first import the necessary modules:"
   ]
  },
  {
   "cell_type": "code",
   "execution_count": null,
   "id": "fa9311a5",
   "metadata": {},
   "outputs": [],
   "source": [
    "%matplotlib inline\n",
    "import matplotlib.pyplot as plt\n",
    "import numpy as np"
   ]
  },
  {
   "cell_type": "markdown",
   "id": "8c45cfaa",
   "metadata": {},
   "source": [
    "We can use random number generator to generate our sample dataset:"
   ]
  },
  {
   "cell_type": "code",
   "execution_count": null,
   "id": "aea28ca9",
   "metadata": {},
   "outputs": [],
   "source": [
    "# Get an instance of the numpy random number generator with fixed seed\n",
    "rng = np.random.RandomState(1)\n",
    "# Generate a vector of 50 normaly distributed random numbers [0,1)\n",
    "x = 10 * rng.rand(50)\n",
    "# Generate the ordinate axis values (with a small dispersion)\n",
    "y = 2 * x + rng.randn(50)\n",
    "# plot the graph\n",
    "plt.scatter(x, y);"
   ]
  },
  {
   "cell_type": "markdown",
   "id": "b233849b",
   "metadata": {},
   "source": [
    "With our training set, let's find the linear regression hypothesis parameters ($\\theta$)"
   ]
  },
  {
   "cell_type": "code",
   "execution_count": null,
   "id": "3fc60f19",
   "metadata": {},
   "outputs": [],
   "source": [
    "from sklearn.linear_model import LinearRegression\n",
    "model = LinearRegression(fit_intercept=False)\n",
    "\n",
    "# the X parameter has to have the shape (n_samples, n_features), or (50, 1)\n",
    "model.fit(x[:, np.newaxis], y)\n",
    "\n",
    "# build 1000 evenly spaced numbers between 0 and 10\n",
    "xfit = np.linspace(0, 10, 1000)\n",
    "# Predict each of the previous x\n",
    "yfit = model.predict(xfit[:, np.newaxis])\n",
    "\n",
    "# Draw graph\n",
    "plt.scatter(x, y)\n",
    "plt.plot(xfit, yfit);"
   ]
  },
  {
   "cell_type": "markdown",
   "id": "80c70775",
   "metadata": {},
   "source": [
    "## Parameters\n",
    "\n",
    "We now have our hypothesis trained. Let's check the $\\theta_0$ and $\\theta_1$:"
   ]
  },
  {
   "cell_type": "code",
   "execution_count": null,
   "id": "80c15e82",
   "metadata": {},
   "outputs": [],
   "source": [
    "print(\"Model slope:    \", model.coef_[0])\n",
    "print(\"Model intercept:\", model.intercept_)"
   ]
  },
  {
   "cell_type": "markdown",
   "id": "208a5fde",
   "metadata": {},
   "source": [
    "## Prediction\n",
    "\n",
    "With the parameters, we can make predictions:"
   ]
  },
  {
   "cell_type": "code",
   "execution_count": null,
   "id": "266f1a9e",
   "metadata": {},
   "outputs": [],
   "source": [
    "# make predictions for those x values and store them\n",
    "X_new = np.array([2])\n",
    "pred = model.predict(X_new[:, np.newaxis])\n",
    "pred"
   ]
  }
 ],
 "metadata": {
  "kernelspec": {
   "display_name": "Python 3 (ipykernel)",
   "language": "python",
   "name": "python3"
  },
  "language_info": {
   "codemirror_mode": {
    "name": "ipython",
    "version": 3
   },
   "file_extension": ".py",
   "mimetype": "text/x-python",
   "name": "python",
   "nbconvert_exporter": "python",
   "pygments_lexer": "ipython3",
   "version": "3.9.6"
  },
  "nbTranslate": {
   "displayLangs": [
    "*"
   ],
   "hotkey": "alt-t",
   "langInMainMenu": true,
   "sourceLang": "en",
   "targetLang": "fr",
   "useGoogleTranslate": true
  }
 },
 "nbformat": 4,
 "nbformat_minor": 5
}
