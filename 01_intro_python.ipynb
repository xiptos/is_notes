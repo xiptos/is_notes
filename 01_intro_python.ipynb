{
 "cells": [
  {
   "cell_type": "markdown",
   "id": "1c4acfed",
   "metadata": {
    "lang": "pt"
   },
   "source": [
    "# Introdução à programação Python"
   ]
  },
  {
   "cell_type": "markdown",
   "id": "7bb222d2",
   "metadata": {},
   "source": [
    "## Ficheiros Python"
   ]
  },
  {
   "cell_type": "markdown",
   "id": "8aabdc4e",
   "metadata": {
    "lang": "en"
   },
   "source": [
    "* O código Python geralmente é armazenado em arquivos de texto com o arquivo terminando em \"`.py`\":\n",
    "```\n",
    "myprogram.py\n",
    "```\n",
    "\n",
    "* Cada linha em um arquivo de programa Python é considerada uma instrução Python, ou parte dela.\n",
    "\n",
    "* A única exceção são as linhas de comentários, que começam com o caractere `#` (opcionalmente precedido por um número arbitrário de caracteres de espaço em branco, ou seja, tabulações ou espaços). As linhas de comentário são geralmente ignoradas pelo interpretador Python.\n",
    "\n",
    "* Para executar nosso programa Python a partir da linha de comando, usamos:\n",
    "\n",
    "```\n",
    "$ python myprogram.py\n",
    "```\n",
    "\n",
    "* Em sistemas UNIX é comum definir o interpretador na primeira linha do *script* (note que esta linha é um comentário, do ponto de vista do Python):\n",
    "```\n",
    "#!/usr/bin/env python\n",
    "```\n",
    "\n",
    "Se o fizermos e se tornarmos o programa executável, basta invocá-lo assim:\n",
    "```\n",
    "$ myprogram.py\n",
    "```"
   ]
  },
  {
   "cell_type": "markdown",
   "id": "bef7187d",
   "metadata": {
    "lang": "pt"
   },
   "source": [
    "## Módulos"
   ]
  },
  {
   "cell_type": "markdown",
   "id": "10314f2f",
   "metadata": {
    "lang": "pt"
   },
   "source": [
    "A maior parte da funcionalidade em Python é fornecida por *módulos*. A Python Standard Library é uma grande coleção de módulos que fornece implementações de *plataforma cruzada* de recursos comuns, como acesso ao sistema operacional, E/S de arquivo, gerenciamento de string, comunicação de rede e muito mais."
   ]
  },
  {
   "cell_type": "markdown",
   "id": "18c202fb",
   "metadata": {
    "lang": "pt"
   },
   "source": [
    "### Referências"
   ]
  },
  {
   "cell_type": "markdown",
   "id": "dc1f86cb",
   "metadata": {
    "lang": "pt"
   },
   "source": [
    "* A referência da linguagem Python: http://docs.python.org/2/reference/index.html\n",
    "* Biblioteca padrão do Python: http://docs.python.org/2/library/\n",
    "\n",
    "Para usar um módulo em um programa Python, primeiro ele precisa ser importado. Um módulo pode ser importado usando a instrução `import`. Por exemplo, para importar o módulo `math`, que contém muitas funções matemáticas padrão, podemos fazer:"
   ]
  },
  {
   "cell_type": "code",
   "execution_count": null,
   "id": "98d3eb23",
   "metadata": {},
   "outputs": [],
   "source": [
    "import math"
   ]
  },
  {
   "cell_type": "markdown",
   "id": "2c13638c",
   "metadata": {
    "lang": "pt"
   },
   "source": [
    "Isso inclui todo o módulo e o torna disponível para uso posterior no programa. Por exemplo, podemos fazer:"
   ]
  },
  {
   "cell_type": "code",
   "execution_count": null,
   "id": "11da46c5",
   "metadata": {},
   "outputs": [],
   "source": [
    "import math\n",
    "\n",
    "x = math.cos(2 * math.pi)\n",
    "\n",
    "print(x)"
   ]
  },
  {
   "cell_type": "markdown",
   "id": "98a4365e",
   "metadata": {
    "lang": "pt"
   },
   "source": [
    "Alternativamente, podemos escolher importar todos os símbolos (funções e variáveis) em um módulo para o namespace atual (para que não precisemos usar o prefixo `math` cada vez que usarmos algo do módulo `math` :"
   ]
  },
  {
   "cell_type": "code",
   "execution_count": null,
   "id": "67017638",
   "metadata": {},
   "outputs": [],
   "source": [
    "from math import cos, pi\n",
    "\n",
    "x = cos(2 * pi)\n",
    "\n",
    "print(x)"
   ]
  },
  {
   "cell_type": "markdown",
   "id": "24a0f4a5",
   "metadata": {
    "lang": "pt"
   },
   "source": [
    "### Observando o que um módulo contém e sua documentação"
   ]
  },
  {
   "cell_type": "markdown",
   "id": "b90df6b8",
   "metadata": {
    "lang": "pt"
   },
   "source": [
    "Depois que um módulo é importado, podemos listar os símbolos que ele fornece usando a função `dir`:"
   ]
  },
  {
   "cell_type": "code",
   "execution_count": null,
   "id": "e2a3c68b",
   "metadata": {},
   "outputs": [],
   "source": [
    "import math\n",
    "\n",
    "print(dir(math))"
   ]
  },
  {
   "cell_type": "markdown",
   "id": "37f2d923",
   "metadata": {
    "lang": "pt"
   },
   "source": [
    "E usando a função `help` podemos obter uma descrição de cada função (nem todas as funções têm docstrings, como são tecnicamente chamadas, mas a grande maioria das funções são documentadas desta forma)."
   ]
  },
  {
   "cell_type": "code",
   "execution_count": null,
   "id": "69c1a79e",
   "metadata": {},
   "outputs": [],
   "source": [
    "help(math.log)"
   ]
  },
  {
   "cell_type": "code",
   "execution_count": null,
   "id": "5df63bf1",
   "metadata": {},
   "outputs": [],
   "source": [
    "log(10)"
   ]
  },
  {
   "cell_type": "code",
   "execution_count": null,
   "id": "e3e0cd01",
   "metadata": {},
   "outputs": [],
   "source": [
    "log(10, 2)"
   ]
  },
  {
   "cell_type": "markdown",
   "id": "08227e6f",
   "metadata": {
    "lang": "pt"
   },
   "source": [
    "Também podemos usar a função `help` diretamente nos módulos: Experimente\n",
    "\n",
    "    help(math)\n",
    "\n",
    "Alguns módulos muito úteis da biblioteca padrão do Python são `os`,` sys`, `math`,` shutil`, `re`,` subprocess`, `multiprocessing`,` threading`.\n",
    "\n",
    "Uma lista completa de módulos padrão para Python 2 e Python 3 está disponível em http://docs.python.org/2/library/ e http://docs.python.org/3/library/, respectivamente."
   ]
  },
  {
   "cell_type": "markdown",
   "id": "6d7899d6",
   "metadata": {
    "lang": "pt"
   },
   "source": [
    "## Variáveis ​​e tipos"
   ]
  },
  {
   "cell_type": "markdown",
   "id": "18f06209",
   "metadata": {
    "lang": "pt"
   },
   "source": [
    "### Nomes de símbolos"
   ]
  },
  {
   "cell_type": "markdown",
   "id": "7db90a87",
   "metadata": {
    "lang": "pt"
   },
   "source": [
    "Nomes de variáveis em Python podem conter caracteres alfanuméricos `a-z`,` A-Z`, `0-9` e alguns caracteres especiais como` _`. Os nomes de variáveis devem começar com uma letra.\n",
    "\n",
    "Por convenção, os nomes das variáveis começam com uma letra minúscula e os nomes das classes começam com uma letra maiúscula.\n",
    "\n",
    "Além disso, há várias palavras-chave Python que não podem ser usadas como nomes de variáveis. Essas palavras-chave são:\n",
    "\n",
    "    and, except, lambda, with, as, finally, nonlocal, while, assert, false, None, yield, break, for, not\n",
    "    class, from, or, continue, global, pass, def, if, raise, del, import, return, elif, in, True, else, is, try\n",
    "\n",
    "Nota: Esteja ciente da palavra-chave `lambda`, que poderia facilmente ser um nome de variável natural em um programa científico. Mas sendo uma palavra-chave, não pode ser usada como um nome de variável."
   ]
  },
  {
   "cell_type": "markdown",
   "id": "04ad837a",
   "metadata": {
    "lang": "pt"
   },
   "source": [
    "### Atribuição"
   ]
  },
  {
   "cell_type": "markdown",
   "id": "99841b3f",
   "metadata": {
    "lang": "pt"
   },
   "source": [
    "O operador de atribuição em Python é `=`. Python é uma linguagem com tipagem dinâmica, portanto, não precisamos especificar o tipo de uma variável ao criar uma.\n",
    "\n",
    "Atribuir um valor a uma nova variável cria a variável:"
   ]
  },
  {
   "cell_type": "code",
   "execution_count": null,
   "id": "dc66b914",
   "metadata": {},
   "outputs": [],
   "source": [
    "# variable assignments\n",
    "x = 1.0\n",
    "my_variable = 12.2"
   ]
  },
  {
   "cell_type": "markdown",
   "id": "46473696",
   "metadata": {
    "lang": "pt"
   },
   "source": [
    "Embora não seja explicitamente especificada, uma variável tem um tipo associado a ela. O tipo é derivado do valor que lhe foi atribuída."
   ]
  },
  {
   "cell_type": "code",
   "execution_count": null,
   "id": "6b30f986",
   "metadata": {},
   "outputs": [],
   "source": [
    "type(x)"
   ]
  },
  {
   "cell_type": "markdown",
   "id": "8ad9cf08",
   "metadata": {
    "lang": "pt"
   },
   "source": [
    "Se atribuirmos um novo valor a uma variável, seu tipo pode mudar."
   ]
  },
  {
   "cell_type": "code",
   "execution_count": null,
   "id": "bf84fab6",
   "metadata": {},
   "outputs": [],
   "source": [
    "x = 1"
   ]
  },
  {
   "cell_type": "code",
   "execution_count": null,
   "id": "dd3ada23",
   "metadata": {},
   "outputs": [],
   "source": [
    "type(x)"
   ]
  },
  {
   "cell_type": "markdown",
   "id": "12362f1a",
   "metadata": {
    "lang": "pt"
   },
   "source": [
    "Se tentarmos usar uma variável que ainda não foi definida, obteremos um `NameError`:"
   ]
  },
  {
   "cell_type": "code",
   "execution_count": null,
   "id": "cbf5dddf",
   "metadata": {},
   "outputs": [],
   "source": [
    "print(y)"
   ]
  },
  {
   "cell_type": "markdown",
   "id": "f43e2b6a",
   "metadata": {
    "lang": "pt"
   },
   "source": [
    "### Tipos fundamentais"
   ]
  },
  {
   "cell_type": "code",
   "execution_count": null,
   "id": "98427363",
   "metadata": {},
   "outputs": [],
   "source": [
    "# integers\n",
    "x = 1\n",
    "type(x)"
   ]
  },
  {
   "cell_type": "markdown",
   "id": "b1b7d53f",
   "metadata": {
    "lang": "pt"
   },
   "source": [
    "**NOTA:** Num arquivo python normal, seria necessário fazer `print(type(x))` para imprimir. Num IPython notebook pode-se dispensar o comando de impressão **SE** for a última instrução dessa célula"
   ]
  },
  {
   "cell_type": "code",
   "execution_count": null,
   "id": "f143006e",
   "metadata": {},
   "outputs": [],
   "source": [
    "# float\n",
    "x = 1.0\n",
    "type(x)"
   ]
  },
  {
   "cell_type": "code",
   "execution_count": null,
   "id": "a19fb3f4",
   "metadata": {},
   "outputs": [],
   "source": [
    "# boolean\n",
    "b1 = True\n",
    "b2 = False\n",
    "\n",
    "type(b1)"
   ]
  },
  {
   "cell_type": "code",
   "execution_count": null,
   "id": "f4fdf4ab",
   "metadata": {},
   "outputs": [],
   "source": [
    "# complex numbers: note the use of `j` to specify the imaginary part\n",
    "x = 1.0 - 1.0j\n",
    "type(x)"
   ]
  },
  {
   "cell_type": "code",
   "execution_count": null,
   "id": "b9c0678b",
   "metadata": {},
   "outputs": [],
   "source": [
    "print(x)"
   ]
  },
  {
   "cell_type": "code",
   "execution_count": null,
   "id": "3670db7a",
   "metadata": {},
   "outputs": [],
   "source": [
    "print(x.real, x.imag)"
   ]
  },
  {
   "cell_type": "markdown",
   "id": "399a6494",
   "metadata": {
    "lang": "pt"
   },
   "source": [
    "O módulo `types` contém várias definições de nome de tipo que podem ser usadas para testar se as variáveis ​​são de certos tipos:"
   ]
  },
  {
   "cell_type": "code",
   "execution_count": null,
   "id": "42e3121f",
   "metadata": {},
   "outputs": [],
   "source": [
    "import types\n",
    "\n",
    "# print all types defined in the `types` module\n",
    "print(dir(types))"
   ]
  },
  {
   "cell_type": "code",
   "execution_count": null,
   "id": "813c9218",
   "metadata": {},
   "outputs": [],
   "source": [
    "x = 1.0\n",
    "\n",
    "# check if the variable x is a float\n",
    "type(x) is float"
   ]
  },
  {
   "cell_type": "code",
   "execution_count": null,
   "id": "b7f34ad2",
   "metadata": {},
   "outputs": [],
   "source": [
    "# check if the variable x is an int\n",
    "type(x) is int"
   ]
  },
  {
   "cell_type": "markdown",
   "id": "f8f2cdd1",
   "metadata": {
    "lang": "pt"
   },
   "source": [
    "Também podemos usar o método `isinstance` para testar tipos de variáveis:"
   ]
  },
  {
   "cell_type": "code",
   "execution_count": null,
   "id": "dbbfc838",
   "metadata": {},
   "outputs": [],
   "source": [
    "isinstance(x, float)"
   ]
  },
  {
   "cell_type": "markdown",
   "id": "fe9e0a8d",
   "metadata": {
    "lang": "pt"
   },
   "source": [
    "### \"Conversão\" (*casting*) de tipos"
   ]
  },
  {
   "cell_type": "code",
   "execution_count": null,
   "id": "d87b6c32",
   "metadata": {},
   "outputs": [],
   "source": [
    "x = 1.5\n",
    "\n",
    "print(x, type(x))"
   ]
  },
  {
   "cell_type": "code",
   "execution_count": null,
   "id": "ab86833f",
   "metadata": {},
   "outputs": [],
   "source": [
    "x = int(x)\n",
    "\n",
    "print(x, type(x))"
   ]
  },
  {
   "cell_type": "code",
   "execution_count": null,
   "id": "6dbd04be",
   "metadata": {},
   "outputs": [],
   "source": [
    "z = complex(x)\n",
    "\n",
    "print(z, type(z))"
   ]
  },
  {
   "cell_type": "code",
   "execution_count": null,
   "id": "a1441621",
   "metadata": {},
   "outputs": [],
   "source": [
    "x = float(z)"
   ]
  },
  {
   "cell_type": "markdown",
   "id": "1b8190d9",
   "metadata": {
    "lang": "pt"
   },
   "source": [
    "Variáveis ​​complexas não podem ser convertidas em vírgula flutuante ou números inteiros. É necessário usar `z.real` ou` z.imag` para extrair a parte do número complexo que queremos:"
   ]
  },
  {
   "cell_type": "code",
   "execution_count": null,
   "id": "e94ba9be",
   "metadata": {},
   "outputs": [],
   "source": [
    "y = bool(z.real)\n",
    "\n",
    "print(z.real, \" -> \", y, type(y))\n",
    "\n",
    "y = bool(z.imag)\n",
    "\n",
    "print(z.imag, \" -> \", y, type(y))"
   ]
  },
  {
   "cell_type": "markdown",
   "id": "bc3cf0ae",
   "metadata": {
    "lang": "pt"
   },
   "source": [
    "## Operadores e comparações"
   ]
  },
  {
   "cell_type": "markdown",
   "id": "54db7db4",
   "metadata": {
    "lang": "pt"
   },
   "source": [
    "A maioria dos operadores e comparações em Python funcionam como esperado:\n",
    "\n",
    "* Operadores aritméticos `+`, `-`,`* `,` / `,` // `(divisão inteira), '**' potência"
   ]
  },
  {
   "cell_type": "code",
   "execution_count": null,
   "id": "1549ae0b",
   "metadata": {},
   "outputs": [],
   "source": [
    "1 + 2, 1 - 2, 1 * 2, 1 / 2"
   ]
  },
  {
   "cell_type": "code",
   "execution_count": null,
   "id": "579773c9",
   "metadata": {},
   "outputs": [],
   "source": [
    "1.0 + 2.0, 1.0 - 2.0, 1.0 * 2.0, 1.0 / 2.0"
   ]
  },
  {
   "cell_type": "code",
   "execution_count": null,
   "id": "733980fa",
   "metadata": {},
   "outputs": [],
   "source": [
    "# Integer division of float numbers\n",
    "3.0 // 2.0"
   ]
  },
  {
   "cell_type": "code",
   "execution_count": null,
   "id": "93082470",
   "metadata": {},
   "outputs": [],
   "source": [
    "# Note! The power operators in python isn't ^, but **\n",
    "2 ** 2"
   ]
  },
  {
   "cell_type": "markdown",
   "id": "fa35301c",
   "metadata": {
    "lang": "pt"
   },
   "source": [
    "Nota: O operador `/` executa uma divisão de vírgula flutuante no Python 3.x.\n",
    "Isso não é verdade no Python 2.x, onde o resultado de `/` é sempre um inteiro se os operandos forem inteiros.\n",
    "para ser mais específico, `1/2 = 0,5` (`float`) no Python 3.x, e `1/2 = 0` (`int`) no Python 2.x (mas `1.0/2 = 0,5` em Python 2.x)."
   ]
  },
  {
   "cell_type": "markdown",
   "id": "c3cd928e",
   "metadata": {
    "lang": "pt"
   },
   "source": [
    "* Os operadores booleanos são escritos como as palavras `and`,`not`, `or`."
   ]
  },
  {
   "cell_type": "code",
   "execution_count": null,
   "id": "47ac6660",
   "metadata": {},
   "outputs": [],
   "source": [
    "True and False"
   ]
  },
  {
   "cell_type": "code",
   "execution_count": null,
   "id": "78bc84e1",
   "metadata": {},
   "outputs": [],
   "source": [
    "not False"
   ]
  },
  {
   "cell_type": "code",
   "execution_count": null,
   "id": "3e74116e",
   "metadata": {},
   "outputs": [],
   "source": [
    "True or False"
   ]
  },
  {
   "cell_type": "markdown",
   "id": "490d02b3",
   "metadata": {
    "lang": "pt"
   },
   "source": [
    "* Operadores de comparação `>`, `<`, `> =` (maior ou igual), `<=` (menor ou igual), `==` igualdade, `is` idêntico."
   ]
  },
  {
   "cell_type": "code",
   "execution_count": null,
   "id": "d769adb4",
   "metadata": {},
   "outputs": [],
   "source": [
    "2 > 1, 2 < 1"
   ]
  },
  {
   "cell_type": "code",
   "execution_count": null,
   "id": "e08affa6",
   "metadata": {},
   "outputs": [],
   "source": [
    "2 > 2, 2 < 2"
   ]
  },
  {
   "cell_type": "code",
   "execution_count": null,
   "id": "e89fc1eb",
   "metadata": {},
   "outputs": [],
   "source": [
    "2 >= 2, 2 <= 2"
   ]
  },
  {
   "cell_type": "code",
   "execution_count": null,
   "id": "b1bd5be7",
   "metadata": {},
   "outputs": [],
   "source": [
    "# equality\n",
    "[1,2] == [1,2]"
   ]
  },
  {
   "cell_type": "code",
   "execution_count": null,
   "id": "7dd361ab",
   "metadata": {},
   "outputs": [],
   "source": [
    "# objects identical?\n",
    "l1 = l2 = [1,2]\n",
    "\n",
    "l1 is l2"
   ]
  },
  {
   "cell_type": "markdown",
   "id": "0bb02157",
   "metadata": {
    "lang": "pt"
   },
   "source": [
    "## Funções"
   ]
  },
  {
   "cell_type": "markdown",
   "id": "7d8400a3",
   "metadata": {
    "lang": "pt"
   },
   "source": [
    "Uma função em Python é definida usando a palavra-chave `def`, seguida por um nome de função, uma assinatura entre parênteses` () `e dois pontos`: `. O código a seguir, com um nível adicional de recuo, é o corpo da função."
   ]
  },
  {
   "cell_type": "code",
   "execution_count": null,
   "id": "eb34428d",
   "metadata": {},
   "outputs": [],
   "source": [
    "def func0():   \n",
    "    print(\"test\")"
   ]
  },
  {
   "cell_type": "code",
   "execution_count": null,
   "id": "98423fb5",
   "metadata": {},
   "outputs": [],
   "source": [
    "func0()"
   ]
  },
  {
   "cell_type": "markdown",
   "id": "bd455249",
   "metadata": {
    "lang": "pt"
   },
   "source": [
    "Opcionalmente, mas altamente recomendado, podemos definir uma chamada \"docstring\", que é uma descrição do propósito e comportamento das funções. A docstring deve seguir diretamente após a definição da função, antes do código no corpo da função."
   ]
  },
  {
   "cell_type": "code",
   "execution_count": null,
   "id": "d10b4f76",
   "metadata": {},
   "outputs": [],
   "source": [
    "def func1(s):\n",
    "    \"\"\"\n",
    "    Print a string 's' and tell how many characters it has    \n",
    "    \"\"\"\n",
    "    \n",
    "    print(s + \" has \" + str(len(s)) + \" characters\")"
   ]
  },
  {
   "cell_type": "code",
   "execution_count": null,
   "id": "8f3ede2b",
   "metadata": {},
   "outputs": [],
   "source": [
    "help(func1)"
   ]
  },
  {
   "cell_type": "code",
   "execution_count": null,
   "id": "1ec9c76e",
   "metadata": {},
   "outputs": [],
   "source": [
    "func1(\"test\")"
   ]
  },
  {
   "cell_type": "markdown",
   "id": "d6502868",
   "metadata": {
    "lang": "pt"
   },
   "source": [
    "Funções que retornam um valor usam a palavra-chave `return`:"
   ]
  },
  {
   "cell_type": "code",
   "execution_count": null,
   "id": "f1651687",
   "metadata": {},
   "outputs": [],
   "source": [
    "def square(x):\n",
    "    \"\"\"\n",
    "    Return the square of x.\n",
    "    \"\"\"\n",
    "    return x ** 2"
   ]
  },
  {
   "cell_type": "code",
   "execution_count": null,
   "id": "fe666bd1",
   "metadata": {},
   "outputs": [],
   "source": [
    "square(4)"
   ]
  },
  {
   "cell_type": "markdown",
   "id": "35ff3d1e",
   "metadata": {
    "lang": "pt"
   },
   "source": [
    "Podemos retornar vários valores de uma função usando tuplos (veja acima):"
   ]
  },
  {
   "cell_type": "code",
   "execution_count": null,
   "id": "ded445ef",
   "metadata": {},
   "outputs": [],
   "source": [
    "def powers(x):\n",
    "    \"\"\"\n",
    "    Return a few powers of x.\n",
    "    \"\"\"\n",
    "    return x ** 2, x ** 3, x ** 4"
   ]
  },
  {
   "cell_type": "code",
   "execution_count": null,
   "id": "5e2afe73",
   "metadata": {},
   "outputs": [],
   "source": [
    "powers(3)"
   ]
  },
  {
   "cell_type": "code",
   "execution_count": null,
   "id": "c3078cd8",
   "metadata": {},
   "outputs": [],
   "source": [
    "x2, x3, x4 = powers(3)\n",
    "\n",
    "print(x3)"
   ]
  },
  {
   "cell_type": "markdown",
   "id": "6aa46500",
   "metadata": {
    "lang": "pt"
   },
   "source": [
    "### Argumento padrão e argumentos de palavra-chave"
   ]
  },
  {
   "cell_type": "markdown",
   "id": "08fb81f9",
   "metadata": {
    "lang": "pt"
   },
   "source": [
    "Em uma definição de função, podemos fornecer valores padrão para os argumentos que a função usa:"
   ]
  },
  {
   "cell_type": "code",
   "execution_count": null,
   "id": "ab6ad29d",
   "metadata": {},
   "outputs": [],
   "source": [
    "def myfunc(x, p=2, debug=False):\n",
    "    if debug:\n",
    "        print(\"evaluating myfunc for x = \" + str(x) + \" using exponent p = \" + str(p))\n",
    "    return x**p"
   ]
  },
  {
   "cell_type": "markdown",
   "id": "c2d5036d",
   "metadata": {
    "lang": "pt"
   },
   "source": [
    "Se não fornecermos um valor do argumento `debug` ao chamar a função` myfunc`, o padrão será o valor fornecido na definição da função:"
   ]
  },
  {
   "cell_type": "code",
   "execution_count": null,
   "id": "cc828f0c",
   "metadata": {},
   "outputs": [],
   "source": [
    "myfunc(5)"
   ]
  },
  {
   "cell_type": "code",
   "execution_count": null,
   "id": "9e7e4047",
   "metadata": {},
   "outputs": [],
   "source": [
    "myfunc(5, debug=True)"
   ]
  },
  {
   "cell_type": "markdown",
   "id": "c3316f24",
   "metadata": {
    "lang": "pt"
   },
   "source": [
    "Se listarmos explicitamente o nome dos argumentos nas chamadas de função, eles não precisam vir na mesma ordem que na definição da função. Isso é chamado de argumentos de *palavra-chave* e geralmente é muito útil em funções que aceitam muitos argumentos opcionais."
   ]
  },
  {
   "cell_type": "code",
   "execution_count": null,
   "id": "653b87c2",
   "metadata": {},
   "outputs": [],
   "source": [
    "myfunc(p=3, debug=True, x=7)"
   ]
  },
  {
   "cell_type": "markdown",
   "id": "60476a4c",
   "metadata": {
    "lang": "pt"
   },
   "source": [
    "### Funções sem nome (função lambda)"
   ]
  },
  {
   "cell_type": "markdown",
   "id": "c9cdb1a1",
   "metadata": {
    "lang": "pt"
   },
   "source": [
    "Em Python, também podemos criar funções sem nome, usando a palavra-chave `lambda`:"
   ]
  },
  {
   "cell_type": "code",
   "execution_count": null,
   "id": "7a8024c6",
   "metadata": {},
   "outputs": [],
   "source": [
    "f1 = lambda x: x**2\n",
    "    \n",
    "# is equivalent to \n",
    "\n",
    "def f2(x):\n",
    "    return x**2"
   ]
  },
  {
   "cell_type": "code",
   "execution_count": null,
   "id": "3cd52faa",
   "metadata": {},
   "outputs": [],
   "source": [
    "f1(2), f2(2)"
   ]
  },
  {
   "cell_type": "markdown",
   "id": "9552bd4a",
   "metadata": {
    "lang": "pt"
   },
   "source": [
    "Essa técnica é útil, por exemplo, quando queremos passar uma função simples como um argumento para outra função, como este:"
   ]
  },
  {
   "cell_type": "code",
   "execution_count": null,
   "id": "4b6e2c36",
   "metadata": {},
   "outputs": [],
   "source": [
    "# map is a built-in python function\n",
    "map(lambda x: x**2, range(-3,4))"
   ]
  },
  {
   "cell_type": "code",
   "execution_count": null,
   "id": "39ea6a6c",
   "metadata": {},
   "outputs": [],
   "source": [
    "# in python 3 we can use `list(...)` to convert the iterator to an explicit list\n",
    "list(map(lambda x: x**2, range(-3,4)))"
   ]
  },
  {
   "cell_type": "code",
   "execution_count": null,
   "id": "91e390eb",
   "metadata": {},
   "outputs": [],
   "source": []
  }
 ],
 "metadata": {
  "kernelspec": {
   "display_name": "Python 3 (ipykernel)",
   "language": "python",
   "name": "python3"
  },
  "language_info": {
   "codemirror_mode": {
    "name": "ipython",
    "version": 3
   },
   "file_extension": ".py",
   "mimetype": "text/x-python",
   "name": "python",
   "nbconvert_exporter": "python",
   "pygments_lexer": "ipython3",
   "version": "3.9.6"
  },
  "nbTranslate": {
   "displayLangs": [
    "*"
   ],
   "hotkey": "alt-t",
   "langInMainMenu": true,
   "sourceLang": "en",
   "targetLang": "fr",
   "useGoogleTranslate": true
  }
 },
 "nbformat": 4,
 "nbformat_minor": 5
}
