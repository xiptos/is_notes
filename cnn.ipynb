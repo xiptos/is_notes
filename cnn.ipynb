{
 "cells": [
  {
   "cell_type": "markdown",
   "id": "23d8ec16-08ce-4705-8b33-8c0102c94927",
   "metadata": {},
   "source": [
    "# Convolutional Neural Networks"
   ]
  },
  {
   "cell_type": "markdown",
   "id": "27a1b727-11b0-4bce-9a3e-c02bf8527acd",
   "metadata": {},
   "source": [
    "Convolutional neural networks are very important in several areas, such as image processing. Their characteristics allow building networks with many layers (deep networks), maintaining a \"reduced\" number of parameters."
   ]
  },
  {
   "cell_type": "markdown",
   "id": "53442815-2db9-47e3-bd90-bbb701accd21",
   "metadata": {},
   "source": [
    "## Types of layers"
   ]
  },
  {
   "cell_type": "markdown",
   "id": "3b45660d-ef5b-4295-a129-140705fb7f54",
   "metadata": {},
   "source": [
    "There are three main types of layers: convolutional, pooling and fully connected. We'll look into an example, to assess the differences in terms of input and output dimensions."
   ]
  },
  {
   "cell_type": "markdown",
   "id": "9dc41c68-527e-4f7f-be6e-1e78b93a9637",
   "metadata": {},
   "source": [
    "Importing libraries:"
   ]
  },
  {
   "cell_type": "code",
   "execution_count": null,
   "id": "ceb34b1c-4442-4571-8551-5c416924c46c",
   "metadata": {},
   "outputs": [],
   "source": [
    "#importing Libraries\n",
    "import seaborn as sns\n",
    "import numpy as np\n",
    "import pandas as pd\n",
    "\n",
    "import torch\n",
    "import torch.nn as nn\n",
    "import torch.nn.functional as F\n",
    "\n",
    "from sklearn.model_selection import train_test_split\n",
    "from sklearn.metrics import accuracy_score\n",
    "from sklearn.metrics import confusion_matrix\n",
    "import matplotlib.pyplot as plt"
   ]
  },
  {
   "cell_type": "markdown",
   "id": "fab7541d-b95e-4578-9c65-602f1daf6d8f",
   "metadata": {},
   "source": [
    "Defining a single example."
   ]
  },
  {
   "cell_type": "code",
   "execution_count": null,
   "id": "8d5daff2-2b0b-4321-a75e-2da8c6c875ae",
   "metadata": {},
   "outputs": [],
   "source": [
    "from sklearn.datasets import make_classification\n",
    "from sklearn.datasets import make_blobs\n",
    "from sklearn.datasets import make_gaussian_quantiles\n",
    "\n",
    "X1, Y1 = make_classification(n_samples=1,\n",
    "    n_features=39*39*3, n_redundant=0, n_informative=1, n_clusters_per_class=1\n",
    ")\n",
    "X1=np.reshape(X1,(1,3,39,39))\n",
    "print(X1.shape)\n",
    "print(Y1.shape)"
   ]
  },
  {
   "cell_type": "markdown",
   "id": "53673d26-9861-4d1f-a54e-8c7c5aaa72b8",
   "metadata": {},
   "source": [
    "And converting into tensors."
   ]
  },
  {
   "cell_type": "code",
   "execution_count": null,
   "id": "100d2333-a2f3-44e1-9ed2-35ea560fd982",
   "metadata": {},
   "outputs": [],
   "source": [
    "# Creating Tensors\n",
    "X_train=torch.FloatTensor(X1)\n",
    "y_train=torch.LongTensor(Y1)\n",
    "print(X_train.shape)\n",
    "print(y_train.shape)"
   ]
  },
  {
   "cell_type": "markdown",
   "id": "6f11ffdd-b0e7-4844-a860-efec4e32fe16",
   "metadata": {},
   "source": [
    "## Building the model\n",
    "\n",
    "Here we'll build the model. We will not train the model... just checking the operations."
   ]
  },
  {
   "cell_type": "code",
   "execution_count": null,
   "id": "5e114a30-320c-490a-8740-751faf1757a6",
   "metadata": {},
   "outputs": [],
   "source": [
    "#Creating the Model\n",
    "class ANN_model(nn.Module):\n",
    "    def __init__(self):\n",
    "        super().__init__()\n",
    "        self.cnn1 = nn.Conv2d(in_channels=3, out_channels=10, kernel_size=2, stride=1, padding=0)\n",
    "        self.cnn2 = nn.Conv2d(in_channels=10, out_channels=20, kernel_size=5, stride=2, padding=0)\n",
    "        self.cnn3 = nn.Conv2d(in_channels=20, out_channels=40, kernel_size=5, stride=2, padding=0)\n",
    "        self.fc1 = nn.Linear(40*7*7,10)\n",
    "        \n",
    "    def forward(self,x):\n",
    "        # Convolution 1\n",
    "        print(x.shape)\n",
    "        out = self.cnn1(x)\n",
    "        print(out.shape)\n",
    "\n",
    "        # Convolution 2\n",
    "        out = self.cnn2(out)\n",
    "        print(out.shape)\n",
    "\n",
    "\n",
    "        # Convolution 3\n",
    "        out = self.cnn3(out)\n",
    "        print(out.shape)\n",
    "\n",
    "        out = out.view(out.size(0), -1) # the size -1 is inferred from other dimensions\n",
    "        # Linear function (readout)\n",
    "        print(out.shape)\n",
    "\n",
    "        out = self.fc1(out)\n",
    "        print(out.shape)\n",
    "        \n",
    "        return out"
   ]
  },
  {
   "cell_type": "code",
   "execution_count": null,
   "id": "bcc7367c-452e-4a43-bc52-41359c0c42c7",
   "metadata": {},
   "outputs": [],
   "source": [
    "torch.manual_seed(20)\n",
    "model = ANN_model()"
   ]
  },
  {
   "cell_type": "code",
   "execution_count": null,
   "id": "9e9bdcca-903b-4178-a45f-fbfefe50a68d",
   "metadata": {},
   "outputs": [],
   "source": [
    "model.parameters"
   ]
  },
  {
   "cell_type": "code",
   "execution_count": null,
   "id": "caa7c6e8-9b78-4f88-ad27-3d941ed9f67b",
   "metadata": {},
   "outputs": [],
   "source": [
    "y_pred=model.forward(X_train)\n",
    "loss=loss_function(y_pred,y_train)\n",
    "optimizer.zero_grad()\n",
    "loss.backward()\n",
    "optimizer.step()"
   ]
  }
 ],
 "metadata": {
  "kernelspec": {
   "display_name": "Python 3 (ipykernel)",
   "language": "python",
   "name": "python3"
  },
  "language_info": {
   "codemirror_mode": {
    "name": "ipython",
    "version": 3
   },
   "file_extension": ".py",
   "mimetype": "text/x-python",
   "name": "python",
   "nbconvert_exporter": "python",
   "pygments_lexer": "ipython3",
   "version": "3.10.5"
  }
 },
 "nbformat": 4,
 "nbformat_minor": 5
}
