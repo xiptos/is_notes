{
 "cells": [
  {
   "cell_type": "markdown",
   "id": "ae2d1db2-5877-4902-95cb-c70240edab78",
   "metadata": {},
   "source": [
    "# Generative Adversarial Networks (GAN)"
   ]
  },
  {
   "cell_type": "markdown",
   "id": "5143fb0e-6409-4705-8a7a-3716cee44248",
   "metadata": {},
   "source": [
    "Are based on a strategy where two different deep networks are pitted against one another, with the goal of getting **one network to create new samples** that are not from the training data, but are so much like the training data that the other **network can’t tell the difference**.\n",
    "\n",
    "In this example, let's train a generator to produce gaussian distribution values based on random noise."
   ]
  },
  {
   "cell_type": "markdown",
   "id": "f069a865-4db9-47c9-aad9-a10e6ff909b6",
   "metadata": {},
   "source": [
    "## Import libraries"
   ]
  },
  {
   "cell_type": "code",
   "execution_count": null,
   "id": "c6116793-93b3-414c-95c3-cdeb99034fe7",
   "metadata": {},
   "outputs": [],
   "source": [
    "#importing Libraries\n",
    "import seaborn as sns\n",
    "import numpy as np\n",
    "import pandas as pd\n",
    "\n",
    "import torch\n",
    "import torch.nn as nn\n",
    "import torch.nn.functional as F\n",
    "\n",
    "from sklearn.model_selection import train_test_split\n",
    "from sklearn.metrics import accuracy_score\n",
    "from sklearn.metrics import confusion_matrix\n",
    "import matplotlib.pyplot as plt"
   ]
  },
  {
   "cell_type": "markdown",
   "id": "7ac8af7e-273e-4abd-bbf4-e3e9ad55a532",
   "metadata": {},
   "source": [
    "## Understanding data"
   ]
  },
  {
   "cell_type": "code",
   "execution_count": null,
   "id": "124da025-8018-4a56-89b8-5d2f21895b13",
   "metadata": {},
   "outputs": [],
   "source": [
    "from sklearn.datasets import make_classification\n",
    "from sklearn.datasets import make_blobs\n",
    "from sklearn.datasets import make_gaussian_quantiles\n",
    "from scipy.stats import norm\n",
    "from scipy.stats import multivariate_normal\n",
    "\n",
    "X1, Y1 = make_blobs(n_samples=500, centers=[(5,5)], n_features=3, random_state=0)\n",
    "\n",
    "fig=plt.figure(figsize=(18, 8))\n",
    "\n",
    "#Parameters to set\n",
    "mu_x = 5\n",
    "variance_x = 0.5\n",
    "\n",
    "mu_y = 5\n",
    "variance_y = 0.5\n",
    "\n",
    "#Create grid and multivariate normal\n",
    "x = np.linspace(3,7,20)\n",
    "y = np.linspace(3,7,20)\n",
    "X, Y = np.meshgrid(x,y)\n",
    "pos = np.empty(X.shape + (2,))\n",
    "pos[:, :, 0] = X; pos[:, :, 1] = Y\n",
    "rv = multivariate_normal([mu_x, mu_y], [[variance_x, 0], [0, variance_y]])\n",
    "\n",
    "ax1 = fig.add_subplot(1, 2, 1, projection='3d')\n",
    "surf = ax1.plot_surface(X, Y, rv.pdf(pos)*3, rstride=1, cstride=1,linewidth=1, antialiased=False, cmap='viridis')\n",
    "ax2 = fig.add_subplot(1, 2, 2)\n",
    "\n",
    "ax2.scatter(X1[:, 0], X1[:, 1], marker=\"o\", c=Y1, s=25, edgecolor=\"k\")\n",
    "cc = plt.Circle(( 5 , 5 ), 1, fill=False, edgecolor='red', linewidth=2) \n",
    "ax2.set_aspect( 1 ) \n",
    "ax2.add_artist( cc ) \n",
    "\n",
    "\n",
    "plt.show()"
   ]
  },
  {
   "cell_type": "code",
   "execution_count": null,
   "id": "48d029eb-7e09-40a4-9a32-2d8f0a432618",
   "metadata": {},
   "outputs": [],
   "source": [
    "print(X1.shape)\n",
    "print(Y1.shape)"
   ]
  },
  {
   "cell_type": "code",
   "execution_count": null,
   "id": "9459b914-f9a7-495d-b693-d638dcd0bb8e",
   "metadata": {},
   "outputs": [],
   "source": [
    "def generate_norm_data(batch_size: int=16):\n",
    "    X1, Y1 = make_blobs(n_samples=batch_size, centers=[(5,5)], n_features=3)\n",
    "    return X1"
   ]
  },
  {
   "cell_type": "code",
   "execution_count": null,
   "id": "52b1dfd2-0ad9-4891-87e6-ba8cbad47787",
   "metadata": {},
   "outputs": [],
   "source": [
    "from sklearn.datasets import make_classification\n",
    "from sklearn.datasets import make_blobs\n",
    "from sklearn.datasets import make_gaussian_quantiles\n",
    "from scipy.stats import norm\n",
    "from scipy.stats import multivariate_normal\n",
    "\n",
    "X1 = generate_norm_data(1000)\n",
    "\n",
    "plt.figure(figsize=(8, 8))\n",
    "ax2 = plt.gca()\n",
    "\n",
    "plt.title(\"One informative feature, one cluster per class\", fontsize=\"small\")\n",
    "ax2.scatter(X1[:, 0], X1[:, 1], marker=\"o\", s=25, edgecolor=\"k\")\n",
    "cc = plt.Circle(( 5 , 5 ), 1, fill=False, edgecolor='red', linewidth=2) \n",
    "ax2.set_aspect( 1 ) \n",
    "ax2.add_artist( cc ) \n",
    "\n",
    "\n",
    "plt.show()"
   ]
  },
  {
   "cell_type": "code",
   "execution_count": null,
   "id": "6653ab45-4081-4b0b-9566-3f43d12f5334",
   "metadata": {},
   "outputs": [],
   "source": [
    "from torch.utils.data import Dataset\n",
    "from torch.utils.data import DataLoader\n",
    "class NormDataset(Dataset):\n",
    "    def __init__(self, n_samples=1000):\n",
    "        self.Xs, self.y = make_blobs(n_samples=n_samples, centers=[(5,5)], n_features=3)\n",
    "        \n",
    "    def __len__(self):\n",
    "        return len(self.Xs)\n",
    "\n",
    "    def __getitem__(self, idx):\n",
    "        image = self.Xs[idx].astype(np.float32)\n",
    "        label = self.y[idx]\n",
    "        return image, label"
   ]
  },
  {
   "cell_type": "markdown",
   "id": "0edc9144-be6d-417b-ab8c-d2c1c196015f",
   "metadata": {},
   "source": [
    "## The generator"
   ]
  },
  {
   "cell_type": "code",
   "execution_count": null,
   "id": "044ccc4e-fafd-4f7f-9a41-b58f8671e30b",
   "metadata": {},
   "outputs": [],
   "source": [
    "class Generator(nn.Module):\n",
    "\n",
    "    def __init__(self):\n",
    "        super().__init__()\n",
    "\n",
    "        self.g = torch.nn.Sequential(\n",
    "            torch.nn.Linear(4, 16),\n",
    "            torch.nn.BatchNorm1d(16),\n",
    "            torch.nn.LeakyReLU(),\n",
    "            torch.nn.Linear(16, 2)\n",
    "        )\n",
    "\n",
    "    def forward(self, x):\n",
    "        return self.g(x)"
   ]
  },
  {
   "cell_type": "markdown",
   "id": "6a8e19bc-2a4c-4e84-86b3-db7ef0d27093",
   "metadata": {},
   "source": [
    "## The discriminator"
   ]
  },
  {
   "cell_type": "code",
   "execution_count": null,
   "id": "076b1432-eaef-40a6-b4f1-0be1b26c92c6",
   "metadata": {},
   "outputs": [],
   "source": [
    "class Discriminator(nn.Module):\n",
    "    def __init__(self):\n",
    "        super().__init__()\n",
    "        self.d = torch.nn.Sequential(\n",
    "            torch.nn.Linear(2, 64),\n",
    "            torch.nn.LeakyReLU(),\n",
    "            torch.nn.Linear(64, 64),\n",
    "            torch.nn.LeakyReLU(),\n",
    "            torch.nn.Linear(64, 1),\n",
    "            torch.nn.Sigmoid()\n",
    "        )\n",
    "\n",
    "\n",
    "    def forward(self, x):\n",
    "        res = self.d(x)\n",
    "        return res\n"
   ]
  },
  {
   "cell_type": "markdown",
   "id": "66e2cd40-edd0-49b6-b5f8-f2b5040e97ef",
   "metadata": {},
   "source": [
    "## Training"
   ]
  },
  {
   "cell_type": "code",
   "execution_count": null,
   "id": "3003b1ca-2aef-43ac-9dc4-1b214e186f9f",
   "metadata": {},
   "outputs": [],
   "source": [
    "is_cuda = torch.cuda.is_available()\n",
    "\n",
    "# If we have a GPU available, we'll set our device to GPU. We'll use this device variable later in our code.\n",
    "if is_cuda:\n",
    "    device = torch.device(\"cuda\")\n",
    "    print(\"GPU is available\")\n",
    "else:\n",
    "    device = torch.device(\"cpu\")\n",
    "    print(\"GPU not available, CPU used\")"
   ]
  },
  {
   "cell_type": "code",
   "execution_count": null,
   "id": "92e8109b-5eff-48e3-b158-e39c677133b2",
   "metadata": {},
   "outputs": [],
   "source": [
    "epochs=1000\n",
    "batch_size=1000\n",
    "\n",
    "training_data = NormDataset(n_samples=10000)\n",
    "dataloader = DataLoader(training_data, batch_size=batch_size)\n",
    "\n",
    "G = Generator()\n",
    "D = Discriminator()\n",
    "D.to(device)\n",
    "G.to(device)\n",
    "\n",
    "# Optimizers\n",
    "G_optimizer = torch.optim.Adam(G.parameters(), lr=0.0002)\n",
    "D_optimizer = torch.optim.Adam(D.parameters(), lr=0.0002)\n",
    "\n",
    "loss=nn.BCELoss()\n",
    "\n",
    "D_losses = []\n",
    "G_losses = []\n",
    "\n",
    "test_data = []\n",
    "\n",
    "for epoch in range(epochs):\n",
    "    for idx, (true_data, _) in enumerate(dataloader):\n",
    "        # Training the discriminator\n",
    "        # Real inputs are actual examples with gaussian distribution\n",
    "        # Fake inputs are from the generator\n",
    "        # Real inputs should be classified as 1 and fake as 0\n",
    "        real_inputs = true_data.to(device)\n",
    "        real_outputs = D(real_inputs)\n",
    "        real_label = torch.ones(real_inputs.shape[0], 1).to(device)\n",
    "\n",
    "        noise = torch.tensor(np.random.normal(0, 1, (real_inputs.shape[0], 4))).float()\n",
    "        noise = noise.to(device)\n",
    "        fake_inputs = G(noise)\n",
    "        fake_outputs = D(fake_inputs)\n",
    "        fake_label = torch.zeros(fake_inputs.shape[0], 1).to(device)\n",
    "\n",
    "        outputs = torch.cat((real_outputs, fake_outputs), 0)\n",
    "        targets = torch.cat((real_label, fake_label), 0)\n",
    "\n",
    "        D_loss = loss(outputs, targets)\n",
    "        D_optimizer.zero_grad()\n",
    "        D_loss.backward()\n",
    "        D_optimizer.step()\n",
    "\n",
    "        # Training the generator\n",
    "        # For generator, goal is to make the discriminator believe everything is 1\n",
    "        noise = torch.tensor(np.random.normal(0, 1, (real_inputs.shape[0], 4))).float()\n",
    "        noise = noise.to(device)\n",
    "\n",
    "        fake_inputs = G(noise)\n",
    "        fake_outputs = D(fake_inputs)\n",
    "        fake_targets = torch.ones([fake_inputs.shape[0], 1]).to(device)\n",
    "        G_loss = loss(fake_outputs, fake_targets)\n",
    "        G_optimizer.zero_grad()\n",
    "        G_loss.backward()\n",
    "        G_optimizer.step()\n",
    "\n",
    "        G_losses.append(G_loss.item())\n",
    "        D_losses.append(D_loss.item())\n",
    "\n",
    "    if (epoch+1) % 100 == 0:\n",
    "        print('Epoch {} Iteration {}: discriminator_loss {:.3f} generator_loss {:.3f}'.format(epoch, idx, D_loss.item(), G_loss.item()))\n",
    "        test = (torch.rand(real_inputs.shape[0], 4) - 0.5) / 0.5\n",
    "        noise = torch.tensor(np.random.normal(0, 1, (real_inputs.shape[0], 4))).float()\n",
    "        test_data.append(G(noise).detach().cpu().numpy())"
   ]
  },
  {
   "cell_type": "markdown",
   "id": "a2ab7ebe-1641-49ff-a42b-607669215ad6",
   "metadata": {},
   "source": [
    "## Check training"
   ]
  },
  {
   "cell_type": "code",
   "execution_count": null,
   "id": "f134be53-f5e9-4a66-80ea-150860db767a",
   "metadata": {},
   "outputs": [],
   "source": [
    "print(len(test_data[0]))"
   ]
  },
  {
   "cell_type": "code",
   "execution_count": null,
   "id": "2874aab8-bd1a-4862-a1c2-0050a529c8f7",
   "metadata": {},
   "outputs": [],
   "source": [
    "#plot the loss function\n",
    "plt.plot(range(len(D_losses)),D_losses)\n",
    "plt.plot(range(len(G_losses)),G_losses)\n",
    "\n",
    "plt.ylabel('Loss')\n",
    "plt.ylabel('batches')"
   ]
  },
  {
   "cell_type": "markdown",
   "id": "a17afd8f-8512-452c-9404-1b8364090eb6",
   "metadata": {},
   "source": [
    "## Evolution of the GAN training"
   ]
  },
  {
   "cell_type": "code",
   "execution_count": null,
   "id": "11dfdcea-b987-4b14-a46d-9dcd2af9997b",
   "metadata": {},
   "outputs": [],
   "source": [
    "#noise = torch.randn(size=(500, 4)).cuda()\n",
    "#noise = (torch.rand(real_inputs.shape[0], 4) - 0.5) / 0.5\n",
    "#noise = torch.tensor(np.random.normal(0, 1, (500, 4))).float().cuda()\n",
    "#print(noise.shape)\n",
    "\n",
    "fig=plt.figure(figsize=(18, 30))\n",
    "\n",
    "\n",
    "#generated_data = G(noise).detach().cpu().numpy()\n",
    "for i,generated_data in enumerate(test_data):\n",
    "        plt.subplot(8, 4, i+1)\n",
    "        ax2 = plt.gca()\n",
    "\n",
    "        plt.title(\"Epoc %d\"%i, fontsize=\"small\")\n",
    "        ax2.scatter(generated_data[:, 0], generated_data[:, 1], marker=\"o\", s=25, edgecolor=\"k\")\n",
    "        cc = plt.Circle(( 5 , 5 ), 1, fill=False, edgecolor='red', linewidth=2) \n",
    "        ax2.set_aspect( 1 ) \n",
    "        ax2.add_artist( cc ) \n",
    "\n",
    "\n",
    "plt.show()"
   ]
  }
 ],
 "metadata": {
  "kernelspec": {
   "display_name": "Python 3 (ipykernel)",
   "language": "python",
   "name": "python3"
  },
  "language_info": {
   "codemirror_mode": {
    "name": "ipython",
    "version": 3
   },
   "file_extension": ".py",
   "mimetype": "text/x-python",
   "name": "python",
   "nbconvert_exporter": "python",
   "pygments_lexer": "ipython3",
   "version": "3.10.6"
  }
 },
 "nbformat": 4,
 "nbformat_minor": 5
}
