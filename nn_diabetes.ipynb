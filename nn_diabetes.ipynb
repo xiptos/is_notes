{
 "cells": [
  {
   "cell_type": "markdown",
   "metadata": {
    "papermill": {
     "duration": 0.02025,
     "end_time": "2020-12-01T17:27:39.169574",
     "exception": false,
     "start_time": "2020-12-01T17:27:39.149324",
     "status": "completed"
    },
    "tags": []
   },
   "source": [
    "# Prediction of Diabetes using ANN"
   ]
  },
  {
   "cell_type": "markdown",
   "metadata": {
    "papermill": {
     "duration": 0.024947,
     "end_time": "2020-12-01T17:27:39.218640",
     "exception": false,
     "start_time": "2020-12-01T17:27:39.193693",
     "status": "completed"
    },
    "tags": []
   },
   "source": [
    "The dataset is from the National Institute of Diabetes and Digestive and Kidney Diseases. The objective is to predict whether a patient has diabetes based on diagnostic measurements. The dataset structure is the following:\n",
    "\n",
    "    Pregnancies: Number of times pregnant\n",
    "    Glucose: Plasma glucose concentration a 2 hours in an oral glucose tolerance test\n",
    "    BloodPressure: Diastolic blood pressure (mm Hg)\n",
    "    SkinThickness: Triceps skin fold thickness (mm)\n",
    "    Insulin: 2-Hour serum insulin (mu U/ml)\n",
    "    BMI: Body mass index (weight in kg/(height in m)^2)\n",
    "    DiabetesPedigreeFunction: Diabetes pedigree function\n",
    "    Age: Age (years)\n",
    "    Outcome: Class variable (0 or 1)"
   ]
  },
  {
   "cell_type": "code",
   "execution_count": null,
   "metadata": {
    "_cell_guid": "79c7e3d0-c299-4dcb-8224-4455121ee9b0",
    "_uuid": "d629ff2d2480ee46fbb7e2d37f6b5fab8052498a",
    "execution": {
     "iopub.execute_input": "2020-12-01T17:27:39.269101Z",
     "iopub.status.busy": "2020-12-01T17:27:39.268191Z",
     "iopub.status.idle": "2020-12-01T17:27:41.811135Z",
     "shell.execute_reply": "2020-12-01T17:27:41.810488Z"
    },
    "papermill": {
     "duration": 2.570555,
     "end_time": "2020-12-01T17:27:41.811267",
     "exception": false,
     "start_time": "2020-12-01T17:27:39.240712",
     "status": "completed"
    },
    "tags": []
   },
   "outputs": [],
   "source": [
    "#importing Libraries\n",
    "import seaborn as sns\n",
    "import numpy as np\n",
    "import pandas as pd\n",
    "\n",
    "import torch\n",
    "import torch.nn as nn\n",
    "import torch.nn.functional as F\n",
    "\n",
    "from sklearn.model_selection import train_test_split\n",
    "from sklearn.metrics import accuracy_score\n",
    "from sklearn.metrics import confusion_matrix\n",
    "import matplotlib.pyplot as plt"
   ]
  },
  {
   "cell_type": "markdown",
   "metadata": {
    "papermill": {
     "duration": 0.020096,
     "end_time": "2020-12-01T17:27:41.851804",
     "exception": false,
     "start_time": "2020-12-01T17:27:41.831708",
     "status": "completed"
    },
    "tags": []
   },
   "source": [
    "## Exploratory Data Analysis"
   ]
  },
  {
   "cell_type": "markdown",
   "metadata": {},
   "source": [
    "Load the `diabetes.csv`dataset, that can be found in the `datasets` directory."
   ]
  },
  {
   "cell_type": "code",
   "execution_count": null,
   "metadata": {
    "execution": {
     "iopub.execute_input": "2020-12-01T17:27:41.899762Z",
     "iopub.status.busy": "2020-12-01T17:27:41.898607Z",
     "iopub.status.idle": "2020-12-01T17:27:41.931333Z",
     "shell.execute_reply": "2020-12-01T17:27:41.931935Z"
    },
    "papermill": {
     "duration": 0.060106,
     "end_time": "2020-12-01T17:27:41.932108",
     "exception": false,
     "start_time": "2020-12-01T17:27:41.872002",
     "status": "completed"
    },
    "tags": []
   },
   "outputs": [],
   "source": [
    "df2 = pd.read_csv('datasets/diabetes.csv')\n",
    "df2.head()"
   ]
  },
  {
   "cell_type": "markdown",
   "metadata": {},
   "source": [
    "Check for null values:"
   ]
  },
  {
   "cell_type": "code",
   "execution_count": null,
   "metadata": {
    "execution": {
     "iopub.execute_input": "2020-12-01T17:27:41.988222Z",
     "iopub.status.busy": "2020-12-01T17:27:41.987299Z",
     "iopub.status.idle": "2020-12-01T17:27:41.992056Z",
     "shell.execute_reply": "2020-12-01T17:27:41.991460Z"
    },
    "papermill": {
     "duration": 0.036354,
     "end_time": "2020-12-01T17:27:41.992183",
     "exception": false,
     "start_time": "2020-12-01T17:27:41.955829",
     "status": "completed"
    },
    "tags": []
   },
   "outputs": [],
   "source": [
    "df2.isnull().sum()"
   ]
  },
  {
   "cell_type": "markdown",
   "metadata": {},
   "source": [
    "Show a graph with the count of examples that are `negative` and that are `positive`. You can use the [`barplot`](https://seaborn.pydata.org/generated/seaborn.barplot.html) of the `Seaborn` module. You can use pandas' [`value_counts`](https://pandas.pydata.org/pandas-docs/stable/reference/api/pandas.DataFrame.value_counts.html) function."
   ]
  },
  {
   "cell_type": "code",
   "execution_count": null,
   "metadata": {
    "execution": {
     "iopub.execute_input": "2020-12-01T17:27:42.045524Z",
     "iopub.status.busy": "2020-12-01T17:27:42.044571Z",
     "iopub.status.idle": "2020-12-01T17:27:42.225472Z",
     "shell.execute_reply": "2020-12-01T17:27:42.226023Z"
    },
    "papermill": {
     "duration": 0.211962,
     "end_time": "2020-12-01T17:27:42.226186",
     "exception": false,
     "start_time": "2020-12-01T17:27:42.014224",
     "status": "completed"
    },
    "tags": []
   },
   "outputs": [],
   "source": []
  },
  {
   "cell_type": "markdown",
   "metadata": {},
   "source": [
    "Draw a graph showing the distribution of glucose levels. You can use the [`displot`](https://seaborn.pydata.org/generated/seaborn.displot.html#seaborn.displot)."
   ]
  },
  {
   "cell_type": "code",
   "execution_count": null,
   "metadata": {
    "execution": {
     "iopub.execute_input": "2020-12-01T17:27:42.278218Z",
     "iopub.status.busy": "2020-12-01T17:27:42.277138Z",
     "iopub.status.idle": "2020-12-01T17:27:42.525775Z",
     "shell.execute_reply": "2020-12-01T17:27:42.525155Z"
    },
    "papermill": {
     "duration": 0.27672,
     "end_time": "2020-12-01T17:27:42.525902",
     "exception": false,
     "start_time": "2020-12-01T17:27:42.249182",
     "status": "completed"
    },
    "tags": []
   },
   "outputs": [],
   "source": []
  },
  {
   "cell_type": "markdown",
   "metadata": {},
   "source": [
    "Do the same for the Body Mass Index (BMI) and Blood Pressure."
   ]
  },
  {
   "cell_type": "code",
   "execution_count": null,
   "metadata": {
    "execution": {
     "iopub.execute_input": "2020-12-01T17:27:42.586235Z",
     "iopub.status.busy": "2020-12-01T17:27:42.585225Z",
     "iopub.status.idle": "2020-12-01T17:27:42.846862Z",
     "shell.execute_reply": "2020-12-01T17:27:42.846084Z"
    },
    "papermill": {
     "duration": 0.296638,
     "end_time": "2020-12-01T17:27:42.846986",
     "exception": false,
     "start_time": "2020-12-01T17:27:42.550348",
     "status": "completed"
    },
    "tags": []
   },
   "outputs": [],
   "source": []
  },
  {
   "cell_type": "code",
   "execution_count": null,
   "metadata": {
    "execution": {
     "iopub.execute_input": "2020-12-01T17:27:42.913563Z",
     "iopub.status.busy": "2020-12-01T17:27:42.911449Z",
     "iopub.status.idle": "2020-12-01T17:27:43.177391Z",
     "shell.execute_reply": "2020-12-01T17:27:43.176760Z"
    },
    "papermill": {
     "duration": 0.304389,
     "end_time": "2020-12-01T17:27:43.177529",
     "exception": false,
     "start_time": "2020-12-01T17:27:42.873140",
     "status": "completed"
    },
    "tags": []
   },
   "outputs": [],
   "source": []
  },
  {
   "cell_type": "markdown",
   "metadata": {},
   "source": [
    "Draw a graph with the correlation between features ([`pairplot`](https://seaborn.pydata.org/generated/seaborn.pairplot.html#seaborn.pairplot))."
   ]
  },
  {
   "cell_type": "code",
   "execution_count": null,
   "metadata": {
    "execution": {
     "iopub.execute_input": "2020-12-01T17:27:43.239426Z",
     "iopub.status.busy": "2020-12-01T17:27:43.238710Z",
     "iopub.status.idle": "2020-12-01T17:28:11.507619Z",
     "shell.execute_reply": "2020-12-01T17:28:11.508214Z"
    },
    "papermill": {
     "duration": 28.302852,
     "end_time": "2020-12-01T17:28:11.508378",
     "exception": false,
     "start_time": "2020-12-01T17:27:43.205526",
     "status": "completed"
    },
    "tags": []
   },
   "outputs": [],
   "source": []
  },
  {
   "cell_type": "markdown",
   "metadata": {
    "papermill": {
     "duration": 0.044361,
     "end_time": "2020-12-01T17:28:11.597484",
     "exception": false,
     "start_time": "2020-12-01T17:28:11.553123",
     "status": "completed"
    },
    "tags": []
   },
   "source": [
    "## Training the model\n",
    "\n",
    "Reload the dataset:"
   ]
  },
  {
   "cell_type": "code",
   "execution_count": null,
   "metadata": {
    "execution": {
     "iopub.execute_input": "2020-12-01T17:28:11.693803Z",
     "iopub.status.busy": "2020-12-01T17:28:11.693021Z",
     "iopub.status.idle": "2020-12-01T17:28:11.699699Z",
     "shell.execute_reply": "2020-12-01T17:28:11.698957Z"
    },
    "papermill": {
     "duration": 0.057828,
     "end_time": "2020-12-01T17:28:11.699845",
     "exception": false,
     "start_time": "2020-12-01T17:28:11.642017",
     "status": "completed"
    },
    "tags": []
   },
   "outputs": [],
   "source": [
    " df = pd.read_csv('datasets/diabetes.csv')"
   ]
  },
  {
   "cell_type": "markdown",
   "metadata": {},
   "source": [
    "Separate the independent variables (features) from the label (dependent variable)."
   ]
  },
  {
   "cell_type": "code",
   "execution_count": null,
   "metadata": {
    "execution": {
     "iopub.execute_input": "2020-12-01T17:28:11.796628Z",
     "iopub.status.busy": "2020-12-01T17:28:11.795795Z",
     "iopub.status.idle": "2020-12-01T17:28:11.799408Z",
     "shell.execute_reply": "2020-12-01T17:28:11.798790Z"
    },
    "papermill": {
     "duration": 0.055184,
     "end_time": "2020-12-01T17:28:11.799528",
     "exception": false,
     "start_time": "2020-12-01T17:28:11.744344",
     "status": "completed"
    },
    "tags": []
   },
   "outputs": [],
   "source": [
    "X = df.drop('Outcome' , axis = 1) #independent Feature\n",
    "y = df['Outcome'] #dependent Feature"
   ]
  },
  {
   "cell_type": "markdown",
   "metadata": {},
   "source": [
    "Split the dataset in two datasets: (X_train,y_train), with 80% of the examples and (X_test,y_test) with the remaining 20%. You can use [`train_test_split`](https://scikit-learn.org/stable/modules/generated/sklearn.model_selection.train_test_split.html)."
   ]
  },
  {
   "cell_type": "code",
   "execution_count": null,
   "metadata": {
    "execution": {
     "iopub.execute_input": "2020-12-01T17:28:11.896179Z",
     "iopub.status.busy": "2020-12-01T17:28:11.895387Z",
     "iopub.status.idle": "2020-12-01T17:28:11.900835Z",
     "shell.execute_reply": "2020-12-01T17:28:11.901392Z"
    },
    "papermill": {
     "duration": 0.057187,
     "end_time": "2020-12-01T17:28:11.901555",
     "exception": false,
     "start_time": "2020-12-01T17:28:11.844368",
     "status": "completed"
    },
    "tags": []
   },
   "outputs": [],
   "source": []
  },
  {
   "cell_type": "markdown",
   "metadata": {},
   "source": [
    "To be able to use PyTorch, it is necessary to create the [`tensor`](https://pytorch.org/docs/stable/tensors.html)."
   ]
  },
  {
   "cell_type": "code",
   "execution_count": null,
   "metadata": {
    "execution": {
     "iopub.execute_input": "2020-12-01T17:28:12.009911Z",
     "iopub.status.busy": "2020-12-01T17:28:12.008977Z",
     "iopub.status.idle": "2020-12-01T17:28:12.020881Z",
     "shell.execute_reply": "2020-12-01T17:28:12.020023Z"
    },
    "papermill": {
     "duration": 0.07309,
     "end_time": "2020-12-01T17:28:12.021015",
     "exception": false,
     "start_time": "2020-12-01T17:28:11.947925",
     "status": "completed"
    },
    "tags": []
   },
   "outputs": [],
   "source": [
    "# Creating Tensors\n",
    "X_train=torch.FloatTensor(X_train.values)\n",
    "X_test=torch.FloatTensor(X_test.values)\n",
    "y_train=torch.LongTensor(y_train.values)\n",
    "y_test=torch.LongTensor(y_test.values)"
   ]
  },
  {
   "cell_type": "markdown",
   "metadata": {},
   "source": [
    "### ANN class\n",
    "\n",
    "Create the model using two linear hidden layers and one linear output layer. Also use ReLU activation function."
   ]
  },
  {
   "cell_type": "code",
   "execution_count": null,
   "metadata": {
    "execution": {
     "iopub.execute_input": "2020-12-01T17:28:12.123874Z",
     "iopub.status.busy": "2020-12-01T17:28:12.123027Z",
     "iopub.status.idle": "2020-12-01T17:28:12.126630Z",
     "shell.execute_reply": "2020-12-01T17:28:12.125952Z"
    },
    "papermill": {
     "duration": 0.060283,
     "end_time": "2020-12-01T17:28:12.126759",
     "exception": false,
     "start_time": "2020-12-01T17:28:12.066476",
     "status": "completed"
    },
    "tags": []
   },
   "outputs": [],
   "source": [
    "# Creating the Model\n",
    "# -- Complete the code\n",
    "class ANN_model(nn.Module):\n"
   ]
  },
  {
   "cell_type": "markdown",
   "metadata": {},
   "source": [
    "Instantiate the class."
   ]
  },
  {
   "cell_type": "code",
   "execution_count": null,
   "metadata": {
    "execution": {
     "iopub.execute_input": "2020-12-01T17:28:12.224512Z",
     "iopub.status.busy": "2020-12-01T17:28:12.223705Z",
     "iopub.status.idle": "2020-12-01T17:28:12.246174Z",
     "shell.execute_reply": "2020-12-01T17:28:12.245533Z"
    },
    "papermill": {
     "duration": 0.07346,
     "end_time": "2020-12-01T17:28:12.246303",
     "exception": false,
     "start_time": "2020-12-01T17:28:12.172843",
     "status": "completed"
    },
    "tags": []
   },
   "outputs": [],
   "source": [
    "torch.manual_seed(20)\n",
    "model = ANN_model()"
   ]
  },
  {
   "cell_type": "markdown",
   "metadata": {},
   "source": [
    "Confirm the architecture by printing the parameters:"
   ]
  },
  {
   "cell_type": "code",
   "execution_count": null,
   "metadata": {
    "execution": {
     "iopub.execute_input": "2020-12-01T17:28:12.344116Z",
     "iopub.status.busy": "2020-12-01T17:28:12.343063Z",
     "iopub.status.idle": "2020-12-01T17:28:12.347669Z",
     "shell.execute_reply": "2020-12-01T17:28:12.347074Z"
    },
    "papermill": {
     "duration": 0.055781,
     "end_time": "2020-12-01T17:28:12.347793",
     "exception": false,
     "start_time": "2020-12-01T17:28:12.292012",
     "status": "completed"
    },
    "tags": []
   },
   "outputs": [],
   "source": [
    "model.parameters"
   ]
  },
  {
   "cell_type": "markdown",
   "metadata": {},
   "source": [
    "Use [`CrossEntropyLoss`](https://pytorch.org/docs/stable/generated/torch.nn.CrossEntropyLoss.html?highlight=crossentropyloss#torch.nn.CrossEntropyLoss) as the loss function and the [`Adam`](https://pytorch.org/docs/stable/generated/torch.optim.Adam.html?highlight=adam#torch.optim.Adam) optimizer with  $lr=0.01$."
   ]
  },
  {
   "cell_type": "code",
   "execution_count": null,
   "metadata": {
    "execution": {
     "iopub.execute_input": "2020-12-01T17:28:12.446459Z",
     "iopub.status.busy": "2020-12-01T17:28:12.445692Z",
     "iopub.status.idle": "2020-12-01T17:28:12.448819Z",
     "shell.execute_reply": "2020-12-01T17:28:12.449349Z"
    },
    "papermill": {
     "duration": 0.055582,
     "end_time": "2020-12-01T17:28:12.449498",
     "exception": false,
     "start_time": "2020-12-01T17:28:12.393916",
     "status": "completed"
    },
    "tags": []
   },
   "outputs": [],
   "source": [
    "# Backward Propergation - loss and optimizer\n",
    "loss_function = ...\n",
    "optimizer = ..."
   ]
  },
  {
   "cell_type": "markdown",
   "metadata": {},
   "source": [
    "Train for 500 epocs."
   ]
  },
  {
   "cell_type": "code",
   "execution_count": null,
   "metadata": {
    "execution": {
     "iopub.execute_input": "2020-12-01T17:28:12.551554Z",
     "iopub.status.busy": "2020-12-01T17:28:12.550709Z",
     "iopub.status.idle": "2020-12-01T17:28:13.394248Z",
     "shell.execute_reply": "2020-12-01T17:28:13.394939Z"
    },
    "papermill": {
     "duration": 0.899189,
     "end_time": "2020-12-01T17:28:13.395126",
     "exception": false,
     "start_time": "2020-12-01T17:28:12.495937",
     "status": "completed"
    },
    "tags": []
   },
   "outputs": [],
   "source": [
    "epochs=500\n",
    "final_losses=[]\n",
    "for i in range(epochs):\n",
    "    i= i+1\n",
    "    y_pred=model.forward(X_train)\n",
    "    loss=loss_function(y_pred,y_train)\n",
    "    final_losses.append(loss)\n",
    "    if i % 10 == 1:\n",
    "        print(\"Epoch number: {} and the loss : {}\".format(i,loss.item()))\n",
    "    optimizer.zero_grad()\n",
    "    loss.backward()\n",
    "    optimizer.step()"
   ]
  },
  {
   "cell_type": "markdown",
   "metadata": {},
   "source": [
    "Plot the `final_losses` array to display the cost along the training."
   ]
  },
  {
   "cell_type": "code",
   "execution_count": null,
   "metadata": {
    "execution": {
     "iopub.execute_input": "2020-12-01T17:28:13.507762Z",
     "iopub.status.busy": "2020-12-01T17:28:13.506188Z",
     "iopub.status.idle": "2020-12-01T17:28:13.697338Z",
     "shell.execute_reply": "2020-12-01T17:28:13.696550Z"
    },
    "papermill": {
     "duration": 0.251577,
     "end_time": "2020-12-01T17:28:13.697458",
     "exception": false,
     "start_time": "2020-12-01T17:28:13.445881",
     "status": "completed"
    },
    "tags": []
   },
   "outputs": [],
   "source": [
    "#plot the loss function\n"
   ]
  },
  {
   "cell_type": "markdown",
   "metadata": {},
   "source": [
    "Make the predictions on the `X_test` feature set and store the result in `predictions`."
   ]
  },
  {
   "cell_type": "code",
   "execution_count": null,
   "metadata": {
    "execution": {
     "iopub.execute_input": "2020-12-01T17:28:13.802991Z",
     "iopub.status.busy": "2020-12-01T17:28:13.801989Z",
     "iopub.status.idle": "2020-12-01T17:28:13.831497Z",
     "shell.execute_reply": "2020-12-01T17:28:13.830723Z"
    },
    "papermill": {
     "duration": 0.08486,
     "end_time": "2020-12-01T17:28:13.831637",
     "exception": false,
     "start_time": "2020-12-01T17:28:13.746777",
     "status": "completed"
    },
    "tags": []
   },
   "outputs": [],
   "source": [
    "# Calculate the predictions\n",
    "predictions = []\n"
   ]
  },
  {
   "cell_type": "markdown",
   "metadata": {},
   "source": [
    "### Model evaluation"
   ]
  },
  {
   "cell_type": "markdown",
   "metadata": {},
   "source": [
    "Display the confusion matrix using [`confusion_matrix`](https://scikit-learn.org/stable/modules/generated/sklearn.metrics.confusion_matrix.html) and Seaborn's [`heatmap`](https://seaborn.pydata.org/generated/seaborn.heatmap.html)."
   ]
  },
  {
   "cell_type": "code",
   "execution_count": null,
   "metadata": {
    "execution": {
     "iopub.execute_input": "2020-12-01T17:28:13.947540Z",
     "iopub.status.busy": "2020-12-01T17:28:13.940949Z",
     "iopub.status.idle": "2020-12-01T17:28:14.347418Z",
     "shell.execute_reply": "2020-12-01T17:28:14.348133Z"
    },
    "papermill": {
     "duration": 0.467865,
     "end_time": "2020-12-01T17:28:14.348331",
     "exception": false,
     "start_time": "2020-12-01T17:28:13.880466",
     "status": "completed"
    },
    "tags": []
   },
   "outputs": [],
   "source": [
    "# Confusion matrix"
   ]
  },
  {
   "cell_type": "markdown",
   "metadata": {},
   "source": [
    "Finally, display the accuracy score ([`accuracy_score`](https://scikit-learn.org/stable/modules/generated/sklearn.metrics.accuracy_score.html))."
   ]
  },
  {
   "cell_type": "code",
   "execution_count": null,
   "metadata": {
    "execution": {
     "iopub.execute_input": "2020-12-01T17:28:14.471443Z",
     "iopub.status.busy": "2020-12-01T17:28:14.470476Z",
     "iopub.status.idle": "2020-12-01T17:28:14.476850Z",
     "shell.execute_reply": "2020-12-01T17:28:14.476031Z"
    },
    "papermill": {
     "duration": 0.063377,
     "end_time": "2020-12-01T17:28:14.477002",
     "exception": false,
     "start_time": "2020-12-01T17:28:14.413625",
     "status": "completed"
    },
    "tags": []
   },
   "outputs": [],
   "source": [
    "#Accuracy\n"
   ]
  }
 ],
 "metadata": {
  "kernelspec": {
   "display_name": "Python 3 (ipykernel)",
   "language": "python",
   "name": "python3"
  },
  "language_info": {
   "codemirror_mode": {
    "name": "ipython",
    "version": 3
   },
   "file_extension": ".py",
   "mimetype": "text/x-python",
   "name": "python",
   "nbconvert_exporter": "python",
   "pygments_lexer": "ipython3",
   "version": "3.9.6"
  },
  "papermill": {
   "duration": 40.826597,
   "end_time": "2020-12-01T17:28:14.640451",
   "environment_variables": {},
   "exception": null,
   "input_path": "__notebook__.ipynb",
   "output_path": "__notebook__.ipynb",
   "parameters": {},
   "start_time": "2020-12-01T17:27:33.813854",
   "version": "2.1.0"
  }
 },
 "nbformat": 4,
 "nbformat_minor": 4
}
