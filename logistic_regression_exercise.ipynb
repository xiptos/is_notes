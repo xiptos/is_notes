{
 "cells": [
  {
   "cell_type": "markdown",
   "source": [
    "[![Open In Colab](https://colab.research.google.com/assets/colab-badge.svg)](https://colab.research.google.com/github/xiptos/is_notes/blob/main/logistic_regression_exercise.ipynb)"
   ],
   "metadata": {
    "collapsed": false
   },
   "id": "51b320e25ff0d581"
  },
  {
   "cell_type": "markdown",
   "source": [
    "# Multiple variable binary classification\n",
    "\n",
    "This exercise is an introduction to logistic regression, using the brest cancer dataset dataset."
   ],
   "metadata": {
    "collapsed": false
   },
   "id": "1e2d22d0-33dd-4ea1-933c-07e24a94dac0"
  },
  {
   "cell_type": "markdown",
   "id": "4b66ef95-99fa-4ab3-9d9e-b8f13a3d4d12",
   "metadata": {},
   "source": [
    "## Dataset\n",
    "\n",
    "Loading the dataset. We will be using the [Brest Cancer Wisconsin (Diagnostic)](https://archive.ics.uci.edu/dataset/17/breast+cancer+wisconsin+diagnostic), downloaded from the [Scikit Datasets](https://scikit-learn.org/stable/modules/generated/sklearn.datasets.load_breast_cancer.html#sklearn.datasets.load_breast_cancer)"
   ]
  },
  {
   "cell_type": "code",
   "execution_count": null,
   "id": "68f89b71-948a-4b56-8d5f-42b4fc1bf84b",
   "metadata": {},
   "outputs": [],
   "source": [
    "from sklearn.datasets import load_breast_cancer\n",
    "import pandas as pd\n",
    "import seaborn as sns\n",
    "\n",
    "X,y = load_breast_cancer(return_X_y=True,as_frame=True)\n",
    "df = X\n",
    "df['diagnosis'] = y"
   ]
  },
  {
   "cell_type": "markdown",
   "id": "6ee82de3-52bc-44b5-ac6b-3bae646b3d4f",
   "metadata": {},
   "source": [
    "Check the dataframe shape as well as the content."
   ]
  },
  {
   "cell_type": "code",
   "execution_count": null,
   "id": "1e7dd9c2-a616-474b-a4f4-cec02c158556",
   "metadata": {},
   "outputs": [],
   "source": []
  },
  {
   "cell_type": "code",
   "execution_count": null,
   "outputs": [],
   "source": [],
   "metadata": {
    "collapsed": false
   },
   "id": "1b5aa111dc065e9"
  },
  {
   "cell_type": "markdown",
   "source": [
    "Also get some info about the dataset"
   ],
   "metadata": {
    "collapsed": false
   },
   "id": "ff8960ce6e9d4e88"
  },
  {
   "cell_type": "code",
   "execution_count": null,
   "outputs": [],
   "source": [],
   "metadata": {
    "collapsed": false
   },
   "id": "7ffe3e1fc776df6c"
  },
  {
   "cell_type": "markdown",
   "source": [
    "Use descriptive statistics to get information about the `X` dataset"
   ],
   "metadata": {
    "collapsed": false
   },
   "id": "95a3c55eb783427"
  },
  {
   "cell_type": "code",
   "execution_count": null,
   "outputs": [],
   "source": [],
   "metadata": {
    "collapsed": false
   },
   "id": "e51375f696ff3ffb"
  },
  {
   "cell_type": "markdown",
   "source": [
    "Check for missing values"
   ],
   "metadata": {
    "collapsed": false
   },
   "id": "49d13a71d367380a"
  },
  {
   "cell_type": "code",
   "execution_count": null,
   "outputs": [],
   "source": [],
   "metadata": {
    "collapsed": false
   },
   "id": "832653c54b6df5fd"
  },
  {
   "cell_type": "markdown",
   "source": [
    "## Univariate analysis"
   ],
   "metadata": {
    "collapsed": false
   },
   "id": "6bb95774781b0d9a"
  },
  {
   "cell_type": "markdown",
   "source": [
    "Plot the histogram of the labels `df['diagnosis']`"
   ],
   "metadata": {
    "collapsed": false
   },
   "id": "35bb79d74f30beb6"
  },
  {
   "cell_type": "code",
   "execution_count": null,
   "outputs": [],
   "source": [],
   "metadata": {
    "collapsed": false
   },
   "id": "28dbe9da67b90e6c"
  },
  {
   "cell_type": "markdown",
   "source": [
    "## Positive Correlation\n",
    "\n",
    "Plot, using seaborn, scatterplots of the following variables, considering the label `df['diagnosis']` as the `hue`:\n",
    "- `mean perimeter` vs. `worst radius`\n",
    "- `mean area` vs. `worst radius`\n",
    "- `mean texture` vs. `worst texture`\n",
    "- `worst area` vs. `worst radius`"
   ],
   "metadata": {
    "collapsed": false
   },
   "id": "fb4231412483e06a"
  },
  {
   "cell_type": "code",
   "execution_count": null,
   "outputs": [],
   "source": [],
   "metadata": {
    "collapsed": false
   },
   "id": "8d168072f657850"
  },
  {
   "cell_type": "markdown",
   "source": [
    "## Negative Correlation\n",
    "\n",
    "Plot, using seaborn, scatterplots of the following variables, considering the label `df['diagnosis']` as the `hue`:\n",
    "- `mean area` vs. `mean fractal dimention`\n",
    "- `mean radius` vs. `smoothness error`\n",
    "- `smoothness error` vs. `mean perimeter`\n",
    "- `mean area` vs. `smoothness error`"
   ],
   "metadata": {
    "collapsed": false
   },
   "id": "b0e7fc362fd336f3"
  },
  {
   "cell_type": "code",
   "execution_count": null,
   "outputs": [],
   "source": [],
   "metadata": {
    "collapsed": false
   },
   "id": "dc356867d3a27ee7"
  },
  {
   "cell_type": "markdown",
   "source": [
    "## Distribution plot\n",
    "\n",
    "Plot the histogram of the `mean radius`."
   ],
   "metadata": {
    "collapsed": false
   },
   "id": "a373e61ddf2bc728"
  },
  {
   "cell_type": "code",
   "execution_count": null,
   "outputs": [],
   "source": [],
   "metadata": {
    "collapsed": false
   },
   "id": "566fe84619105a47"
  },
  {
   "cell_type": "markdown",
   "source": [
    "## Correlation Matrix\n",
    "\n",
    "Plot the correlation matrix using seaborn heatmap."
   ],
   "metadata": {
    "collapsed": false
   },
   "id": "127d71e7d55999d2"
  },
  {
   "cell_type": "code",
   "execution_count": null,
   "outputs": [],
   "source": [],
   "metadata": {
    "collapsed": false
   },
   "id": "82e6e86c18ade469"
  },
  {
   "cell_type": "markdown",
   "source": [
    "# Data Preprocessing\n",
    "\n",
    "Encode the labels `y` with scikit learn `LabelEncoder`."
   ],
   "metadata": {
    "collapsed": false
   },
   "id": "a7cff4d67af9d3ef"
  },
  {
   "cell_type": "code",
   "execution_count": null,
   "outputs": [],
   "source": [],
   "metadata": {
    "collapsed": false
   },
   "id": "ddf425d35d21beca"
  },
  {
   "cell_type": "markdown",
   "source": [
    "## Train Test Split\n",
    "\n",
    "Split `X` and `y` into a training and testing sets, with 10% testing size."
   ],
   "metadata": {
    "collapsed": false
   },
   "id": "749d99c3b779814c"
  },
  {
   "cell_type": "code",
   "execution_count": null,
   "outputs": [],
   "source": [],
   "metadata": {
    "collapsed": false
   },
   "id": "aa753beef38410b8"
  },
  {
   "cell_type": "markdown",
   "source": [
    "## Feature scaling\n",
    "\n",
    "Normalize the fratures using scikit learn `StandardScaler`"
   ],
   "metadata": {
    "collapsed": false
   },
   "id": "b614ff07dfb3c4c6"
  },
  {
   "cell_type": "code",
   "execution_count": null,
   "outputs": [],
   "source": [],
   "metadata": {
    "collapsed": false
   },
   "id": "6397257052eab5bf"
  },
  {
   "cell_type": "code",
   "execution_count": null,
   "outputs": [],
   "source": [],
   "metadata": {
    "collapsed": false
   },
   "id": "5212d8c3ebd9a51f"
  },
  {
   "cell_type": "markdown",
   "source": [
    "# Train the model\n",
    "\n",
    "Train a logistic model for predicting the diagnosis of brest cancer using the features of the dataset."
   ],
   "metadata": {
    "collapsed": false
   },
   "id": "c8a75e7286a426fe"
  },
  {
   "cell_type": "code",
   "execution_count": null,
   "outputs": [],
   "source": [],
   "metadata": {
    "collapsed": false
   },
   "id": "f9dfb11bb0dfe075"
  },
  {
   "cell_type": "markdown",
   "source": [
    "# Evaluate the model"
   ],
   "metadata": {
    "collapsed": false
   },
   "id": "94656f8b030ba3dc"
  },
  {
   "cell_type": "markdown",
   "source": [
    "Calculate the predictions `y_pred` for the `X_test` set."
   ],
   "metadata": {
    "collapsed": false
   },
   "id": "1efff928cd7364fa"
  },
  {
   "cell_type": "code",
   "execution_count": null,
   "outputs": [],
   "source": [],
   "metadata": {
    "collapsed": false
   },
   "id": "4e008e125ccf439d"
  },
  {
   "cell_type": "markdown",
   "source": [
    "Print the accuracy using scikit metrics `accuracy_score` function. "
   ],
   "metadata": {
    "collapsed": false
   },
   "id": "4490bdfd114507f4"
  },
  {
   "cell_type": "code",
   "execution_count": null,
   "outputs": [],
   "source": [],
   "metadata": {
    "collapsed": false
   },
   "id": "6ac04da7d8676568"
  },
  {
   "cell_type": "markdown",
   "source": [
    "Print the confusion matrix using scikit metrics' `confusion_matrix` function"
   ],
   "metadata": {
    "collapsed": false
   },
   "id": "df3d6d91d17cde6f"
  },
  {
   "cell_type": "code",
   "execution_count": null,
   "outputs": [],
   "source": [],
   "metadata": {
    "collapsed": false
   },
   "id": "23859882c00e5a7"
  },
  {
   "cell_type": "markdown",
   "source": [
    "Finally, plot the confusion matrix using seaborn's `heatmap`."
   ],
   "metadata": {
    "collapsed": false
   },
   "id": "5f540568e17a3530"
  },
  {
   "cell_type": "code",
   "execution_count": null,
   "outputs": [],
   "source": [],
   "metadata": {
    "collapsed": false
   },
   "id": "f4ce9581c7d0419f"
  }
 ],
 "metadata": {
  "kernelspec": {
   "display_name": "Python 3 (ipykernel)",
   "language": "python",
   "name": "python3"
  },
  "language_info": {
   "codemirror_mode": {
    "name": "ipython",
    "version": 3
   },
   "file_extension": ".py",
   "mimetype": "text/x-python",
   "name": "python",
   "nbconvert_exporter": "python",
   "pygments_lexer": "ipython3",
   "version": "3.9.6"
  }
 },
 "nbformat": 4,
 "nbformat_minor": 5
}
