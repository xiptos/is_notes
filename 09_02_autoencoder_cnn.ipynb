{
 "cells": [
  {
   "cell_type": "markdown",
   "id": "385f8726",
   "metadata": {},
   "source": [
    "# Convolution Autoencoders (CAE)"
   ]
  },
  {
   "cell_type": "markdown",
   "id": "8cd2e2e8",
   "metadata": {},
   "source": [
    "Import the libraries"
   ]
  },
  {
   "cell_type": "code",
   "execution_count": null,
   "id": "7135b2c7",
   "metadata": {},
   "outputs": [],
   "source": [
    "import torch\n",
    "from torchvision import datasets\n",
    "from torchvision import transforms\n",
    "import matplotlib.pyplot as plt\n",
    "import os\n",
    "from torchvision.utils import save_image\n",
    "\n",
    "from os.path import exists"
   ]
  },
  {
   "cell_type": "markdown",
   "id": "12d71586",
   "metadata": {},
   "source": [
    "Utility functions, to store the temporary images and to convert matrix shape."
   ]
  },
  {
   "cell_type": "code",
   "execution_count": null,
   "id": "8f9b7ffd",
   "metadata": {},
   "outputs": [],
   "source": [
    "if not os.path.exists('./mlp_img'):\n",
    "    os.mkdir('./mlp_img')\n",
    "    \n",
    "def to_img(x):\n",
    "    x = 0.5 * (x + 1)\n",
    "    x = x.clamp(0, 1)\n",
    "    x = x.view(x.size(0), 1, 28, 28)\n",
    "    return x"
   ]
  },
  {
   "cell_type": "markdown",
   "id": "4679236e",
   "metadata": {},
   "source": [
    "## Dataset"
   ]
  },
  {
   "cell_type": "code",
   "execution_count": null,
   "id": "75bd185e",
   "metadata": {},
   "outputs": [],
   "source": [
    "num_epochs = 100\n",
    "batch_size = 128\n",
    "learning_rate = 1e-3\n",
    "\n",
    "# Transforms images to a PyTorch Tensor\n",
    "img_transform = transforms.Compose([\n",
    "    transforms.ToTensor(),\n",
    "    transforms.Normalize(0.5,0.5)\n",
    "])\n",
    "\n",
    "# Download the MNIST Dataset\n",
    "dataset = datasets.MNIST(root = \"./data\", train = True,download = True,transform = img_transform)\n",
    "\n",
    "# DataLoader is used to load the dataset\n",
    "# for training\n",
    "loader = torch.utils.data.DataLoader(dataset = dataset,batch_size = batch_size,shuffle = True)"
   ]
  },
  {
   "cell_type": "markdown",
   "id": "c90f5516",
   "metadata": {},
   "source": [
    "## Model"
   ]
  },
  {
   "cell_type": "code",
   "execution_count": null,
   "id": "b84df905",
   "metadata": {},
   "outputs": [],
   "source": [
    "is_cuda = torch.cuda.is_available()\n",
    "\n",
    "# If we have a GPU available, we'll set our device to GPU. We'll use this device variable later in our code.\n",
    "if is_cuda:\n",
    "    device = torch.device(\"cuda\")\n",
    "    print(\"GPU is available\")\n",
    "else:\n",
    "    device = torch.device(\"cpu\")\n",
    "    print(\"GPU not available, CPU used\")"
   ]
  },
  {
   "cell_type": "code",
   "execution_count": null,
   "id": "4015083d",
   "metadata": {},
   "outputs": [],
   "source": [
    "# Creating a PyTorch class\n",
    "class AE(torch.nn.Module):\n",
    "    def __init__(self):\n",
    "        super().__init__()\n",
    "\n",
    "        # Building an linear encoder with Linear\n",
    "        # layer followed by Relu activation function\n",
    "        # 784 ==> 9\n",
    "        self.encoder = torch.nn.Sequential(\n",
    "            torch.nn.Conv2d(1,16,3),\n",
    "            torch.nn.MaxPool2d(2),\n",
    "            torch.nn.ReLU(),\n",
    "            torch.nn.Conv2d(16,8,3),\n",
    "            torch.nn.MaxPool2d(2),\n",
    "            torch.nn.ReLU(),\n",
    "            torch.nn.Conv2d(8,3,3),\n",
    "            torch.nn.ReLU()\n",
    "        )\n",
    "        self.decoder = torch.nn.Sequential(\n",
    "            torch.nn.Upsample(scale_factor=2),\n",
    "            torch.nn.Conv2d(3,16,3),\n",
    "            torch.nn.ReLU(),\n",
    "            torch.nn.Upsample(scale_factor=2),\n",
    "            torch.nn.Conv2d(16,1,3),\n",
    "            torch.nn.ReLU()\n",
    "        )\n",
    "\n",
    "    def forward(self, x):\n",
    "        encoded = self.encoder(x)\n",
    "        decoded = self.decoder(encoded)\n",
    "        return encoded,decoded"
   ]
  },
  {
   "cell_type": "code",
   "execution_count": null,
   "id": "f0d54d97",
   "metadata": {},
   "outputs": [],
   "source": [
    "# Model Initialization\n",
    "model = AE()\n",
    "#moving to gpu\n",
    "model.to(device)\n",
    "\n",
    "# Validation using MSE Loss function\n",
    "loss_function = torch.nn.MSELoss()\n",
    "\n",
    "# Using an Adam Optimizer with lr = 0.1\n",
    "optimizer = torch.optim.Adam(model.parameters(),lr = learning_rate,weight_decay = 1e-5)"
   ]
  },
  {
   "cell_type": "markdown",
   "id": "bff0b93b",
   "metadata": {},
   "source": [
    "## Training/Loading"
   ]
  },
  {
   "cell_type": "code",
   "execution_count": null,
   "id": "ab848d5c",
   "metadata": {},
   "outputs": [],
   "source": [
    "model_file = \"cae_3.pth\""
   ]
  },
  {
   "cell_type": "code",
   "execution_count": null,
   "id": "02664450",
   "metadata": {},
   "outputs": [],
   "source": [
    "if exists(model_file):\n",
    "    model.load_state_dict(torch.load(model_file))\n",
    "    model.eval()\n",
    "else:\n",
    "    losses = []\n",
    "    for epoch in range(num_epochs):\n",
    "        for data in loader:\n",
    "            image, label = data\n",
    "\n",
    "            # Reshaping the image to (-1, 784)\n",
    "#            image = image.view(image.size(0), -1)\n",
    "            #image = image.reshape(-1, 28*28)\n",
    "\n",
    "            # Output of Autoencoder\n",
    "            image = image.to(device)\n",
    "\n",
    "            _,reconstructed = model(image)\n",
    "\n",
    "            # Calculating the loss function\n",
    "            loss = loss_function(reconstructed, image)\n",
    "\n",
    "            # The gradients are set to zero,\n",
    "            # the the gradient is computed and stored.\n",
    "            # .step() performs parameter update\n",
    "            optimizer.zero_grad()\n",
    "            loss.backward()\n",
    "            optimizer.step()\n",
    "\n",
    "            # Storing the losses in a list for plotting\n",
    "            losses.append(loss)\n",
    "        print('epoch [{}/{}], loss:{:.4f}'.format(epoch + 1, num_epochs, loss.data))\n",
    "        if epoch % 10 == 0:\n",
    "            pic = to_img(reconstructed.cpu().data)\n",
    "            save_image(pic, './mlp_img/image_{}.png'.format(epoch))\n",
    "\n",
    "    torch.save(model.state_dict(), model_file)\n",
    "    model.eval()\n",
    "    # Defining the Plot Style\n",
    "    plt.style.use('fivethirtyeight')\n",
    "    plt.xlabel('Iterations')\n",
    "    plt.ylabel('Loss')\n",
    "\n",
    "    # Plotting the last 100 values\n",
    "    plt.plot(losses[-100:])"
   ]
  },
  {
   "cell_type": "markdown",
   "id": "efb9466e",
   "metadata": {},
   "source": [
    "## Display sample images"
   ]
  },
  {
   "cell_type": "code",
   "execution_count": null,
   "id": "f81426dc",
   "metadata": {},
   "outputs": [],
   "source": [
    "import random\n",
    "import numpy as np\n",
    "from mpl_toolkits.axes_grid1 import ImageGrid\n",
    "model.eval()\n",
    "model.to(\"cpu\")\n",
    "fig = plt.figure(figsize=(20., 5.))\n",
    "grid = ImageGrid(fig, 111,  # similar to subplot(111)\n",
    "                 nrows_ncols=(2, 10),  # creates 2x2 grid of axes\n",
    "                 axes_pad=0.1,  # pad between axes in inch.\n",
    "                 )\n",
    "\n",
    "\n",
    "for i in range(10):\n",
    "    image,_ = dataset.__getitem__(random.randint(1,37000))\n",
    "\n",
    "    img = image.reshape(-1, 28*28)\n",
    "    _,reconstructed = model(img)\n",
    "    item = reconstructed.reshape(-1, 28, 28)\n",
    "    item = item.detach().numpy()\n",
    "\n",
    "    # Iterating over the grid returns the Axes.\n",
    "    grid[i].imshow(image[0])\n",
    "    grid[i].grid(False)\n",
    "    grid[10+i].imshow(item[0])\n",
    "    grid[10+i].grid(False)\n",
    "\n",
    "\n",
    "plt.savefig(\"cae_nums.png\",transparent=True)\n",
    "plt.show()"
   ]
  }
 ],
 "metadata": {
  "kernelspec": {
   "display_name": "Python 3 (ipykernel)",
   "language": "python",
   "name": "python3"
  },
  "language_info": {
   "codemirror_mode": {
    "name": "ipython",
    "version": 3
   },
   "file_extension": ".py",
   "mimetype": "text/x-python",
   "name": "python",
   "nbconvert_exporter": "python",
   "pygments_lexer": "ipython3",
   "version": "3.8.8"
  }
 },
 "nbformat": 4,
 "nbformat_minor": 5
}
